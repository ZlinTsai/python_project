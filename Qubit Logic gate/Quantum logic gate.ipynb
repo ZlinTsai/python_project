{
 "cells": [
  {
   "cell_type": "code",
   "execution_count": 1,
   "id": "31c7587f",
   "metadata": {},
   "outputs": [],
   "source": [
    "import numpy as np"
   ]
  },
  {
   "cell_type": "code",
   "execution_count": 38,
   "id": "0605210a",
   "metadata": {},
   "outputs": [],
   "source": [
    "m = np.array([[1, 0, 0, 0], [0, 0, 0, 1], [0, 0, 1, 0], [0, 1, 0, 0]])\n",
    "U = np.matrix(m)"
   ]
  },
  {
   "cell_type": "code",
   "execution_count": 39,
   "id": "41377e20",
   "metadata": {},
   "outputs": [
    {
     "data": {
      "text/plain": [
       "matrix([[1, 0, 0, 0],\n",
       "        [0, 0, 0, 1],\n",
       "        [0, 0, 1, 0],\n",
       "        [0, 1, 0, 0]])"
      ]
     },
     "execution_count": 39,
     "metadata": {},
     "output_type": "execute_result"
    }
   ],
   "source": [
    "U"
   ]
  },
  {
   "cell_type": "code",
   "execution_count": 40,
   "id": "e1597a9a",
   "metadata": {},
   "outputs": [
    {
     "data": {
      "text/plain": [
       "matrix([[1, 0, 0, 0],\n",
       "        [0, 0, 0, 1],\n",
       "        [0, 0, 1, 0],\n",
       "        [0, 1, 0, 0]])"
      ]
     },
     "execution_count": 40,
     "metadata": {},
     "output_type": "execute_result"
    }
   ],
   "source": [
    "U_H = U.getH()\n",
    "U_H"
   ]
  },
  {
   "cell_type": "code",
   "execution_count": 41,
   "id": "d13e8dca",
   "metadata": {},
   "outputs": [
    {
     "data": {
      "text/plain": [
       "matrix([[1, 0, 0, 0],\n",
       "        [0, 1, 0, 0],\n",
       "        [0, 0, 1, 0],\n",
       "        [0, 0, 0, 1]])"
      ]
     },
     "execution_count": 41,
     "metadata": {},
     "output_type": "execute_result"
    }
   ],
   "source": [
    "U_H * U"
   ]
  },
  {
   "cell_type": "code",
   "execution_count": 51,
   "id": "760c4a3f",
   "metadata": {},
   "outputs": [
    {
     "data": {
      "text/plain": [
       "array([ 1., -1.,  1.,  1.])"
      ]
     },
     "execution_count": 51,
     "metadata": {},
     "output_type": "execute_result"
    }
   ],
   "source": [
    "EigVal, EigState = np.linalg.eig(U)\n",
    "EigVal"
   ]
  },
  {
   "cell_type": "code",
   "execution_count": 52,
   "id": "42157c4e",
   "metadata": {},
   "outputs": [
    {
     "data": {
      "text/plain": [
       "matrix([[ 0.        ,  0.        ,  1.        ,  0.        ],\n",
       "        [ 0.70710678,  0.70710678,  0.        ,  0.        ],\n",
       "        [ 0.        ,  0.        ,  0.        ,  1.        ],\n",
       "        [ 0.70710678, -0.70710678,  0.        ,  0.        ]])"
      ]
     },
     "execution_count": 52,
     "metadata": {},
     "output_type": "execute_result"
    }
   ],
   "source": [
    "EigState"
   ]
  },
  {
   "cell_type": "code",
   "execution_count": 59,
   "id": "25826ce4",
   "metadata": {},
   "outputs": [
    {
     "data": {
      "text/plain": [
       "matrix([[1.+0.j, 0.+0.j, 0.+0.j, 0.+0.j],\n",
       "        [0.+0.j, 0.+1.j, 0.+0.j, 0.+0.j],\n",
       "        [0.+0.j, 0.+0.j, 1.+0.j, 0.+0.j],\n",
       "        [0.+0.j, 0.+0.j, 0.+0.j, 1.+0.j]])"
      ]
     },
     "execution_count": 59,
     "metadata": {},
     "output_type": "execute_result"
    }
   ],
   "source": [
    "a = np.array([[1, 0, 0, 0], [0, 0, 0, 0], [0, 0, 1, 0], [0, 0, 0, 1]])\n",
    "a = np.matrix(a)\n",
    "\n",
    "b = np.array([[0, 0, 0, 0], [0, 1, 0, 0], [0, 0, 0, 0], [0, 0, 0, 0]])\n",
    "b = np.matrix(b)\n",
    "\n",
    "sqrt_EigVal = a + 1j*b\n",
    "sqrt_EigVal"
   ]
  },
  {
   "cell_type": "code",
   "execution_count": 61,
   "id": "63e5b335",
   "metadata": {},
   "outputs": [
    {
     "data": {
      "text/plain": [
       "matrix([[1. +0.j , 0. +0.j , 0. +0.j , 0. +0.j ],\n",
       "        [0. +0.j , 0.5+0.5j, 0. +0.j , 0.5-0.5j],\n",
       "        [0. +0.j , 0. +0.j , 1. +0.j , 0. +0.j ],\n",
       "        [0. +0.j , 0.5-0.5j, 0. +0.j , 0.5+0.5j]])"
      ]
     },
     "execution_count": 61,
     "metadata": {},
     "output_type": "execute_result"
    }
   ],
   "source": [
    "ans = EigState*(sqrt_EigVal*EigState.getI())\n",
    "ans"
   ]
  },
  {
   "cell_type": "code",
   "execution_count": 62,
   "id": "fe542ae3",
   "metadata": {},
   "outputs": [
    {
     "data": {
      "text/plain": [
       "matrix([[1.+0.j, 0.+0.j, 0.+0.j, 0.+0.j],\n",
       "        [0.+0.j, 0.+0.j, 0.+0.j, 1.+0.j],\n",
       "        [0.+0.j, 0.+0.j, 1.+0.j, 0.+0.j],\n",
       "        [0.+0.j, 1.+0.j, 0.+0.j, 0.+0.j]])"
      ]
     },
     "execution_count": 62,
     "metadata": {},
     "output_type": "execute_result"
    }
   ],
   "source": [
    "ans*ans"
   ]
  },
  {
   "cell_type": "code",
   "execution_count": 30,
   "id": "0aebe5f2",
   "metadata": {},
   "outputs": [
    {
     "data": {
      "text/plain": [
       "matrix([[1. +0.j , 0. +0.j , 0. +0.j , 0. +0.j ],\n",
       "        [0. +0.j , 0.5+0.5j, 0.5-0.5j, 0. +0.j ],\n",
       "        [0. +0.j , 0.5-0.5j, 0.5+0.5j, 0. +0.j ],\n",
       "        [0. +0.j , 0. +0.j , 0. +0.j , 1. +0.j ]])"
      ]
     },
     "execution_count": 30,
     "metadata": {},
     "output_type": "execute_result"
    }
   ],
   "source": [
    "s = np.array([[1, 0, 0, 0], [0, 0.5, 0.5, 0], [0, 0.5, 0.5, 0], [0, 0, 0, 1]])\n",
    "S = np.matrix(s)\n",
    "\n",
    "js = np.array([[0, 0, 0, 0], [0, 0.5, -0.5, 0], [0, -0.5, 0.5, 0], [0, 0, 0, 0]])\n",
    "SWAP = S + 1j*js\n",
    "SWAP"
   ]
  },
  {
   "cell_type": "code",
   "execution_count": 37,
   "id": "2269cfc0",
   "metadata": {},
   "outputs": [
    {
     "data": {
      "text/plain": [
       "matrix([[1.+0.j, 0.+0.j, 0.+0.j, 0.+0.j],\n",
       "        [0.+0.j, 0.+0.j, 1.+0.j, 0.+0.j],\n",
       "        [0.+0.j, 1.+0.j, 0.+0.j, 0.+0.j],\n",
       "        [0.+0.j, 0.+0.j, 0.+0.j, 1.+0.j]])"
      ]
     },
     "execution_count": 37,
     "metadata": {},
     "output_type": "execute_result"
    }
   ],
   "source": [
    "SS = SWAP*SWAP\n",
    "SS"
   ]
  },
  {
   "cell_type": "code",
   "execution_count": null,
   "id": "690dc177",
   "metadata": {},
   "outputs": [],
   "source": []
  }
 ],
 "metadata": {
  "kernelspec": {
   "display_name": "Python 3",
   "language": "python",
   "name": "python3"
  },
  "language_info": {
   "codemirror_mode": {
    "name": "ipython",
    "version": 3
   },
   "file_extension": ".py",
   "mimetype": "text/x-python",
   "name": "python",
   "nbconvert_exporter": "python",
   "pygments_lexer": "ipython3",
   "version": "3.8.8"
  }
 },
 "nbformat": 4,
 "nbformat_minor": 5
}
