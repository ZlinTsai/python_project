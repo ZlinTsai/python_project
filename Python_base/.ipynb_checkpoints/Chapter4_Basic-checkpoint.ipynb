{
 "cells": [
  {
   "cell_type": "markdown",
   "id": "5f417ec9",
   "metadata": {},
   "source": [
    "# 4. 基本中的基本\n",
    "\n",
    "## 縮排 4個空白 & Tab => 不同的縮牌會導致 IndentationError\n",
    "\n",
    "## 註解是 ‵#‵"
   ]
  },
  {
   "cell_type": "markdown",
   "id": "e0d27aa3",
   "metadata": {},
   "source": [
    "## 變數是水桶還是標籤?\n",
    "\n",
    "* C/C++ 的 變數X = 87，其X為水桶\n",
    "* Python 的 變數X = 87，其X為標籤，請考慮 mutable & immutable object"
   ]
  },
  {
   "cell_type": "code",
   "execution_count": 4,
   "id": "628d10a2",
   "metadata": {},
   "outputs": [
    {
     "name": "stdout",
     "output_type": "stream",
     "text": [
      "[0] [0]\n"
     ]
    }
   ],
   "source": [
    "# mutable  => 變\n",
    "x = [87]\n",
    "y = x\n",
    "x[0] = 0\n",
    "print(x, y)"
   ]
  },
  {
   "cell_type": "code",
   "execution_count": 5,
   "id": "4cebb963",
   "metadata": {},
   "outputs": [
    {
     "name": "stdout",
     "output_type": "stream",
     "text": [
      "0 87\n"
     ]
    }
   ],
   "source": [
    "# immutable => 不變\n",
    "x = 87\n",
    "y = x\n",
    "x = 0\n",
    "print(x, y)"
   ]
  },
  {
   "cell_type": "code",
   "execution_count": 6,
   "id": "aaef1419",
   "metadata": {},
   "outputs": [],
   "source": [
    "del x"
   ]
  },
  {
   "cell_type": "code",
   "execution_count": 7,
   "id": "a487fec6",
   "metadata": {},
   "outputs": [
    {
     "ename": "NameError",
     "evalue": "name 'x' is not defined",
     "output_type": "error",
     "traceback": [
      "\u001b[0;31m---------------------------------------------------------------------------\u001b[0m",
      "\u001b[0;31mNameError\u001b[0m                                 Traceback (most recent call last)",
      "Input \u001b[0;32mIn [7]\u001b[0m, in \u001b[0;36m<cell line: 1>\u001b[0;34m()\u001b[0m\n\u001b[0;32m----> 1\u001b[0m \u001b[43mx\u001b[49m\n",
      "\u001b[0;31mNameError\u001b[0m: name 'x' is not defined"
     ]
    }
   ],
   "source": [
    "x"
   ]
  },
  {
   "cell_type": "markdown",
   "id": "f060eb5e",
   "metadata": {},
   "source": [
    "## 4.4 運算式\n",
    "```\n",
    "+  家\n",
    "-  減\n",
    "*  乘\n",
    "/  除\n",
    "// 取商\n",
    "```"
   ]
  },
  {
   "cell_type": "code",
   "execution_count": 9,
   "id": "591c122a",
   "metadata": {},
   "outputs": [
    {
     "data": {
      "text/plain": [
       "20.0"
      ]
     },
     "execution_count": 9,
     "metadata": {},
     "output_type": "execute_result"
    }
   ],
   "source": [
    "x = 2 + 4 * 5 - 6 / 3\n",
    "x"
   ]
  },
  {
   "cell_type": "code",
   "execution_count": null,
   "id": "8a17ffd6",
   "metadata": {},
   "outputs": [],
   "source": []
  }
 ],
 "metadata": {
  "kernelspec": {
   "display_name": "Python 3 (ipykernel)",
   "language": "python",
   "name": "python3"
  },
  "language_info": {
   "codemirror_mode": {
    "name": "ipython",
    "version": 3
   },
   "file_extension": ".py",
   "mimetype": "text/x-python",
   "name": "python",
   "nbconvert_exporter": "python",
   "pygments_lexer": "ipython3",
   "version": "3.8.8"
  }
 },
 "nbformat": 4,
 "nbformat_minor": 5
}
