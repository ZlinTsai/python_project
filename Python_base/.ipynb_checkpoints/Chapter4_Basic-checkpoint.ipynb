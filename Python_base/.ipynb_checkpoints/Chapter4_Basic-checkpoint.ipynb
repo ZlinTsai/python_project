{
 "cells": [
  {
   "cell_type": "markdown",
   "id": "5f417ec9",
   "metadata": {},
   "source": [
    "# 4. 基本中的基本\n",
    "\n",
    "## 縮排 4個空白 & Tab => 不同的縮排會導致 IndentationError\n",
    "\n",
    "## 註解是 ‵#‵"
   ]
  },
  {
   "cell_type": "markdown",
   "id": "e0d27aa3",
   "metadata": {},
   "source": [
    "## 變數是水桶還是標籤?\n",
    "\n",
    "* C/C++ 的 變數X = 87，其X為水桶\n",
    "* Python 的 變數X = 87，其X為標籤，請考慮 mutable & immutable object"
   ]
  },
  {
   "cell_type": "code",
   "execution_count": 4,
   "id": "628d10a2",
   "metadata": {},
   "outputs": [
    {
     "name": "stdout",
     "output_type": "stream",
     "text": [
      "[0] [0]\n"
     ]
    }
   ],
   "source": [
    "# mutable  => 變\n",
    "x = [87]\n",
    "y = x\n",
    "x[0] = 0\n",
    "print(x, y)"
   ]
  },
  {
   "cell_type": "code",
   "execution_count": 5,
   "id": "4cebb963",
   "metadata": {},
   "outputs": [
    {
     "name": "stdout",
     "output_type": "stream",
     "text": [
      "0 87\n"
     ]
    }
   ],
   "source": [
    "# immutable => 不變\n",
    "x = 87\n",
    "y = x\n",
    "x = 0\n",
    "print(x, y)"
   ]
  },
  {
   "cell_type": "code",
   "execution_count": 6,
   "id": "aaef1419",
   "metadata": {},
   "outputs": [],
   "source": [
    "del x"
   ]
  },
  {
   "cell_type": "code",
   "execution_count": 7,
   "id": "a487fec6",
   "metadata": {},
   "outputs": [
    {
     "ename": "NameError",
     "evalue": "name 'x' is not defined",
     "output_type": "error",
     "traceback": [
      "\u001b[0;31m---------------------------------------------------------------------------\u001b[0m",
      "\u001b[0;31mNameError\u001b[0m                                 Traceback (most recent call last)",
      "Input \u001b[0;32mIn [7]\u001b[0m, in \u001b[0;36m<cell line: 1>\u001b[0;34m()\u001b[0m\n\u001b[0;32m----> 1\u001b[0m \u001b[43mx\u001b[49m\n",
      "\u001b[0;31mNameError\u001b[0m: name 'x' is not defined"
     ]
    }
   ],
   "source": [
    "x"
   ]
  },
  {
   "cell_type": "markdown",
   "id": "f060eb5e",
   "metadata": {},
   "source": [
    "## 4.4 運算式\n",
    "```\n",
    "+  家\n",
    "-  減\n",
    "*  乘\n",
    "/  除\n",
    "// 取商\n",
    "```"
   ]
  },
  {
   "cell_type": "code",
   "execution_count": 9,
   "id": "591c122a",
   "metadata": {},
   "outputs": [
    {
     "data": {
      "text/plain": [
       "20.0"
      ]
     },
     "execution_count": 9,
     "metadata": {},
     "output_type": "execute_result"
    }
   ],
   "source": [
    "x = 2 + 4 * 5 - 6 / 3\n",
    "x"
   ]
  },
  {
   "cell_type": "markdown",
   "id": "f08b1027",
   "metadata": {},
   "source": [
    "## 4.5 字串"
   ]
  },
  {
   "cell_type": "code",
   "execution_count": 4,
   "id": "a04f0b53",
   "metadata": {},
   "outputs": [
    {
     "name": "stdout",
     "output_type": "stream",
     "text": [
      "Hello, \"WORLD\"\n",
      "it's a pen\n",
      "it's \n",
      "a pen\n"
     ]
    }
   ],
   "source": [
    "# 單引號: 可包含雙引號\n",
    "\n",
    "x = 'Hello, \"WORLD\"'\n",
    "print(x)\n",
    "\n",
    "# 雙引號: 可包含單引號\n",
    "y = \"it's a pen\"\n",
    "print(y)\n",
    "\n",
    "# 三引號: 跨行的字串\n",
    "z = \"\"\"it's \n",
    "a pen\"\"\"\n",
    "print(z)"
   ]
  },
  {
   "cell_type": "markdown",
   "id": "9465d597",
   "metadata": {},
   "source": [
    "### 利用 \\ 來縮排"
   ]
  },
  {
   "cell_type": "code",
   "execution_count": 9,
   "id": "dcf55b3e",
   "metadata": {},
   "outputs": [
    {
     "ename": "SyntaxError",
     "evalue": "unexpected character after line continuation character (690915739.py, line 1)",
     "output_type": "error",
     "traceback": [
      "\u001b[0;36m  Input \u001b[0;32mIn [9]\u001b[0;36m\u001b[0m\n\u001b[0;31m    x = \"Kono \" \\\u001b[0m\n\u001b[0m                  ^\u001b[0m\n\u001b[0;31mSyntaxError\u001b[0m\u001b[0;31m:\u001b[0m unexpected character after line continuation character\n"
     ]
    }
   ],
   "source": [
    "x = \"Kono \" \\ \n",
    "    \"Dio \"  \\\n",
    "    \"DA!\"   \\\n",
    "\n",
    "print(x)"
   ]
  },
  {
   "cell_type": "markdown",
   "id": "894d0e54",
   "metadata": {},
   "source": [
    "## 4.6 數字\n",
    "\n",
    "> 1. int\n",
    "> 2. float\n",
    "> 3. complex\n",
    "> 4. bool"
   ]
  },
  {
   "cell_type": "code",
   "execution_count": 12,
   "id": "1f98ff25",
   "metadata": {},
   "outputs": [
    {
     "name": "stdout",
     "output_type": "stream",
     "text": [
      "-200000000.0\n",
      "2e-08\n",
      "1000000000\n"
     ]
    }
   ],
   "source": [
    "# 科學記號\n",
    "print(-2e8)\n",
    "print(2e-8)\n",
    "\n",
    "# Underscores in Numeric Literals for python3.6+ \n",
    "print(1_000_000_000)"
   ]
  },
  {
   "cell_type": "code",
   "execution_count": 28,
   "id": "47891ee9",
   "metadata": {},
   "outputs": [
    {
     "name": "stdout",
     "output_type": "stream",
     "text": [
      "abs:  1.23\n",
      "divmod:  (11, 1)\n",
      "float:  10\n",
      "hex:  0xc\n",
      "oct:  0o14\n",
      "pow:  100\n",
      "round:  3.1416\n"
     ]
    }
   ],
   "source": [
    "# 內建函式\n",
    "x = -1.23\n",
    "print(\"abs: \", abs(-1.23))\n",
    "print(\"divmod: \", divmod(34, 3)) # return (a // b, a % b)\n",
    "print(\"float: \", abs(10))\n",
    "print(\"hex: \", hex(12)) # 16\n",
    "print(\"oct: \", oct(12)) # 8\n",
    "print(\"pow: \", pow(10, 2))\n",
    "print(\"round: \", round(3.1415926, 4))"
   ]
  },
  {
   "cell_type": "code",
   "execution_count": 33,
   "id": "e2292d75",
   "metadata": {},
   "outputs": [
    {
     "name": "stdout",
     "output_type": "stream",
     "text": [
      "(5+12j)\n",
      "5.0\n",
      "12.0\n"
     ]
    }
   ],
   "source": [
    "# complex\n",
    "a = 3+2j\n",
    "a2 = a * a\n",
    "print(a2)\n",
    "print(a2.real)\n",
    "print(a2.imag)"
   ]
  },
  {
   "cell_type": "markdown",
   "id": "f61f4e44",
   "metadata": {},
   "source": [
    "## 4.7 None\n",
    "\n",
    "=> 佔位符號 (place holder)"
   ]
  },
  {
   "cell_type": "code",
   "execution_count": null,
   "id": "e4222c22",
   "metadata": {},
   "outputs": [],
   "source": []
  }
 ],
 "metadata": {
  "kernelspec": {
   "display_name": "Python 3 (ipykernel)",
   "language": "python",
   "name": "python3"
  },
  "language_info": {
   "codemirror_mode": {
    "name": "ipython",
    "version": 3
   },
   "file_extension": ".py",
   "mimetype": "text/x-python",
   "name": "python",
   "nbconvert_exporter": "python",
   "pygments_lexer": "ipython3",
   "version": "3.8.8"
  }
 },
 "nbformat": 4,
 "nbformat_minor": 5
}
