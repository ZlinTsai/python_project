{
 "cells": [
  {
   "cell_type": "markdown",
   "id": "e542b674",
   "metadata": {},
   "source": [
    "# Python 常見的資料結構\n",
    "\n",
    "* list:  `[]` 彈性更高的array \n",
    "* tuple: `()` 無法修改的list\n",
    "* set:   `{}` 查詢集合|\n",
    "* dict:  `{}` Key-Value (at ch.7)"
   ]
  },
  {
   "cell_type": "markdown",
   "id": "a6520b8b",
   "metadata": {},
   "source": [
    "## list"
   ]
  },
  {
   "cell_type": "code",
   "execution_count": 12,
   "id": "eb3c7aaf",
   "metadata": {},
   "outputs": [
    {
     "name": "stdout",
     "output_type": "stream",
     "text": [
      "[1, 'two', [3, 3.3, 3.33, 3.333]]\n",
      "len(x) =   3\n",
      "len(x[2]) =   4\n",
      "=== Exercise ===\n",
      "len([0]) =   1\n",
      "len([]) =   0\n",
      "len([[1, 3, [4, 5], 6], 7]) =   2\n"
     ]
    }
   ],
   "source": [
    "### Basic\n",
    "x = [1, 'two', [3,3.3,3.33,3.333]]\n",
    "print(x)\n",
    "print(\"len(x) =  \", len(x))\n",
    "print(\"len(x[2]) =  \", len(x[2]))\n",
    "print(\"=== Exercise ===\")\n",
    "print(\"len([0]) =  \", len([0]))\n",
    "print(\"len([]) =  \", len([]))\n",
    "print(\"len([[1, 3, [4, 5], 6], 7]) =  \", len([[1, 3, [4, 5], 6], 7]))"
   ]
  },
  {
   "cell_type": "code",
   "execution_count": 29,
   "id": "a4658ea5",
   "metadata": {},
   "outputs": [
    {
     "name": "stdout",
     "output_type": "stream",
     "text": [
      "[0, 1, 2, 3, 4, 5]\n",
      "index  = -3, -2, -1, 0, 1, 2, 3\n",
      "return =  3,  4,  5, 0, 1, 2, 3\n"
     ]
    }
   ],
   "source": [
    "### Index \n",
    "x = [0, 1, 2 ,3, 4, 5]\n",
    "print(x)\n",
    "print(\"index  = -3, -2, -1, 0, 1, 2, 3\")\n",
    "print(\"return =  %d,  %d,  %d, %d, %d, %d, %d\" %(x[-3], x[-2], x[-1], x[0], x[1], x[2], x[3]))"
   ]
  },
  {
   "cell_type": "markdown",
   "id": "781cab01",
   "metadata": {},
   "source": [
    "### Slicing\n",
    "```\n",
    "syntex:  \n",
    "x[start:end:step], callback index is start to end-1\n",
    "\n",
    "EX: x[1:10:3] => callback index is 1, 4, 7\n",
    "```\n",
    "\n",
    "Note: You can copy(create new memory to storage value) list via slice all range x[:]"
   ]
  },
  {
   "cell_type": "code",
   "execution_count": 36,
   "id": "9ea9dc32",
   "metadata": {},
   "outputs": [
    {
     "name": "stdout",
     "output_type": "stream",
     "text": [
      "[0, 1, 2, 3, 4, 5]\n",
      "x[1:4:2] =  [1, 3]\n",
      "x[::2] =  [0, 2, 4]\n",
      "x[::-1] =  [5, 4, 3, 2, 1, 0]\n"
     ]
    }
   ],
   "source": [
    "### Slicing\n",
    "x = [0, 1, 2 ,3, 4, 5]\n",
    "print(x)\n",
    "print(\"x[1:4:2] = \", x[1:4:2])\n",
    "print(\"x[::2] = \", x[::2])\n",
    "print(\"x[::-1] = \", x[::-1])"
   ]
  },
  {
   "cell_type": "code",
   "execution_count": 40,
   "id": "7e6db8cf",
   "metadata": {},
   "outputs": [
    {
     "name": "stdout",
     "output_type": "stream",
     "text": [
      "[0, 1, 2, 3, 4, 5]\n",
      "[87, 1, 2, 3, 4, 5]\n",
      "[87, 3, 4, 5]\n",
      "[87, 87, 87, 87, 87, 3, 4, 5]\n"
     ]
    }
   ],
   "source": [
    "x = [0, 1, 2 ,3, 4, 5]\n",
    "print(x)\n",
    "x[0] = 87\n",
    "print(x)\n",
    "x[0:3] = [87] # list at index 0,1,2 => assign to 87 (one value)\n",
    "print(x)\n",
    "x = [0, 1, 2 ,3, 4, 5]\n",
    "x[0:3] = [87,87,87,87,87]\n",
    "print(x)"
   ]
  },
  {
   "cell_type": "code",
   "execution_count": 46,
   "id": "16ffecbb",
   "metadata": {},
   "outputs": [
    {
     "name": "stdout",
     "output_type": "stream",
     "text": [
      "[0, 1, 2, 3, 4, 5]\n",
      "[0, 1, 2, 3, 4, 5, 87, 88, 89]\n",
      "[-87, -88, -89, 0, 1, 2, 3, 4, 5]\n",
      "[0, 4, 5]\n"
     ]
    }
   ],
   "source": [
    "## more trick\n",
    "x = [0, 1, 2 ,3, 4, 5]\n",
    "print(x)\n",
    "\n",
    "# append\n",
    "x = [0, 1, 2 ,3, 4, 5]\n",
    "x[len(x):] = [87, 88, 89]\n",
    "print(x)\n",
    "\n",
    "# add at 0\n",
    "x = [0, 1, 2 ,3, 4, 5]\n",
    "x[:0] = [-87, -88, -89]\n",
    "print(x)\n",
    "\n",
    "# remove\n",
    "x = [0, 1, 2 ,3, 4, 5]\n",
    "x[1:4] = []\n",
    "print(x)"
   ]
  },
  {
   "cell_type": "markdown",
   "id": "7687517d",
   "metadata": {},
   "source": [
    "### method of list\n",
    "\n",
    "* append(): 新增元素至最後\n",
    "* extend(): list 接 list\n",
    "* insert(idx, val): 在指定idx插入元素 \n",
    "* remove(): 移除找到相同值的***第一個***元數\n",
    "* del: 刪除 搭配slicing\n",
    "* reverse(): 反轉\n",
    "* sort(key=myOrder): 排序，可自定義key排序"
   ]
  },
  {
   "cell_type": "code",
   "execution_count": 67,
   "id": "7ce8fbd3",
   "metadata": {},
   "outputs": [
    {
     "name": "stdout",
     "output_type": "stream",
     "text": [
      "append [1, 2, 3, 4, 5, 6, 10, 50]\n",
      "append [1, 2, 3, 4, 5, 6, 10, [50]]\n",
      "extend [1, 2, 3, 4, 5, 6, 10, 50]\n",
      "++++++ [1, 2, 3, 4, 5, 6, 10, 50]\n",
      "insert [1, 2, 3, 50, 4, 5, 6, 10]\n",
      "insert [1, 2, 3, [50], 4, 5, 6, 10]\n",
      "del [1, 2, 3, 5, 6, 10]\n",
      "slicing [1, 2, 3, 5, 6, 10]\n",
      "remove [1, 2, 3, 4, 5, 6]\n"
     ]
    }
   ],
   "source": [
    "# origin\n",
    "x = [1, 2, 3, 4, 5, 6, 10]\n",
    "\n",
    "# append element\n",
    "y = x[:]\n",
    "y.append(50)\n",
    "print(\"append\", y)\n",
    "\n",
    "# append list\n",
    "y = x[:]\n",
    "y.append([50])\n",
    "print(\"append\", y)\n",
    "\n",
    "# extent only list\n",
    "y = x[:]\n",
    "y.extend([50])\n",
    "print(\"extend\", y)\n",
    "\n",
    "z = x[:] + [50]\n",
    "print(\"++++++\", z)\n",
    "\n",
    "# insert\n",
    "y = x[:]\n",
    "y.insert(3, 50)\n",
    "print(\"insert\", y)\n",
    "\n",
    "# insert\n",
    "y = x[:]\n",
    "y.insert(3, [50])\n",
    "print(\"insert\", y)\n",
    "\n",
    "# del\n",
    "y = x[:]\n",
    "del y[3]\n",
    "print(\"del\", y)\n",
    "\n",
    "# del via slicing\n",
    "y = x[:]\n",
    "y[3:4] = []\n",
    "print(\"slicing\", y)\n",
    "\n",
    "# remove\n",
    "y = x[:]\n",
    "y.remove(10)\n",
    "print(\"remove\",y)"
   ]
  },
  {
   "cell_type": "code",
   "execution_count": 44,
   "id": "e0b37d76",
   "metadata": {},
   "outputs": [
    {
     "name": "stdout",
     "output_type": "stream",
     "text": [
      "[0, 1, 2, 3, 4, 5, 6, 7, 8, 9]\n",
      "[0, 1, 2, 3, 4, 5, 6, 9, 8, 7]\n"
     ]
    }
   ],
   "source": [
    "import numpy as np \n",
    "# try, a list have 10 elements, reverse last 3 element\n",
    "x = list(np.arange(10))\n",
    "print(x)\n",
    "\n",
    "y = x[:]\n",
    "tmp = y[-3:]\n",
    "#y[-3:] = tmp.reverse()\n",
    "tmp.reverse()\n",
    "y[-3:] = tmp\n",
    "print(y)"
   ]
  },
  {
   "cell_type": "code",
   "execution_count": 57,
   "id": "118c64ba",
   "metadata": {},
   "outputs": [
    {
     "name": "stdout",
     "output_type": "stream",
     "text": [
      "['four', 'one', 'three', 'two']\n",
      "['one', 'two', 'four', 'three']\n",
      "[[1, 2, 3], [2, 1, 3], [3, 4], [4, 0, 1]]\n",
      "[[4, 0, 1], [2, 1, 3], [1, 2, 3], [3, 4]]\n"
     ]
    }
   ],
   "source": [
    "# sort\n",
    "x = ['one', 'two', 'three', 'four']\n",
    "y = x[:]\n",
    "y.sort() # in-place sort, sort via first word\n",
    "print(y)\n",
    "\n",
    "y = x[:]\n",
    "y.sort(key=lambda x: len(x)) # in-place sort, sort via first word\n",
    "print(y)\n",
    "\n",
    "x = [[1,2,3], [2,1,3], [4,0,1], [3, 4]]\n",
    "y = x[:]\n",
    "y.sort() # in-place sort, sort via first word\n",
    "print(y)\n",
    "\n",
    "y = x[:]\n",
    "y.sort(key=lambda x: x[1]) # in-place sort, sort via first word\n",
    "print(y)"
   ]
  },
  {
   "cell_type": "code",
   "execution_count": 55,
   "id": "647c45ed",
   "metadata": {},
   "outputs": [
    {
     "name": "stdout",
     "output_type": "stream",
     "text": [
      "[[3, 4], [6, 51], [10, 2], [300]]\n"
     ]
    }
   ],
   "source": [
    "# sorted\n",
    "x = [[10,2], [300], [6,51], [3, 4]]\n",
    "y = x[:]\n",
    "y = sorted(y) # create a new list\n",
    "print(y)"
   ]
  },
  {
   "cell_type": "code",
   "execution_count": 60,
   "id": "47ec905d",
   "metadata": {},
   "outputs": [
    {
     "name": "stdout",
     "output_type": "stream",
     "text": [
      "True\n",
      "False\n",
      "True\n"
     ]
    }
   ],
   "source": [
    "# in \n",
    "print(3 in [1, 3, 5, 7])\n",
    "print(3 not in [1, 3, 5, 7])\n",
    "print(3 not in [2, 4, 6, 8])"
   ]
  },
  {
   "cell_type": "code",
   "execution_count": 77,
   "id": "ccf853f2",
   "metadata": {},
   "outputs": [
    {
     "name": "stdout",
     "output_type": "stream",
     "text": [
      "89\n",
      "1\n",
      "2\n",
      "2\n"
     ]
    }
   ],
   "source": [
    "# max\n",
    "x = [1,6,89,6,1,5,7,3,12]\n",
    "print(max(x))\n",
    "\n",
    "# min\n",
    "print(min(x))\n",
    "\n",
    "# count\n",
    "print(x.index(89))\n",
    "\n",
    "# count\n",
    "print(x.count(6))"
   ]
  },
  {
   "cell_type": "code",
   "execution_count": 88,
   "id": "5d526553",
   "metadata": {},
   "outputs": [
    {
     "name": "stdout",
     "output_type": "stream",
     "text": [
      "3 not in list\n"
     ]
    },
    {
     "data": {
      "text/plain": [
       "[1, 2, 4, 7]"
      ]
     },
     "execution_count": 88,
     "metadata": {},
     "output_type": "execute_result"
    }
   ],
   "source": [
    "def safe_remove(x, z):\n",
    "    '''\n",
    "    remove z from x, if z exist in x\n",
    "    '''\n",
    "    \n",
    "    if (z not in x):\n",
    "        print(z, \"not in list\")\n",
    "        return x\n",
    "    \n",
    "    x.remove(z)\n",
    "    return safe_remove(x, z)\n",
    "\n",
    "x = [1, 2, 3 ,4 ,7, 3]    \n",
    "safe_remove(x, 3)"
   ]
  },
  {
   "cell_type": "markdown",
   "id": "8c2048c6",
   "metadata": {},
   "source": [
    "## tuple"
   ]
  },
  {
   "cell_type": "code",
   "execution_count": 91,
   "id": "1f035f8b",
   "metadata": {},
   "outputs": [
    {
     "ename": "AttributeError",
     "evalue": "'tuple' object has no attribute 'sort'",
     "output_type": "error",
     "traceback": [
      "\u001b[0;31m---------------------------------------------------------------------------\u001b[0m",
      "\u001b[0;31mAttributeError\u001b[0m                            Traceback (most recent call last)",
      "Input \u001b[0;32mIn [91]\u001b[0m, in \u001b[0;36m<cell line: 2>\u001b[0;34m()\u001b[0m\n\u001b[1;32m      1\u001b[0m x \u001b[38;5;241m=\u001b[39m (\u001b[38;5;241m1\u001b[39m, \u001b[38;5;241m2\u001b[39m,\u001b[38;5;241m3\u001b[39m)\n\u001b[0;32m----> 2\u001b[0m \u001b[43mx\u001b[49m\u001b[38;5;241;43m.\u001b[39;49m\u001b[43msort\u001b[49m()\n",
      "\u001b[0;31mAttributeError\u001b[0m: 'tuple' object has no attribute 'sort'"
     ]
    }
   ],
   "source": [
    "x = (1, 2,3)\n",
    "x.sort()\n",
    "#x[0] = 0"
   ]
  },
  {
   "cell_type": "markdown",
   "id": "e65bc91f",
   "metadata": {},
   "source": [
    "## set \n",
    "\n",
    "1. 無序: 無法使用[1]找到index=1的數值\n",
    "2. 唯一: 值保持唯一性，自動移除重複的數值\n",
    "3. 邏輯: & | ^ 可輕易的了解set邏輯運算\n",
    "\n",
    "### fronzenset\n",
    "\n",
    "建立後就不可變的set"
   ]
  },
  {
   "cell_type": "code",
   "execution_count": 92,
   "id": "aa2f5b7a",
   "metadata": {},
   "outputs": [
    {
     "data": {
      "text/plain": [
       "{(1, 2, 3), 0, 1, 2, 3, 5}"
      ]
     },
     "execution_count": 92,
     "metadata": {},
     "output_type": "execute_result"
    }
   ],
   "source": [
    "x = [1,2,5,1,0,2,3,1,1,(1,2,3)]\n",
    "set(x)"
   ]
  },
  {
   "cell_type": "code",
   "execution_count": 98,
   "id": "e6af03b3",
   "metadata": {},
   "outputs": [
    {
     "name": "stdout",
     "output_type": "stream",
     "text": [
      "{1, 2, 3, 6, 7, 8}\n",
      "{1, 2, 3, 6, 7, 8, 87}\n",
      "{2, 3, 6, 7, 8, 87}\n",
      "False\n"
     ]
    }
   ],
   "source": [
    "x = {1, 2, 3, 6, 6, 8, 7}\n",
    "print(x)\n",
    "\n",
    "x.add(87)\n",
    "print(x)\n",
    "\n",
    "x.remove(1)\n",
    "print(x)\n",
    "\n",
    "print(4 in x)"
   ]
  },
  {
   "cell_type": "code",
   "execution_count": 101,
   "id": "78a6e8c3",
   "metadata": {},
   "outputs": [
    {
     "name": "stdout",
     "output_type": "stream",
     "text": [
      "{1, 2, 3, 4, 6, 7, 8, 9}\n",
      "{1, 6}\n",
      "{2, 3, 4, 7, 8, 9}\n"
     ]
    }
   ],
   "source": [
    "x = {1, 2, 3, 6, 6, 8, 7}\n",
    "y = {1, 4, 6, 9}\n",
    "\n",
    "print(x | y)\n",
    "print(x & y)\n",
    "print(x ^ y)"
   ]
  },
  {
   "cell_type": "code",
   "execution_count": 105,
   "id": "d6fc7f01",
   "metadata": {},
   "outputs": [
    {
     "ename": "AttributeError",
     "evalue": "'frozenset' object has no attribute 'add'",
     "output_type": "error",
     "traceback": [
      "\u001b[0;31m---------------------------------------------------------------------------\u001b[0m",
      "\u001b[0;31mAttributeError\u001b[0m                            Traceback (most recent call last)",
      "Input \u001b[0;32mIn [105]\u001b[0m, in \u001b[0;36m<cell line: 3>\u001b[0;34m()\u001b[0m\n\u001b[1;32m      1\u001b[0m x \u001b[38;5;241m=\u001b[39m {\u001b[38;5;241m1\u001b[39m, \u001b[38;5;241m2\u001b[39m, \u001b[38;5;241m3\u001b[39m, \u001b[38;5;241m6\u001b[39m, \u001b[38;5;241m6\u001b[39m, \u001b[38;5;241m8\u001b[39m, \u001b[38;5;241m7\u001b[39m}\n\u001b[1;32m      2\u001b[0m z \u001b[38;5;241m=\u001b[39m \u001b[38;5;28mfrozenset\u001b[39m(x)\n\u001b[0;32m----> 3\u001b[0m \u001b[43mz\u001b[49m\u001b[38;5;241;43m.\u001b[39;49m\u001b[43madd\u001b[49m(\u001b[38;5;241m87\u001b[39m)\n",
      "\u001b[0;31mAttributeError\u001b[0m: 'frozenset' object has no attribute 'add'"
     ]
    }
   ],
   "source": [
    "x = {1, 2, 3, 6, 6, 8, 7}\n",
    "z = frozenset(x)\n",
    "z.add(87)"
   ]
  },
  {
   "cell_type": "markdown",
   "id": "b5776c59",
   "metadata": {},
   "source": [
    "## EX"
   ]
  },
  {
   "cell_type": "code",
   "execution_count": 13,
   "id": "9d0aba20",
   "metadata": {},
   "outputs": [
    {
     "ename": "SyntaxError",
     "evalue": "invalid syntax (1250122295.py, line 8)",
     "output_type": "error",
     "traceback": [
      "\u001b[0;36m  Input \u001b[0;32mIn [13]\u001b[0;36m\u001b[0m\n\u001b[0;31m    max_temp = max(temperatures)\u001b[0m\n\u001b[0m    ^\u001b[0m\n\u001b[0;31mSyntaxError\u001b[0m\u001b[0;31m:\u001b[0m invalid syntax\n"
     ]
    }
   ],
   "source": [
    "temperatures = []\n",
    "with open('lab_05.txt') as infile:\n",
    "    for row in infile:\n",
    "        print(row)\n",
    "        temperatures.append(float(row.strip())\n",
    "    \n",
    "\n",
    "    max_temp = max(temperatures)\n",
    "    min_temp = min(temperatures)\n",
    "    mean_temp = sum(temperatures)/len(temperatures)\n",
    "\n",
    "    # 排序後取得中位數\n",
    "    temperatures.sort()\n",
    "    median_temp = temperatures[len(temperatures)//2]\n",
    "\n",
    "    print(\"max = {}\".format(max_temp))\n",
    "    print(\"min = {}\".format(min_temp))\n",
    "    print(\"mean = {}\".format(mean_temp))\n",
    "    print(\"median = {}\".format(median_temp))\n"
   ]
  },
  {
   "cell_type": "code",
   "execution_count": 24,
   "id": "da119e16",
   "metadata": {},
   "outputs": [
    {
     "name": "stdout",
     "output_type": "stream",
     "text": [
      "max = 28.2\n",
      "min = 0.8\n",
      "mean = 14.848309178743966\n",
      "Q1 = 9.7\n",
      "median = 14.7\n",
      "Q3 = 20.0\n"
     ]
    }
   ],
   "source": [
    "temperatures = []\n",
    "with open('lab_05.txt') as infile:\n",
    "    for row in infile:\n",
    "        temperatures.append(float(row.replace(\"\\n\", \"\")))\n",
    "        \n",
    "    max_temp = max(temperatures)\n",
    "    min_temp = min(temperatures)\n",
    "    mean_temp = sum(temperatures)/len(temperatures)\n",
    "    \n",
    "    # 排序後取得中位數\n",
    "    temperatures.sort()\n",
    "    Q1_temp = temperatures[len(temperatures)//4]\n",
    "    median_temp = temperatures[len(temperatures)//2]\n",
    "    Q3_temp = temperatures[len(temperatures)//4*3]\n",
    "\n",
    "    print(\"max = {}\".format(max_temp))\n",
    "    print(\"min = {}\".format(min_temp))\n",
    "    print(\"mean = {}\".format(mean_temp))\n",
    "    print(\"Q1 = {}\".format(Q1_temp))\n",
    "    print(\"median = {}\".format(median_temp))\n",
    "    print(\"Q3 = {}\".format(Q3_temp))"
   ]
  },
  {
   "cell_type": "code",
   "execution_count": null,
   "id": "dba56310",
   "metadata": {},
   "outputs": [],
   "source": []
  }
 ],
 "metadata": {
  "kernelspec": {
   "display_name": "Python 3 (ipykernel)",
   "language": "python",
   "name": "python3"
  },
  "language_info": {
   "codemirror_mode": {
    "name": "ipython",
    "version": 3
   },
   "file_extension": ".py",
   "mimetype": "text/x-python",
   "name": "python",
   "nbconvert_exporter": "python",
   "pygments_lexer": "ipython3",
   "version": "3.8.8"
  }
 },
 "nbformat": 4,
 "nbformat_minor": 5
}
