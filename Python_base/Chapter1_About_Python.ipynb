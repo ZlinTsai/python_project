{
 "cells": [
  {
   "cell_type": "markdown",
   "id": "e96532b7",
   "metadata": {},
   "source": [
    "# Python\n",
    "\n",
    "* 優點: 開源，社群大，簡潔優雅，開發快速\n",
    "\n",
    "* 缺點: 速度慢，不能充分利用CPU多核心(via 全域解釋器鎖 Global Interpreter Lock)\n",
    "\n",
    "* 其他: 變數是參照到物件的**標籤**，不須宣告其初始型態"
   ]
  },
  {
   "cell_type": "code",
   "execution_count": null,
   "id": "21787c2f",
   "metadata": {},
   "outputs": [],
   "source": []
  }
 ],
 "metadata": {
  "kernelspec": {
   "display_name": "Python 3 (ipykernel)",
   "language": "python",
   "name": "python3"
  },
  "language_info": {
   "codemirror_mode": {
    "name": "ipython",
    "version": 3
   },
   "file_extension": ".py",
   "mimetype": "text/x-python",
   "name": "python",
   "nbconvert_exporter": "python",
   "pygments_lexer": "ipython3",
   "version": "3.8.8"
  }
 },
 "nbformat": 4,
 "nbformat_minor": 5
}
