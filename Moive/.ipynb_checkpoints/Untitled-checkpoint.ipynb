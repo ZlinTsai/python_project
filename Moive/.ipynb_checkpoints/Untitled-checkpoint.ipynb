{
 "cells": [
  {
   "cell_type": "code",
   "execution_count": 1,
   "id": "4f889dd6",
   "metadata": {},
   "outputs": [],
   "source": [
    "import os\n",
    "\n",
    "from moviepy.audio.tools.cuts import find_audio_period\n",
    "from moviepy.editor import *\n",
    "from moviepy.video.tools.cuts import find_video_period"
   ]
  },
  {
   "cell_type": "code",
   "execution_count": 6,
   "id": "676281a4",
   "metadata": {},
   "outputs": [],
   "source": [
    "video1 = (VideoFileClip(\"../../result_cut.mp4\", audio=False))\n",
    "video2 = (VideoFileClip(\"../../origin_cut.mp4\", audio=False))"
   ]
  },
  {
   "cell_type": "code",
   "execution_count": 8,
   "id": "03740074",
   "metadata": {},
   "outputs": [
    {
     "name": "stdout",
     "output_type": "stream",
     "text": [
      "Analyzed the video, found a period of 0.33 seconds\n"
     ]
    }
   ],
   "source": [
    "video_period = find_video_period(video, tmin=.3)\n",
    "print ('Analyzed the video, found a period of %.02f seconds'%video_period)"
   ]
  },
  {
   "cell_type": "code",
   "execution_count": null,
   "id": "27db87aa",
   "metadata": {},
   "outputs": [],
   "source": [
    "videoMeger = (clips_array([[edited_left, edited_right]])\n",
    "                   .fadein(1).fadeout(1).set_audio(audio).subclip(.3))"
   ]
  },
  {
   "cell_type": "code",
   "execution_count": null,
   "id": "b3c28331",
   "metadata": {},
   "outputs": [],
   "source": []
  },
  {
   "cell_type": "code",
   "execution_count": null,
   "id": "a307c9eb",
   "metadata": {},
   "outputs": [],
   "source": []
  }
 ],
 "metadata": {
  "kernelspec": {
   "display_name": "Python 3 (ipykernel)",
   "language": "python",
   "name": "python3"
  },
  "language_info": {
   "codemirror_mode": {
    "name": "ipython",
    "version": 3
   },
   "file_extension": ".py",
   "mimetype": "text/x-python",
   "name": "python",
   "nbconvert_exporter": "python",
   "pygments_lexer": "ipython3",
   "version": "3.8.8"
  }
 },
 "nbformat": 4,
 "nbformat_minor": 5
}
