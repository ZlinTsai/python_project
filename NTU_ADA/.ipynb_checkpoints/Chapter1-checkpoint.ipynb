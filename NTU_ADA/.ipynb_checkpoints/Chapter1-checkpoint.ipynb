{
 "cells": [
  {
   "cell_type": "markdown",
   "id": "7b9a4475",
   "metadata": {},
   "source": [
    "# Chapter1. Fundamental "
   ]
  },
  {
   "cell_type": "markdown",
   "id": "b2883e10",
   "metadata": {},
   "source": [
    "## 1.1: Introduction\n",
    "\n",
    "ADA is **Algorithm Design and Analysis**\n",
    "\n",
    "### **Algorithm**: a detailed step-by-step instruction  \n",
    "    1. Must follow the game rule  \n",
    "\t2. Like a step-by-step recipe  \n",
    "\t3. Programming language doesn't matter => pseudo-code  \n",
    "\t\n",
    "### **Design & Analysis process:**     \n",
    "\t1. Formulate a problem  \n",
    "\t2. Develop an algorithm  \n",
    "\t3. Prove the correctness  \n",
    "\t4. Analyze running time/space requirement\n",
    "    \n",
    "### **名詞:**  \n",
    "    Problem: 問題  \n",
    "    rule: 規則  \n",
    "    Computation model: 計算模型  \n",
    "    Hardness: 難易度  = Complexity\n",
    "    solve: 解  \n",
    "    algorithm: 演算法  \n",
    "    any instance: 任何實例(case)  \n",
    "    sufficient: 充分的\n",
    "\n",
    "### **Exercise:**    \n",
    "> **Champion problem**: 給定一組(n)參選人，決定誰的點數最大，就是冠軍  \n",
    "> coding:  "
   ]
  },
  {
   "cell_type": "code",
   "execution_count": 4,
   "id": "767a0177",
   "metadata": {},
   "outputs": [
    {
     "name": "stdout",
     "output_type": "stream",
     "text": [
      "champion is no. 8\n",
      "champion's value is 87\n"
     ]
    }
   ],
   "source": [
    "all_list = [3, 1, 5, 8, 0, 2, 10, 55, 87]\n",
    "\n",
    "champion = 0\n",
    "champion_val = all_list[champion]\n",
    "\n",
    "for idx, val in enumerate(all_list):\n",
    "    if (champion_val < val):\n",
    "        champion = idx\n",
    "        champion_val = val\n",
    "    \n",
    "print(\"champion is no.\", champion)\n",
    "print(\"champion's value is\", champion_val)"
   ]
  },
  {
   "cell_type": "markdown",
   "id": "94fa90c7",
   "metadata": {},
   "source": [
    "> **comparison method**: n-1  \n",
    "> **Question**: Is there n-2 method?  \n",
    "> No!  \n",
    ">\n",
    "> **Finding Hardness**: use the **upper bound** and the **lower bound**  \n",
    "> **upper boubd**: 多此一舉(多重確認)  \n",
    ">> EX: if (champion_val < val) and (val > champion_val) => 2n-2  \n",
    ">\n",
    "> **lower boubd**: in the worst case are necessaryy  \n",
    ">\n",
    "> **Key**: upper bound 越低 + lower bound 越高  \n",
    "> upper bound = lower bound => slove porblem"
   ]
  },
  {
   "cell_type": "markdown",
   "id": "8460c1f3",
   "metadata": {},
   "source": [
    "##  1.2: Asymptotic Analysis 漸進式分析\n",
    "\n",
    "### Motivation: Focus on the standard *growth of the function*\n",
    "\n",
    "* Benefitt\n",
    "    * Ignore the low-order terms, units, coefficient, EX $O(3n^2+2n+1) \\rightarrow O(n^2)$\n",
    "    * Simplify the analysis\n",
    "    \n",
    "### Time complexity\n",
    "### Space complexity"
   ]
  },
  {
   "cell_type": "code",
   "execution_count": 10,
   "id": "2af04768",
   "metadata": {},
   "outputs": [
    {
     "data": {
      "text/plain": [
       "[0, 1, 2, 3, 5, 8, 10, 55, 87]"
      ]
     },
     "execution_count": 10,
     "metadata": {},
     "output_type": "execute_result"
    }
   ],
   "source": [
    "# Bubble-Sort\n",
    "\n",
    "def bubble_sort(arr):\n",
    "    done = 0\n",
    "    while (done == 0):                    # O(n)\n",
    "        done = 1\n",
    "        for idx in range(1, len(arr), 1): # O(n)\n",
    "            if (arr[idx-1] > arr[idx]):\n",
    "                # swap\n",
    "                arr[idx-1], arr[idx] = arr[idx], arr[idx-1]\n",
    "                done = 0\n",
    "                \n",
    "    return arr\n",
    "\n",
    "x = [3, 1, 5, 8, 0, 2, 10, 55, 87]\n",
    "bubble_sort(x)"
   ]
  },
  {
   "cell_type": "markdown",
   "id": "92958e72",
   "metadata": {},
   "source": [
    "### Time complexity of Bubble-Sort\n",
    "$O(n) * O(n) = O(n^2)$"
   ]
  },
  {
   "cell_type": "markdown",
   "id": "d387434f",
   "metadata": {},
   "source": [
    "## 1.3: Algorithm Complexity & Problem Complexity 演算法與問題複雜度\n",
    "\n",
    "### Algorithm Complexity\n",
    "* In worst case, what is the growth od functin ***an algorithm*** takes\n",
    "\n",
    "### Problem Complexity\n",
    "* In worst case, what is the growth od functin ***the optimal algorithm od the problem*** takes\n",
    "\n",
    "* Optimal algorithm: Time complexity is O(n) && Problem Complexity is O(n)\n",
    "\n",
    "* Brute-Force is not very efficient\n",
    "* Analysis Skills\n",
    "    * Prove by contradiction\n",
    "    * Inductin\n",
    "    * Asymptotic analysis\n",
    "    * Problem instance"
   ]
  },
  {
   "cell_type": "code",
   "execution_count": null,
   "id": "8fc838ef",
   "metadata": {},
   "outputs": [],
   "source": []
  }
 ],
 "metadata": {
  "kernelspec": {
   "display_name": "Python 3 (ipykernel)",
   "language": "python",
   "name": "python3"
  },
  "language_info": {
   "codemirror_mode": {
    "name": "ipython",
    "version": 3
   },
   "file_extension": ".py",
   "mimetype": "text/x-python",
   "name": "python",
   "nbconvert_exporter": "python",
   "pygments_lexer": "ipython3",
   "version": "3.8.8"
  }
 },
 "nbformat": 4,
 "nbformat_minor": 5
}
