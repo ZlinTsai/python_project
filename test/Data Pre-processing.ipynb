{
 "cells": [
  {
   "cell_type": "markdown",
   "id": "60c98d63",
   "metadata": {},
   "source": [
    "# Summary pre-processing trick\n",
    "\n",
    "1. Reading data\n",
    "2. Missing value\n",
    "3. Format convert\n",
    "4. Outiler value\n",
    "5. Data standard"
   ]
  },
  {
   "cell_type": "code",
   "execution_count": 1,
   "id": "6d7f5296",
   "metadata": {},
   "outputs": [],
   "source": [
    "import pandas as pd\n",
    "import numpy as np\n",
    "import seaborn as sns"
   ]
  },
  {
   "cell_type": "markdown",
   "id": "7fd32a47",
   "metadata": {},
   "source": [
    "# 1. Reading Data\n",
    "\n",
    "EDA = Exploratory Data Analysis 探索式資料分析"
   ]
  },
  {
   "cell_type": "code",
   "execution_count": 35,
   "id": "2cdbbfd6",
   "metadata": {},
   "outputs": [
    {
     "name": "stdout",
     "output_type": "stream",
     "text": [
      "(119040, 31)\n"
     ]
    },
    {
     "data": {
      "text/html": [
       "<div>\n",
       "<style scoped>\n",
       "    .dataframe tbody tr th:only-of-type {\n",
       "        vertical-align: middle;\n",
       "    }\n",
       "\n",
       "    .dataframe tbody tr th {\n",
       "        vertical-align: top;\n",
       "    }\n",
       "\n",
       "    .dataframe thead th {\n",
       "        text-align: right;\n",
       "    }\n",
       "</style>\n",
       "<table border=\"1\" class=\"dataframe\">\n",
       "  <thead>\n",
       "    <tr style=\"text-align: right;\">\n",
       "      <th></th>\n",
       "      <th>STA</th>\n",
       "      <th>Date</th>\n",
       "      <th>Precip</th>\n",
       "      <th>WindGustSpd</th>\n",
       "      <th>MaxTemp</th>\n",
       "      <th>MinTemp</th>\n",
       "      <th>MeanTemp</th>\n",
       "      <th>Snowfall</th>\n",
       "      <th>PoorWeather</th>\n",
       "      <th>YR</th>\n",
       "      <th>...</th>\n",
       "      <th>FB</th>\n",
       "      <th>FTI</th>\n",
       "      <th>ITH</th>\n",
       "      <th>PGT</th>\n",
       "      <th>TSHDSBRSGF</th>\n",
       "      <th>SD3</th>\n",
       "      <th>RHX</th>\n",
       "      <th>RHN</th>\n",
       "      <th>RVG</th>\n",
       "      <th>WTE</th>\n",
       "    </tr>\n",
       "  </thead>\n",
       "  <tbody>\n",
       "    <tr>\n",
       "      <th>0</th>\n",
       "      <td>10001</td>\n",
       "      <td>1942-7-1</td>\n",
       "      <td>1.016</td>\n",
       "      <td>NaN</td>\n",
       "      <td>25.555556</td>\n",
       "      <td>22.222222</td>\n",
       "      <td>23.888889</td>\n",
       "      <td>0</td>\n",
       "      <td>NaN</td>\n",
       "      <td>42</td>\n",
       "      <td>...</td>\n",
       "      <td>NaN</td>\n",
       "      <td>NaN</td>\n",
       "      <td>NaN</td>\n",
       "      <td>NaN</td>\n",
       "      <td>NaN</td>\n",
       "      <td>NaN</td>\n",
       "      <td>NaN</td>\n",
       "      <td>NaN</td>\n",
       "      <td>NaN</td>\n",
       "      <td>NaN</td>\n",
       "    </tr>\n",
       "    <tr>\n",
       "      <th>1</th>\n",
       "      <td>10001</td>\n",
       "      <td>1942-7-2</td>\n",
       "      <td>0</td>\n",
       "      <td>NaN</td>\n",
       "      <td>28.888889</td>\n",
       "      <td>21.666667</td>\n",
       "      <td>25.555556</td>\n",
       "      <td>0</td>\n",
       "      <td>NaN</td>\n",
       "      <td>42</td>\n",
       "      <td>...</td>\n",
       "      <td>NaN</td>\n",
       "      <td>NaN</td>\n",
       "      <td>NaN</td>\n",
       "      <td>NaN</td>\n",
       "      <td>NaN</td>\n",
       "      <td>NaN</td>\n",
       "      <td>NaN</td>\n",
       "      <td>NaN</td>\n",
       "      <td>NaN</td>\n",
       "      <td>NaN</td>\n",
       "    </tr>\n",
       "    <tr>\n",
       "      <th>2</th>\n",
       "      <td>10001</td>\n",
       "      <td>1942-7-3</td>\n",
       "      <td>2.54</td>\n",
       "      <td>NaN</td>\n",
       "      <td>26.111111</td>\n",
       "      <td>22.222222</td>\n",
       "      <td>24.444444</td>\n",
       "      <td>0</td>\n",
       "      <td>NaN</td>\n",
       "      <td>42</td>\n",
       "      <td>...</td>\n",
       "      <td>NaN</td>\n",
       "      <td>NaN</td>\n",
       "      <td>NaN</td>\n",
       "      <td>NaN</td>\n",
       "      <td>NaN</td>\n",
       "      <td>NaN</td>\n",
       "      <td>NaN</td>\n",
       "      <td>NaN</td>\n",
       "      <td>NaN</td>\n",
       "      <td>NaN</td>\n",
       "    </tr>\n",
       "    <tr>\n",
       "      <th>3</th>\n",
       "      <td>10001</td>\n",
       "      <td>1942-7-4</td>\n",
       "      <td>2.54</td>\n",
       "      <td>NaN</td>\n",
       "      <td>26.666667</td>\n",
       "      <td>22.222222</td>\n",
       "      <td>24.444444</td>\n",
       "      <td>0</td>\n",
       "      <td>NaN</td>\n",
       "      <td>42</td>\n",
       "      <td>...</td>\n",
       "      <td>NaN</td>\n",
       "      <td>NaN</td>\n",
       "      <td>NaN</td>\n",
       "      <td>NaN</td>\n",
       "      <td>NaN</td>\n",
       "      <td>NaN</td>\n",
       "      <td>NaN</td>\n",
       "      <td>NaN</td>\n",
       "      <td>NaN</td>\n",
       "      <td>NaN</td>\n",
       "    </tr>\n",
       "    <tr>\n",
       "      <th>4</th>\n",
       "      <td>10001</td>\n",
       "      <td>1942-7-5</td>\n",
       "      <td>0</td>\n",
       "      <td>NaN</td>\n",
       "      <td>26.666667</td>\n",
       "      <td>21.666667</td>\n",
       "      <td>24.444444</td>\n",
       "      <td>0</td>\n",
       "      <td>NaN</td>\n",
       "      <td>42</td>\n",
       "      <td>...</td>\n",
       "      <td>NaN</td>\n",
       "      <td>NaN</td>\n",
       "      <td>NaN</td>\n",
       "      <td>NaN</td>\n",
       "      <td>NaN</td>\n",
       "      <td>NaN</td>\n",
       "      <td>NaN</td>\n",
       "      <td>NaN</td>\n",
       "      <td>NaN</td>\n",
       "      <td>NaN</td>\n",
       "    </tr>\n",
       "  </tbody>\n",
       "</table>\n",
       "<p>5 rows × 31 columns</p>\n",
       "</div>"
      ],
      "text/plain": [
       "     STA      Date Precip  WindGustSpd    MaxTemp    MinTemp   MeanTemp  \\\n",
       "0  10001  1942-7-1  1.016          NaN  25.555556  22.222222  23.888889   \n",
       "1  10001  1942-7-2      0          NaN  28.888889  21.666667  25.555556   \n",
       "2  10001  1942-7-3   2.54          NaN  26.111111  22.222222  24.444444   \n",
       "3  10001  1942-7-4   2.54          NaN  26.666667  22.222222  24.444444   \n",
       "4  10001  1942-7-5      0          NaN  26.666667  21.666667  24.444444   \n",
       "\n",
       "  Snowfall PoorWeather  YR  ...  FB  FTI ITH  PGT  TSHDSBRSGF  SD3  RHX  RHN  \\\n",
       "0        0         NaN  42  ... NaN  NaN NaN  NaN         NaN  NaN  NaN  NaN   \n",
       "1        0         NaN  42  ... NaN  NaN NaN  NaN         NaN  NaN  NaN  NaN   \n",
       "2        0         NaN  42  ... NaN  NaN NaN  NaN         NaN  NaN  NaN  NaN   \n",
       "3        0         NaN  42  ... NaN  NaN NaN  NaN         NaN  NaN  NaN  NaN   \n",
       "4        0         NaN  42  ... NaN  NaN NaN  NaN         NaN  NaN  NaN  NaN   \n",
       "\n",
       "  RVG  WTE  \n",
       "0 NaN  NaN  \n",
       "1 NaN  NaN  \n",
       "2 NaN  NaN  \n",
       "3 NaN  NaN  \n",
       "4 NaN  NaN  \n",
       "\n",
       "[5 rows x 31 columns]"
      ]
     },
     "execution_count": 35,
     "metadata": {},
     "output_type": "execute_result"
    }
   ],
   "source": [
    "df = pd.read_csv(\"../../data/WWII_Weather.csv\", low_memory=False) # DtypeWarning: Columns (7,8,18,25) have mixed\n",
    "print(df.shape)\n",
    "df.head()"
   ]
  },
  {
   "cell_type": "code",
   "execution_count": 36,
   "id": "d56e0334",
   "metadata": {},
   "outputs": [
    {
     "name": "stdout",
     "output_type": "stream",
     "text": [
      "<class 'pandas.core.frame.DataFrame'>\n",
      "RangeIndex: 119040 entries, 0 to 119039\n",
      "Data columns (total 31 columns):\n",
      " #   Column       Non-Null Count   Dtype  \n",
      "---  ------       --------------   -----  \n",
      " 0   STA          119040 non-null  int64  \n",
      " 1   Date         119040 non-null  object \n",
      " 2   Precip       119040 non-null  object \n",
      " 3   WindGustSpd  532 non-null     float64\n",
      " 4   MaxTemp      119040 non-null  float64\n",
      " 5   MinTemp      119040 non-null  float64\n",
      " 6   MeanTemp     119040 non-null  float64\n",
      " 7   Snowfall     117877 non-null  object \n",
      " 8   PoorWeather  34237 non-null   object \n",
      " 9   YR           119040 non-null  int64  \n",
      " 10  MO           119040 non-null  int64  \n",
      " 11  DA           119040 non-null  int64  \n",
      " 12  PRCP         117108 non-null  object \n",
      " 13  DR           533 non-null     float64\n",
      " 14  SPD          532 non-null     float64\n",
      " 15  MAX          118566 non-null  float64\n",
      " 16  MIN          118572 non-null  float64\n",
      " 17  MEA          118542 non-null  float64\n",
      " 18  SNF          117877 non-null  object \n",
      " 19  SND          5563 non-null    float64\n",
      " 20  FT           0 non-null       float64\n",
      " 21  FB           0 non-null       float64\n",
      " 22  FTI          0 non-null       float64\n",
      " 23  ITH          0 non-null       float64\n",
      " 24  PGT          525 non-null     float64\n",
      " 25  TSHDSBRSGF   34237 non-null   object \n",
      " 26  SD3          0 non-null       float64\n",
      " 27  RHX          0 non-null       float64\n",
      " 28  RHN          0 non-null       float64\n",
      " 29  RVG          0 non-null       float64\n",
      " 30  WTE          0 non-null       float64\n",
      "dtypes: float64(20), int64(4), object(7)\n",
      "memory usage: 28.2+ MB\n"
     ]
    }
   ],
   "source": [
    "# show all columns and non-null data count\n",
    "df.info()"
   ]
  },
  {
   "cell_type": "markdown",
   "id": "301736e0",
   "metadata": {},
   "source": [
    "## 2. Missing value\n",
    "\n",
    "    (i).   Mean\n",
    "    (ii).  Median\n",
    "    (iii). Mode (眾數=出現最多次的數)\n",
    "    (iv).  Zero\n",
    "    (v).   Predict (依照經驗給定特定值，小心overfitting)"
   ]
  },
  {
   "cell_type": "code",
   "execution_count": 37,
   "id": "c4f22e12",
   "metadata": {},
   "outputs": [
    {
     "data": {
      "text/plain": [
       "(118542, 31)"
      ]
     },
     "execution_count": 37,
     "metadata": {},
     "output_type": "execute_result"
    }
   ],
   "source": [
    "# 根據本次範例，WW-II 氣溫預測，可以發現目標MEA有missing data，先排除沒有該值的Row(remove unlabel data)\n",
    "df = df.dropna(subset=[\"MEA\"])\n",
    "df.shape"
   ]
  },
  {
   "cell_type": "code",
   "execution_count": 38,
   "id": "c4bac875",
   "metadata": {},
   "outputs": [
    {
     "data": {
      "text/plain": [
       "STA                 0\n",
       "Date                0\n",
       "Precip              0\n",
       "WindGustSpd    118010\n",
       "MaxTemp             0\n",
       "MinTemp             0\n",
       "MeanTemp            0\n",
       "Snowfall         1150\n",
       "PoorWeather     84328\n",
       "YR                  0\n",
       "MO                  0\n",
       "DA                  0\n",
       "PRCP             1921\n",
       "DR             118009\n",
       "SPD            118010\n",
       "MAX                 0\n",
       "MIN                 2\n",
       "MEA                 0\n",
       "SNF              1150\n",
       "SND            112981\n",
       "FT             118542\n",
       "FB             118542\n",
       "FTI            118542\n",
       "ITH            118542\n",
       "PGT            118017\n",
       "TSHDSBRSGF      84328\n",
       "SD3            118542\n",
       "RHX            118542\n",
       "RHN            118542\n",
       "RVG            118542\n",
       "WTE            118542\n",
       "dtype: int64"
      ]
     },
     "execution_count": 38,
     "metadata": {},
     "output_type": "execute_result"
    }
   ],
   "source": [
    "## check null data\n",
    "df.isnull().sum()"
   ]
  },
  {
   "cell_type": "code",
   "execution_count": 41,
   "id": "af35b1b1",
   "metadata": {},
   "outputs": [
    {
     "name": "stdout",
     "output_type": "stream",
     "text": [
      "Index(['FT', 'FB', 'FTI', 'ITH', 'SD3', 'RHX', 'RHN', 'RVG', 'WTE'], dtype='object')\n"
     ]
    },
    {
     "data": {
      "text/plain": [
       "(118542, 22)"
      ]
     },
     "execution_count": 41,
     "metadata": {},
     "output_type": "execute_result"
    }
   ],
   "source": [
    "# 判讀null data 有完全是null的col，直接刪除\n",
    "\n",
    "whole_null_list = df.columns[(df.isnull().sum() == df.shape[0])]\n",
    "print(whole_null_list)\n",
    "\n",
    "\n",
    "df = df.drop(whole_null_list, axis=1) # axis=1 remove from col\n",
    "df.shape"
   ]
  },
  {
   "cell_type": "code",
   "execution_count": 40,
   "id": "7453b69a",
   "metadata": {},
   "outputs": [],
   "source": [
    "# 判讀columns可以發現重複的數據 remove them\n"
   ]
  },
  {
   "cell_type": "code",
   "execution_count": 37,
   "id": "0d802362",
   "metadata": {},
   "outputs": [
    {
     "data": {
      "text/html": [
       "<div>\n",
       "<style scoped>\n",
       "    .dataframe tbody tr th:only-of-type {\n",
       "        vertical-align: middle;\n",
       "    }\n",
       "\n",
       "    .dataframe tbody tr th {\n",
       "        vertical-align: top;\n",
       "    }\n",
       "\n",
       "    .dataframe thead th {\n",
       "        text-align: right;\n",
       "    }\n",
       "</style>\n",
       "<table border=\"1\" class=\"dataframe\">\n",
       "  <thead>\n",
       "    <tr style=\"text-align: right;\">\n",
       "      <th></th>\n",
       "      <th>Title</th>\n",
       "      <th>Genres</th>\n",
       "      <th>Rank</th>\n",
       "      <th>Popularity</th>\n",
       "      <th>Score</th>\n",
       "      <th>Episodes</th>\n",
       "      <th>Episode length</th>\n",
       "      <th>Release Date</th>\n",
       "    </tr>\n",
       "  </thead>\n",
       "  <tbody>\n",
       "    <tr>\n",
       "      <th>2419</th>\n",
       "      <td>Mama ga Hakuchou Datta hi</td>\n",
       "      <td>NaN</td>\n",
       "      <td>12598</td>\n",
       "      <td>17508</td>\n",
       "      <td>NaN</td>\n",
       "      <td>1</td>\n",
       "      <td>2 min.</td>\n",
       "      <td>NaN</td>\n",
       "    </tr>\n",
       "    <tr>\n",
       "      <th>2420</th>\n",
       "      <td>Mama no Earring</td>\n",
       "      <td>NaN</td>\n",
       "      <td>12599</td>\n",
       "      <td>17540</td>\n",
       "      <td>NaN</td>\n",
       "      <td>1</td>\n",
       "      <td>2 min.</td>\n",
       "      <td>NaN</td>\n",
       "    </tr>\n",
       "    <tr>\n",
       "      <th>2421</th>\n",
       "      <td>Malta no Bouken Season 3</td>\n",
       "      <td>NaN</td>\n",
       "      <td>12595</td>\n",
       "      <td>18111</td>\n",
       "      <td>NaN</td>\n",
       "      <td>12</td>\n",
       "      <td>5 min. per ep.</td>\n",
       "      <td>Spring 2017</td>\n",
       "    </tr>\n",
       "    <tr>\n",
       "      <th>2422</th>\n",
       "      <td>Malta no Kamishibai</td>\n",
       "      <td>NaN</td>\n",
       "      <td>12596</td>\n",
       "      <td>18122</td>\n",
       "      <td>NaN</td>\n",
       "      <td>6</td>\n",
       "      <td>6 min. per ep.</td>\n",
       "      <td>NaN</td>\n",
       "    </tr>\n",
       "    <tr>\n",
       "      <th>2423</th>\n",
       "      <td>Mama no Kekkon</td>\n",
       "      <td>NaN</td>\n",
       "      <td>12600</td>\n",
       "      <td>17869</td>\n",
       "      <td>NaN</td>\n",
       "      <td>1</td>\n",
       "      <td>4 min.</td>\n",
       "      <td>NaN</td>\n",
       "    </tr>\n",
       "  </tbody>\n",
       "</table>\n",
       "</div>"
      ],
      "text/plain": [
       "                          Title Genres   Rank  Popularity  Score Episodes  \\\n",
       "2419  Mama ga Hakuchou Datta hi    NaN  12598       17508    NaN        1   \n",
       "2420            Mama no Earring    NaN  12599       17540    NaN        1   \n",
       "2421   Malta no Bouken Season 3    NaN  12595       18111    NaN       12   \n",
       "2422        Malta no Kamishibai    NaN  12596       18122    NaN        6   \n",
       "2423             Mama no Kekkon    NaN  12600       17869    NaN        1   \n",
       "\n",
       "      Episode length Release Date  \n",
       "2419          2 min.          NaN  \n",
       "2420          2 min.          NaN  \n",
       "2421  5 min. per ep.  Spring 2017  \n",
       "2422  6 min. per ep.          NaN  \n",
       "2423          4 min.          NaN  "
      ]
     },
     "execution_count": 37,
     "metadata": {},
     "output_type": "execute_result"
    }
   ],
   "source": [
    "# "
   ]
  },
  {
   "cell_type": "code",
   "execution_count": 40,
   "id": "da095321",
   "metadata": {},
   "outputs": [
    {
     "name": "stdout",
     "output_type": "stream",
     "text": [
      "<class 'pandas.core.frame.DataFrame'>\n",
      "RangeIndex: 20343 entries, 0 to 20342\n",
      "Data columns (total 8 columns):\n",
      " #   Column          Non-Null Count  Dtype  \n",
      "---  ------          --------------  -----  \n",
      " 0   Title           20343 non-null  object \n",
      " 1   Genres          10016 non-null  object \n",
      " 2   Rank            20343 non-null  object \n",
      " 3   Popularity      20343 non-null  int64  \n",
      " 4   Score           20343 non-null  float64\n",
      " 5   Episodes        20343 non-null  object \n",
      " 6   Episode length  20343 non-null  object \n",
      " 7   Release Date    5087 non-null   object \n",
      "dtypes: float64(1), int64(1), object(6)\n",
      "memory usage: 1.2+ MB\n"
     ]
    }
   ],
   "source": [
    "df_anime[\"Score\"] = df_anime[\"Score\"].fillna(0)\n",
    "df_anime.info()"
   ]
  },
  {
   "cell_type": "markdown",
   "id": "3ecb0124",
   "metadata": {},
   "source": [
    "## 3. Format convert\n",
    "\n",
    "    (i).  String to integer\n",
    "    (ii). Date split"
   ]
  },
  {
   "cell_type": "code",
   "execution_count": 11,
   "id": "395ee4ac",
   "metadata": {},
   "outputs": [],
   "source": [
    "# (i).  String to integer\n",
    "# 處理 TSHDSBRSGF"
   ]
  },
  {
   "cell_type": "code",
   "execution_count": 12,
   "id": "1ea3bc8f",
   "metadata": {},
   "outputs": [],
   "source": [
    "# (ii). Date split\n",
    "# 處理 Date，雖然YR/MO/DA 有想要的資訊，但在練習一次"
   ]
  },
  {
   "cell_type": "markdown",
   "id": "a0442a47",
   "metadata": {},
   "source": [
    "## 4. Outiler value\n",
    "\n"
   ]
  },
  {
   "cell_type": "code",
   "execution_count": null,
   "id": "b91ad9b6",
   "metadata": {},
   "outputs": [],
   "source": [
    "# plot.joint\n",
    "# 變數分析"
   ]
  },
  {
   "cell_type": "markdown",
   "id": "38376c06",
   "metadata": {},
   "source": [
    "# 5. Data Standard / Max / Min Scaler"
   ]
  },
  {
   "cell_type": "code",
   "execution_count": null,
   "id": "b24fde7a",
   "metadata": {},
   "outputs": [],
   "source": [
    "# 數據分布轉換"
   ]
  }
 ],
 "metadata": {
  "kernelspec": {
   "display_name": "Python 3",
   "language": "python",
   "name": "python3"
  },
  "language_info": {
   "codemirror_mode": {
    "name": "ipython",
    "version": 3
   },
   "file_extension": ".py",
   "mimetype": "text/x-python",
   "name": "python",
   "nbconvert_exporter": "python",
   "pygments_lexer": "ipython3",
   "version": "3.8.8"
  }
 },
 "nbformat": 4,
 "nbformat_minor": 5
}
