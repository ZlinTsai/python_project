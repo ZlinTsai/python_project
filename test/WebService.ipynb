{
 "cells": [
  {
   "cell_type": "code",
   "execution_count": 2,
   "id": "2775d207",
   "metadata": {},
   "outputs": [],
   "source": [
    "from zeep import Client\n",
    "\n",
    "client = Client('http://www.webxml.com.cn/WebServices/WeatherWS.asmx?WSDL')"
   ]
  },
  {
   "cell_type": "code",
   "execution_count": 5,
   "id": "6f3fe5ff",
   "metadata": {},
   "outputs": [
    {
     "ename": "Fault",
     "evalue": "服务器无法处理请求。 ---> 值不能为空。\n参数名: input",
     "output_type": "error",
     "traceback": [
      "\u001b[0;31m---------------------------------------------------------------------------\u001b[0m",
      "\u001b[0;31mFault\u001b[0m                                     Traceback (most recent call last)",
      "Input \u001b[0;32mIn [5]\u001b[0m, in \u001b[0;36m<cell line: 1>\u001b[0;34m()\u001b[0m\n\u001b[0;32m----> 1\u001b[0m \u001b[43mclient\u001b[49m\u001b[38;5;241;43m.\u001b[39;49m\u001b[43mservice\u001b[49m\u001b[38;5;241;43m.\u001b[39;49m\u001b[43mgetWeather\u001b[49m\u001b[43m(\u001b[49m\u001b[43m)\u001b[49m\n",
      "File \u001b[0;32m~/anaconda3/lib/python3.8/site-packages/zeep/proxy.py:46\u001b[0m, in \u001b[0;36mOperationProxy.__call__\u001b[0;34m(self, *args, **kwargs)\u001b[0m\n\u001b[1;32m     43\u001b[0m \u001b[38;5;28;01mif\u001b[39;00m soap_headers:\n\u001b[1;32m     44\u001b[0m     kwargs[\u001b[38;5;124m\"\u001b[39m\u001b[38;5;124m_soapheaders\u001b[39m\u001b[38;5;124m\"\u001b[39m] \u001b[38;5;241m=\u001b[39m soap_headers\n\u001b[0;32m---> 46\u001b[0m \u001b[38;5;28;01mreturn\u001b[39;00m \u001b[38;5;28;43mself\u001b[39;49m\u001b[38;5;241;43m.\u001b[39;49m\u001b[43m_proxy\u001b[49m\u001b[38;5;241;43m.\u001b[39;49m\u001b[43m_binding\u001b[49m\u001b[38;5;241;43m.\u001b[39;49m\u001b[43msend\u001b[49m\u001b[43m(\u001b[49m\n\u001b[1;32m     47\u001b[0m \u001b[43m    \u001b[49m\u001b[38;5;28;43mself\u001b[39;49m\u001b[38;5;241;43m.\u001b[39;49m\u001b[43m_proxy\u001b[49m\u001b[38;5;241;43m.\u001b[39;49m\u001b[43m_client\u001b[49m\u001b[43m,\u001b[49m\n\u001b[1;32m     48\u001b[0m \u001b[43m    \u001b[49m\u001b[38;5;28;43mself\u001b[39;49m\u001b[38;5;241;43m.\u001b[39;49m\u001b[43m_proxy\u001b[49m\u001b[38;5;241;43m.\u001b[39;49m\u001b[43m_binding_options\u001b[49m\u001b[43m,\u001b[49m\n\u001b[1;32m     49\u001b[0m \u001b[43m    \u001b[49m\u001b[38;5;28;43mself\u001b[39;49m\u001b[38;5;241;43m.\u001b[39;49m\u001b[43m_op_name\u001b[49m\u001b[43m,\u001b[49m\n\u001b[1;32m     50\u001b[0m \u001b[43m    \u001b[49m\u001b[43margs\u001b[49m\u001b[43m,\u001b[49m\n\u001b[1;32m     51\u001b[0m \u001b[43m    \u001b[49m\u001b[43mkwargs\u001b[49m\u001b[43m,\u001b[49m\n\u001b[1;32m     52\u001b[0m \u001b[43m\u001b[49m\u001b[43m)\u001b[49m\n",
      "File \u001b[0;32m~/anaconda3/lib/python3.8/site-packages/zeep/wsdl/bindings/soap.py:135\u001b[0m, in \u001b[0;36mSoapBinding.send\u001b[0;34m(self, client, options, operation, args, kwargs)\u001b[0m\n\u001b[1;32m    132\u001b[0m \u001b[38;5;28;01mif\u001b[39;00m client\u001b[38;5;241m.\u001b[39msettings\u001b[38;5;241m.\u001b[39mraw_response:\n\u001b[1;32m    133\u001b[0m     \u001b[38;5;28;01mreturn\u001b[39;00m response\n\u001b[0;32m--> 135\u001b[0m \u001b[38;5;28;01mreturn\u001b[39;00m \u001b[38;5;28;43mself\u001b[39;49m\u001b[38;5;241;43m.\u001b[39;49m\u001b[43mprocess_reply\u001b[49m\u001b[43m(\u001b[49m\u001b[43mclient\u001b[49m\u001b[43m,\u001b[49m\u001b[43m \u001b[49m\u001b[43moperation_obj\u001b[49m\u001b[43m,\u001b[49m\u001b[43m \u001b[49m\u001b[43mresponse\u001b[49m\u001b[43m)\u001b[49m\n",
      "File \u001b[0;32m~/anaconda3/lib/python3.8/site-packages/zeep/wsdl/bindings/soap.py:229\u001b[0m, in \u001b[0;36mSoapBinding.process_reply\u001b[0;34m(self, client, operation, response)\u001b[0m\n\u001b[1;32m    227\u001b[0m fault_node \u001b[38;5;241m=\u001b[39m doc\u001b[38;5;241m.\u001b[39mfind(\u001b[38;5;124m\"\u001b[39m\u001b[38;5;124msoap-env:Body/soap-env:Fault\u001b[39m\u001b[38;5;124m\"\u001b[39m, namespaces\u001b[38;5;241m=\u001b[39m\u001b[38;5;28mself\u001b[39m\u001b[38;5;241m.\u001b[39mnsmap)\n\u001b[1;32m    228\u001b[0m \u001b[38;5;28;01mif\u001b[39;00m response\u001b[38;5;241m.\u001b[39mstatus_code \u001b[38;5;241m!=\u001b[39m \u001b[38;5;241m200\u001b[39m \u001b[38;5;129;01mor\u001b[39;00m fault_node \u001b[38;5;129;01mis\u001b[39;00m \u001b[38;5;129;01mnot\u001b[39;00m \u001b[38;5;28;01mNone\u001b[39;00m:\n\u001b[0;32m--> 229\u001b[0m     \u001b[38;5;28;01mreturn\u001b[39;00m \u001b[38;5;28;43mself\u001b[39;49m\u001b[38;5;241;43m.\u001b[39;49m\u001b[43mprocess_error\u001b[49m\u001b[43m(\u001b[49m\u001b[43mdoc\u001b[49m\u001b[43m,\u001b[49m\u001b[43m \u001b[49m\u001b[43moperation\u001b[49m\u001b[43m)\u001b[49m\n\u001b[1;32m    231\u001b[0m result \u001b[38;5;241m=\u001b[39m operation\u001b[38;5;241m.\u001b[39mprocess_reply(doc)\n\u001b[1;32m    233\u001b[0m \u001b[38;5;28;01mif\u001b[39;00m message_pack:\n",
      "File \u001b[0;32m~/anaconda3/lib/python3.8/site-packages/zeep/wsdl/bindings/soap.py:329\u001b[0m, in \u001b[0;36mSoap11Binding.process_error\u001b[0;34m(self, doc, operation)\u001b[0m\n\u001b[1;32m    326\u001b[0m     \u001b[38;5;28;01mif\u001b[39;00m child \u001b[38;5;129;01mis\u001b[39;00m \u001b[38;5;129;01mnot\u001b[39;00m \u001b[38;5;28;01mNone\u001b[39;00m:\n\u001b[1;32m    327\u001b[0m         \u001b[38;5;28;01mreturn\u001b[39;00m child\u001b[38;5;241m.\u001b[39mtext\n\u001b[0;32m--> 329\u001b[0m \u001b[38;5;28;01mraise\u001b[39;00m Fault(\n\u001b[1;32m    330\u001b[0m     message\u001b[38;5;241m=\u001b[39mget_text(\u001b[38;5;124m\"\u001b[39m\u001b[38;5;124mfaultstring\u001b[39m\u001b[38;5;124m\"\u001b[39m),\n\u001b[1;32m    331\u001b[0m     code\u001b[38;5;241m=\u001b[39mget_text(\u001b[38;5;124m\"\u001b[39m\u001b[38;5;124mfaultcode\u001b[39m\u001b[38;5;124m\"\u001b[39m),\n\u001b[1;32m    332\u001b[0m     actor\u001b[38;5;241m=\u001b[39mget_text(\u001b[38;5;124m\"\u001b[39m\u001b[38;5;124mfaultactor\u001b[39m\u001b[38;5;124m\"\u001b[39m),\n\u001b[1;32m    333\u001b[0m     detail\u001b[38;5;241m=\u001b[39mfault_node\u001b[38;5;241m.\u001b[39mfind(\u001b[38;5;124m\"\u001b[39m\u001b[38;5;124mdetail\u001b[39m\u001b[38;5;124m\"\u001b[39m, namespaces\u001b[38;5;241m=\u001b[39mfault_node\u001b[38;5;241m.\u001b[39mnsmap),\n\u001b[1;32m    334\u001b[0m )\n",
      "\u001b[0;31mFault\u001b[0m: 服务器无法处理请求。 ---> 值不能为空。\n参数名: input"
     ]
    }
   ],
   "source": [
    "client.service.getWeather()"
   ]
  },
  {
   "cell_type": "code",
   "execution_count": null,
   "id": "5f78dfe7",
   "metadata": {},
   "outputs": [],
   "source": []
  }
 ],
 "metadata": {
  "kernelspec": {
   "display_name": "Python 3 (ipykernel)",
   "language": "python",
   "name": "python3"
  },
  "language_info": {
   "codemirror_mode": {
    "name": "ipython",
    "version": 3
   },
   "file_extension": ".py",
   "mimetype": "text/x-python",
   "name": "python",
   "nbconvert_exporter": "python",
   "pygments_lexer": "ipython3",
   "version": "3.8.8"
  }
 },
 "nbformat": 4,
 "nbformat_minor": 5
}
