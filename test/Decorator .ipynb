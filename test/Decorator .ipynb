{
 "cells": [
  {
   "cell_type": "markdown",
   "id": "5aa01358",
   "metadata": {},
   "source": [
    "# Decorator \n",
    "\n",
    "syntax candy（語法糖、語法糖衣）就是讓語法簡化的語法，可能原先要寫數十行的 code，若該語言有提供對應的 syntax candy，很可能寫個幾行或是寫個符號上去，就可以輕鬆完成了。\n",
    "\n",
    "1. 降低程式碼重複率\n",
    "2. 易讀性高\n",
    "3. 靈活度高"
   ]
  },
  {
   "cell_type": "code",
   "execution_count": 16,
   "id": "524fb41e",
   "metadata": {},
   "outputs": [
    {
     "name": "stdout",
     "output_type": "stream",
     "text": [
      "starting... \n",
      "do some thing\n",
      "[花費時間] 3.0032150745391846\n",
      "dosomething\n"
     ]
    }
   ],
   "source": [
    "import time\n",
    "\n",
    "def timer(func):\n",
    "    def wrap(sleep_time):\n",
    "        print(\"starting... \")\n",
    "        t_start = time.time()\n",
    "        func(sleep_time)\n",
    "        t_end = time.time()\n",
    "        t_count = t_end - t_start\n",
    "        print(\"[花費時間]\", t_count)\n",
    "\n",
    "    return wrap\n",
    "\n",
    "\n",
    "def dosomething(sleep_time):\n",
    "    print(\"do some thing\")\n",
    "    time.sleep(sleep_time)\n",
    "\n",
    "\n",
    "foo = timer(dosomething)\n",
    "foo(3)\n",
    "\n",
    "print(dosomething.__name__)"
   ]
  },
  {
   "cell_type": "code",
   "execution_count": 23,
   "id": "7a4f3920",
   "metadata": {},
   "outputs": [
    {
     "name": "stdout",
     "output_type": "stream",
     "text": [
      "starting... \n",
      "3\n",
      "do some thing\n",
      "[花費時間] 3.0031535625457764\n",
      "wrap\n"
     ]
    }
   ],
   "source": [
    "def timer(func):\n",
    "    def wrap(sleep_time):\n",
    "        print(\"starting... \")\n",
    "        print(sleep_time)\n",
    "        t_start = time.time()\n",
    "        func(sleep_time) # => goto func\n",
    "        t_end = time.time()\n",
    "        t_count = t_end - t_start\n",
    "        print(\"[花費時間]\", t_count)\n",
    "\n",
    "    return wrap\n",
    "\n",
    "@timer\n",
    "def dosomething(test):\n",
    "    print(\"do some thing\")\n",
    "    time.sleep(test)\n",
    "\n",
    "dosomething(3)\n",
    "print(dosomething.__name__)"
   ]
  },
  {
   "cell_type": "code",
   "execution_count": 7,
   "id": "110e22b0",
   "metadata": {},
   "outputs": [
    {
     "name": "stdout",
     "output_type": "stream",
     "text": [
      "@timer\n",
      "@func_print (1, 2) \t {}\n",
      "do some thing\n",
      "3\n",
      "@func_print end!\n",
      "[花費時間] 0.00003 sec\n"
     ]
    }
   ],
   "source": [
    "from functools import wraps\n",
    "import time\n",
    "\n",
    "def timer(func):\n",
    "    @wraps(func)\n",
    "    def wrap(*args, **kargs):\n",
    "        print(\"@timer\")\n",
    "        t_start = time.time()\n",
    "        value = func(*args, **kargs)\n",
    "        t_end = time.time()\n",
    "        t_count = t_end - t_start\n",
    "        print(\"[花費時間] {:1.5f} sec\".format(t_count))\n",
    "        return value\n",
    "    return wrap\n",
    "\n",
    "def func_print(func):\n",
    "    @wraps(func)\n",
    "    def wrap(*args, **kargs):\n",
    "        print(f'@func_print {args} \\t {kargs}')\n",
    "        value = func(*args, **kargs)\n",
    "        print('@func_print end!')\n",
    "        return value\n",
    "\n",
    "    return wrap\n",
    "\n",
    "@timer\n",
    "@func_print\n",
    "def dosomething(a, b):\n",
    "    print('do some thing')\n",
    "    print(a + b)\n",
    "\n",
    "\n",
    "dosomething(1, 2)"
   ]
  },
  {
   "cell_type": "code",
   "execution_count": 4,
   "id": "d59bc0f8",
   "metadata": {},
   "outputs": [],
   "source": [
    "def testFunc(a, b, c, d, *args, **kargs):\n",
    "    print(args)\n",
    "    print(kargs)\n",
    "    return a+b+c+d\n",
    "\n"
   ]
  },
  {
   "cell_type": "code",
   "execution_count": 5,
   "id": "b1b35f58",
   "metadata": {},
   "outputs": [
    {
     "name": "stdout",
     "output_type": "stream",
     "text": [
      "(5, 6, 7, 8, 9)\n",
      "{}\n"
     ]
    },
    {
     "data": {
      "text/plain": [
       "10"
      ]
     },
     "execution_count": 5,
     "metadata": {},
     "output_type": "execute_result"
    }
   ],
   "source": [
    "testFunc(1, 2, 3, 4, 5, 6, 7, 8, 9)"
   ]
  },
  {
   "cell_type": "code",
   "execution_count": 56,
   "id": "04f9346c",
   "metadata": {},
   "outputs": [],
   "source": [
    "from functools import wraps\n",
    "from random import uniform\n",
    "import numpy as np\n",
    "import time\n",
    "\n",
    "def funcTimer(func):\n",
    "    @wraps(func)\n",
    "    def wrapper(*args, **kwargs):\n",
    "        t_start = time.time()\n",
    "        print(f\"{args} \\t {kwargs}\")\n",
    "        result = func(*args, **kwargs)\n",
    "        t_end = time.time()\n",
    "        t_count = t_end - t_start\n",
    "        print(\"cost time: {0:1.4f} sec\".format(t_count))\n",
    "        return result\n",
    "    return wrapper\n",
    "\n",
    "@funcTimer\n",
    "def findPi(Num=1000, b=0, c=0, d=0, e=0):\n",
    "    NumInCircle = 0\n",
    "    for i in np.arange(Num):\n",
    "        x = uniform(0.0, 1.0) #  0 <= x <= 1\n",
    "        y = uniform(0.0, 1.0) #  0 <= x <= 1\n",
    "        r = np.sqrt(x**2 + y**2)\n",
    "        if (r <= 1):\n",
    "            NumInCircle += 1\n",
    "            \n",
    "    valPi = 4 * NumInCircle / Num\n",
    "    print(\"Pi = {0:1.6f}\".format(valPi))\n",
    "    \n",
    "    print(f\"Test {b}, {c}, {d}, {e}\")\n",
    "    \n",
    "    return \"findPi finish\"\n",
    "    \n",
    "    \n",
    "@funcTimer\n",
    "def sumAll(a=0, b=0, c=0, d=0):\n",
    "    sum = a + b + c + d\n",
    "    \n",
    "    print(f\"Test {sum}\")\n",
    "    \n",
    "    return \"sumAll finish\""
   ]
  },
  {
   "cell_type": "code",
   "execution_count": 60,
   "id": "440f4da0",
   "metadata": {},
   "outputs": [
    {
     "name": "stdout",
     "output_type": "stream",
     "text": [
      "() \t {'Num': 1000000, 'b': 1, 'c': 2, 'd': 3, 'e': 4}\n",
      "Pi = 3.141540\n",
      "Test 1, 2, 3, 4\n",
      "cost time: 1.2577 sec\n"
     ]
    },
    {
     "data": {
      "text/plain": [
       "'findPi finish'"
      ]
     },
     "execution_count": 60,
     "metadata": {},
     "output_type": "execute_result"
    }
   ],
   "source": [
    "# by dict -> kwargs\n",
    "findPi(Num=1000000, b=1, c=2, d=3, e=4)"
   ]
  },
  {
   "cell_type": "code",
   "execution_count": 61,
   "id": "a7cf3033",
   "metadata": {},
   "outputs": [
    {
     "name": "stdout",
     "output_type": "stream",
     "text": [
      "(1000000, 1, 2, 3, 4) \t {}\n",
      "Pi = 3.138812\n",
      "Test 1, 2, 3, 4\n",
      "cost time: 1.3896 sec\n"
     ]
    },
    {
     "data": {
      "text/plain": [
       "'findPi finish'"
      ]
     },
     "execution_count": 61,
     "metadata": {},
     "output_type": "execute_result"
    }
   ],
   "source": [
    "# by dict -> kwargs\n",
    "findPi(1000000, 1, 2, 3, 4)"
   ]
  },
  {
   "cell_type": "code",
   "execution_count": 58,
   "id": "a7f59b27",
   "metadata": {},
   "outputs": [
    {
     "name": "stdout",
     "output_type": "stream",
     "text": [
      "(1000000, 1, 2, 3) \t {}\n",
      "Test 1000006\n",
      "cost time: 0.0003 sec\n"
     ]
    },
    {
     "data": {
      "text/plain": [
       "'sumAll finish'"
      ]
     },
     "execution_count": 58,
     "metadata": {},
     "output_type": "execute_result"
    }
   ],
   "source": [
    "# by tuple -> args\n",
    "sumAll(1000000, 1, 2, 3)"
   ]
  },
  {
   "cell_type": "code",
   "execution_count": 47,
   "id": "74a68fc3",
   "metadata": {},
   "outputs": [
    {
     "name": "stdout",
     "output_type": "stream",
     "text": [
      "Sansa is 20 years old\n",
      "Tyrion is 40 years old\n",
      "Arya is 17 years old\n"
     ]
    }
   ],
   "source": [
    "def myprint(**kwargs):\n",
    "    for k,v in kwargs.items():\n",
    "        print(f'{k} is {v} years old')\n",
    "\n",
    "myprint(Sansa=20,Tyrion=40,Arya=17)"
   ]
  },
  {
   "cell_type": "code",
   "execution_count": null,
   "id": "a2fab9d1",
   "metadata": {},
   "outputs": [],
   "source": []
  }
 ],
 "metadata": {
  "kernelspec": {
   "display_name": "Python 3",
   "language": "python",
   "name": "python3"
  },
  "language_info": {
   "codemirror_mode": {
    "name": "ipython",
    "version": 3
   },
   "file_extension": ".py",
   "mimetype": "text/x-python",
   "name": "python",
   "nbconvert_exporter": "python",
   "pygments_lexer": "ipython3",
   "version": "3.8.8"
  }
 },
 "nbformat": 4,
 "nbformat_minor": 5
}
