{
 "cells": [
  {
   "cell_type": "markdown",
   "id": "f8c0a0ab",
   "metadata": {},
   "source": [
    "# List\n",
    "\n",
    "* ordered container\n",
    "\n",
    "list 可以存anything(int, float, string...)"
   ]
  },
  {
   "cell_type": "code",
   "execution_count": 4,
   "id": "7234dac5",
   "metadata": {},
   "outputs": [
    {
     "name": "stdout",
     "output_type": "stream",
     "text": [
      "key daata:10 20 30\n",
      "10 20\n",
      "key daata:10,40,50\n",
      "10 40\n"
     ]
    }
   ],
   "source": [
    "dataStr = input(\"key daata:\")\n",
    "data = dataStr.split() # split Definition  by \" \"\n",
    "print(data[0], data[1])\n",
    "\n",
    "dataStr = input(\"key daata:\")\n",
    "data = dataStr.split(\",\") # split by \",\"\n",
    "print(data[0], data[1])"
   ]
  },
  {
   "cell_type": "code",
   "execution_count": 24,
   "id": "0af876c4",
   "metadata": {},
   "outputs": [
    {
     "name": "stdout",
     "output_type": "stream",
     "text": [
      "[1, 2, 3, 1, 2, 3]\n"
     ]
    }
   ],
   "source": [
    "# List declaration\n",
    "\n",
    "aList = [1,2,3]*2\n",
    "print(aList)"
   ]
  },
  {
   "cell_type": "code",
   "execution_count": 25,
   "id": "aa95aebd",
   "metadata": {},
   "outputs": [
    {
     "name": "stdout",
     "output_type": "stream",
     "text": [
      "[1, 2, 3, 1, 2, 3, 1]\n",
      "[1, 1, 1, 2, 2, 3, 3]\n",
      "[3, 3, 2, 2, 1, 1, 1]\n",
      "0\n",
      "[3, 3, 2, 2, 1, 1, 1, 7]\n",
      "[3, 2, 2, 1, 1, 1, 7]\n",
      "[3, 2, 2, 1, 1, 1]\n"
     ]
    }
   ],
   "source": [
    "aList.append(1)\n",
    "print(aList)\n",
    "\n",
    "aList.sort()\n",
    "print(aList)\n",
    "\n",
    "aList.reverse()\n",
    "print(aList)\n",
    "\n",
    "print(aList.index(3)) # find frist 3, return its index\n",
    "\n",
    "aList.insert(8, 7) # insert 7 at index==8\n",
    "print(aList)\n",
    "\n",
    "aList.remove(3) # find frist 3, and remove it\n",
    "print(aList)\n",
    "\n",
    "aList.pop() # drop last element\n",
    "print(aList) "
   ]
  },
  {
   "cell_type": "markdown",
   "id": "6072d007",
   "metadata": {},
   "source": [
    "### list is OOP"
   ]
  },
  {
   "cell_type": "code",
   "execution_count": null,
   "id": "0fbd5030",
   "metadata": {},
   "outputs": [],
   "source": []
  }
 ],
 "metadata": {
  "kernelspec": {
   "display_name": "Python 3",
   "language": "python",
   "name": "python3"
  },
  "language_info": {
   "codemirror_mode": {
    "name": "ipython",
    "version": 3
   },
   "file_extension": ".py",
   "mimetype": "text/x-python",
   "name": "python",
   "nbconvert_exporter": "python",
   "pygments_lexer": "ipython3",
   "version": "3.8.8"
  }
 },
 "nbformat": 4,
 "nbformat_minor": 5
}
