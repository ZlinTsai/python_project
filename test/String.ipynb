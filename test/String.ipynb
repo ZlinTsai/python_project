{
 "cells": [
  {
   "cell_type": "markdown",
   "id": "c3549b93",
   "metadata": {},
   "source": [
    "# String\n",
    "\n",
    "EX: s = 'Kenny' "
   ]
  },
  {
   "cell_type": "code",
   "execution_count": 14,
   "id": "be4e227f",
   "metadata": {},
   "outputs": [],
   "source": [
    "s = 'Kenny'"
   ]
  },
  {
   "cell_type": "code",
   "execution_count": 15,
   "id": "8109abaf",
   "metadata": {},
   "outputs": [
    {
     "data": {
      "text/plain": [
       "5"
      ]
     },
     "execution_count": 15,
     "metadata": {},
     "output_type": "execute_result"
    }
   ],
   "source": [
    "len(s)"
   ]
  },
  {
   "cell_type": "code",
   "execution_count": 16,
   "id": "2e03b43b",
   "metadata": {},
   "outputs": [
    {
     "name": "stdout",
     "output_type": "stream",
     "text": [
      "index: 0, s = K\n",
      "index: 1, s = e\n",
      "index: 2, s = n\n",
      "index: 3, s = n\n",
      "index: 4, s = y\n"
     ]
    }
   ],
   "source": [
    "# use index\n",
    "for idx in range(len(s)):\n",
    "    print(\"index: %d, s = %s\" %(idx, s[idx]) )"
   ]
  },
  {
   "cell_type": "code",
   "execution_count": 17,
   "id": "7efd8bac",
   "metadata": {},
   "outputs": [
    {
     "name": "stdout",
     "output_type": "stream",
     "text": [
      "index: -1, s = y\n",
      "index: -2, s = n\n",
      "index: -3, s = n\n",
      "index: -4, s = e\n",
      "index: -5, s = K\n"
     ]
    }
   ],
   "source": [
    "# negative index\n",
    "for i in range(len(s)+1, len(s)*2+1, 1):\n",
    "    idx = len(s) - i\n",
    "    print(\"index: %d, s = %s\" %(idx, s[idx]) )"
   ]
  },
  {
   "cell_type": "code",
   "execution_count": 18,
   "id": "9e69f179",
   "metadata": {},
   "outputs": [
    {
     "name": "stdout",
     "output_type": "stream",
     "text": [
      "Ke\n"
     ]
    }
   ],
   "source": [
    "# slice string\n",
    "print(s[0:2]) # [0] + [1]"
   ]
  },
  {
   "cell_type": "code",
   "execution_count": 19,
   "id": "39b095ef",
   "metadata": {},
   "outputs": [
    {
     "name": "stdout",
     "output_type": "stream",
     "text": [
      "K\n",
      "e\n",
      "n\n",
      "n\n",
      "y\n"
     ]
    }
   ],
   "source": [
    "# in for lp\n",
    "for text in s:\n",
    "    print(text)"
   ]
  },
  {
   "cell_type": "markdown",
   "id": "f9b71715",
   "metadata": {},
   "source": [
    "# String, List, and Sequence\n",
    "\n",
    "    * String and List are quite similar\n",
    "    \n",
    "    * String and List are a specical kind of Sequence(ordered array)"
   ]
  },
  {
   "cell_type": "code",
   "execution_count": 20,
   "id": "ae2c7abf",
   "metadata": {},
   "outputs": [
    {
     "data": {
      "text/plain": [
       "[1, 2, 3, 4]"
      ]
     },
     "execution_count": 20,
     "metadata": {},
     "output_type": "execute_result"
    }
   ],
   "source": [
    "[1, 2] + [3, 4]"
   ]
  },
  {
   "cell_type": "code",
   "execution_count": 22,
   "id": "c963bab5",
   "metadata": {},
   "outputs": [
    {
     "data": {
      "text/plain": [
       "[1, 2, 1, 2, 1, 2]"
      ]
     },
     "execution_count": 22,
     "metadata": {},
     "output_type": "execute_result"
    }
   ],
   "source": [
    "[1, 2] * 3"
   ]
  },
  {
   "cell_type": "code",
   "execution_count": 26,
   "id": "24b5d8b0",
   "metadata": {},
   "outputs": [
    {
     "data": {
      "text/plain": [
       "['A', 'B', 'A', 'B', 'A', 'B']"
      ]
     },
     "execution_count": 26,
     "metadata": {},
     "output_type": "execute_result"
    }
   ],
   "source": [
    "grades = ['A', 'B']*3\n",
    "grades"
   ]
  },
  {
   "cell_type": "code",
   "execution_count": 25,
   "id": "54dd71d9",
   "metadata": {},
   "outputs": [
    {
     "data": {
      "text/plain": [
       "6"
      ]
     },
     "execution_count": 25,
     "metadata": {},
     "output_type": "execute_result"
    }
   ],
   "source": [
    "len(grades)"
   ]
  },
  {
   "cell_type": "markdown",
   "id": "4b8baa17",
   "metadata": {},
   "source": [
    "### difference between String and List"
   ]
  },
  {
   "cell_type": "code",
   "execution_count": 30,
   "id": "4da7fbea",
   "metadata": {},
   "outputs": [
    {
     "name": "stdout",
     "output_type": "stream",
     "text": [
      "<class 'str'>\n",
      "<class 'float'>\n"
     ]
    }
   ],
   "source": [
    "# element of list can contain anything\n",
    "# string only char\n",
    "\n",
    "s = 'Kenny123'\n",
    "l = ['K', 'e', 'n', 'n', 'y', 1, 2.0, '3']\n",
    "print(s)\n",
    "print(type(s[-2]))\n",
    "print(l)\n",
    "print(type(l[-2]))"
   ]
  },
  {
   "cell_type": "code",
   "execution_count": 32,
   "id": "09d03bfe",
   "metadata": {},
   "outputs": [
    {
     "data": {
      "text/plain": [
       "['C', 'e', 'n', 'n', 'y', 1, 2.0, '3']"
      ]
     },
     "execution_count": 32,
     "metadata": {},
     "output_type": "execute_result"
    }
   ],
   "source": [
    "# list is mutable\n",
    "l[0] = 'C'\n",
    "l"
   ]
  },
  {
   "cell_type": "code",
   "execution_count": 34,
   "id": "7f05d7d3",
   "metadata": {},
   "outputs": [
    {
     "ename": "TypeError",
     "evalue": "'str' object does not support item assignment",
     "output_type": "error",
     "traceback": [
      "\u001b[0;31m---------------------------------------------------------------------------\u001b[0m",
      "\u001b[0;31mTypeError\u001b[0m                                 Traceback (most recent call last)",
      "\u001b[0;32m<ipython-input-34-65f289b19389>\u001b[0m in \u001b[0;36m<module>\u001b[0;34m\u001b[0m\n\u001b[1;32m      1\u001b[0m \u001b[0;31m# string can noot be changed\u001b[0m\u001b[0;34m\u001b[0m\u001b[0;34m\u001b[0m\u001b[0;34m\u001b[0m\u001b[0m\n\u001b[0;32m----> 2\u001b[0;31m \u001b[0ms\u001b[0m\u001b[0;34m[\u001b[0m\u001b[0;36m0\u001b[0m\u001b[0;34m]\u001b[0m \u001b[0;34m=\u001b[0m \u001b[0;34m'C'\u001b[0m\u001b[0;34m\u001b[0m\u001b[0;34m\u001b[0m\u001b[0m\n\u001b[0m\u001b[1;32m      3\u001b[0m \u001b[0ms\u001b[0m\u001b[0;34m\u001b[0m\u001b[0;34m\u001b[0m\u001b[0m\n",
      "\u001b[0;31mTypeError\u001b[0m: 'str' object does not support item assignment"
     ]
    }
   ],
   "source": [
    "# string can noot be changed (immutable object)\n",
    "s[0] = 'C'\n",
    "s"
   ]
  },
  {
   "cell_type": "code",
   "execution_count": 39,
   "id": "40a67b09",
   "metadata": {},
   "outputs": [],
   "source": [
    "# Converting Data Format\n",
    "\n",
    "def ymd2mdy(text):\n",
    "    text = str(text)\n",
    "    yy = text[0:4]\n",
    "    mm = text[4:6]\n",
    "    dd = text[6:8]\n",
    "    return mm + dd + yy"
   ]
  },
  {
   "cell_type": "code",
   "execution_count": 40,
   "id": "a3c31062",
   "metadata": {},
   "outputs": [
    {
     "name": "stdout",
     "output_type": "stream",
     "text": [
      "12032014\n"
     ]
    }
   ],
   "source": [
    "print(ymd2mdy(20141203))"
   ]
  },
  {
   "cell_type": "markdown",
   "id": "6c1786ab",
   "metadata": {},
   "source": [
    "## 身分證 驗證機制\n",
    "\n",
    "中華民國的身分證字號有其特定的編碼原則。第一個字是大寫的英文字母，其餘9個字必須為數字， 但在套用編碼原則時，第一個英文字母將會先依下表被轉換為數字\n",
    "\n",
    "|  |   |   |   |   |   |   |   |   |   |   |   |   |   |\n",
    "|------|----|----|----|----|----|----|----|----|----|----|----|----|----|\n",
    "| 字母 | A  | B  | C  | D  | E  | F  | G  | H  | J  | K  | L  | M  | N  |\n",
    "| 數字 | 10 | 11 | 12 | 13 | 14 | 15 | 16 | 17 | 18 | 19 | 20 | 21 | 22 |\n",
    "| 字母 | P  | Q  | R  | S  | T  | U  | V  | X  | Y  | W  | Z  | I  | O  |\n",
    "| 數字 | 23 | 24 | 25 | 26 | 27 | 28 | 29 | 30 | 31 | 32 | 33 | 34 | 35 |\n",
    "\n",
    "轉換後的身分證字號(共11位數字)每一位數均有固定的權重(Weight)，由左往右依序為 『1 9 8 7 6 5 4 3 2 1 1』。判斷身分證字號是否正確的方法為： 各位數字與其相對應的權重相乘後再加總，加總後的結果若為10的倍數則身分證字號即屬正確。"
   ]
  },
  {
   "cell_type": "code",
   "execution_count": 103,
   "id": "0375ab1f",
   "metadata": {},
   "outputs": [],
   "source": [
    "def convertAlphabet(text):\n",
    "    ans = 0\n",
    "    # A ~ H\n",
    "    if (text <= 'H'):\n",
    "        ans = ord(text) - ord('A') + 10\n",
    "        return ans\n",
    "    # I\n",
    "    elif (text == 'I'):\n",
    "        ans = 34\n",
    "        return ans\n",
    "    # J ~ N\n",
    "    elif (text <= 'N'):\n",
    "        ans = ord(text) - ord('A') + 9\n",
    "        return ans\n",
    "    # O\n",
    "    elif (text == 'O'):\n",
    "        ans = 35\n",
    "        return ans\n",
    "    # P ~ V\n",
    "    elif (text == 'V'):\n",
    "        ans = ord(text) - ord('A') + 8\n",
    "        return ans\n",
    "    # W\n",
    "    elif (text == 'W'):\n",
    "        ans = 32\n",
    "        return ans\n",
    "    # X\n",
    "    elif (text == 'X'):\n",
    "        ans = 30\n",
    "        return ans\n",
    "    # Y\n",
    "    elif (text == 'Y'):\n",
    "        ans = 31\n",
    "        return ans\n",
    "    # Z\n",
    "    elif (text == 'Z'):\n",
    "        ans = 33\n",
    "        return ans"
   ]
  },
  {
   "cell_type": "code",
   "execution_count": 104,
   "id": "c1c3a82f",
   "metadata": {},
   "outputs": [
    {
     "data": {
      "text/plain": [
       "11"
      ]
     },
     "execution_count": 104,
     "metadata": {},
     "output_type": "execute_result"
    }
   ],
   "source": [
    "convertAlphabet('B')"
   ]
  },
  {
   "cell_type": "code",
   "execution_count": 117,
   "id": "6bfb334b",
   "metadata": {},
   "outputs": [],
   "source": [
    "# Validating Taiwan ID String\n",
    "\n",
    "def validID(data):\n",
    "    \n",
    "    data = list(data)\n",
    "    \n",
    "    # cjeck len == 10\n",
    "    if (len(data) != 10):\n",
    "        print(\"len != 10\")\n",
    "        return False\n",
    "    \n",
    "    # check frist letter\n",
    "    if (data[0] < 'A' or data[0] > 'Z'):\n",
    "        print(\"ID[0] is not at A~Z\")\n",
    "        return False\n",
    "    \n",
    "    # check other letter is number\n",
    "    for elem in data[1:]:\n",
    "        if (elem < '0' or elem > '9'):\n",
    "            print(\"ID[1:] is not number\")\n",
    "            return False\n",
    "    \n",
    "    # check secnod letter 1 or 2 => male or female\n",
    "    if (data[1] == 1 or data[1] == 2):\n",
    "        print(\"ID[1] is not 1 or 2\")\n",
    "        return False\n",
    "    \n",
    "    # convect frist element\n",
    "    newElem = convertAlphabet(data[0])\n",
    "    data[0] = newElem // 10\n",
    "    data.insert(1, newElem % 10)\n",
    "    print(data)\n",
    "    \n",
    "    # check sum\n",
    "    sum = 0\n",
    "    weigth = [1, 9, 8, 7, 6, 5, 4, 3, 2, 1, 1]\n",
    "    for idx in range(0, len(data), 1):\n",
    "        sum += weigth[idx] * int(data[idx])\n",
    "        \n",
    "    print(\"sum =\", sum)\n",
    "    \n",
    "    if (sum % 10 != 0):\n",
    "        print(\"sum vaild fail\")\n",
    "        return False\n",
    "    \n",
    "    return True"
   ]
  },
  {
   "cell_type": "code",
   "execution_count": 118,
   "id": "7b65e657",
   "metadata": {},
   "outputs": [
    {
     "name": "stdout",
     "output_type": "stream",
     "text": [
      "[3, 3, '1', '2', '3', '4', '5', '6', '7', '8', '0']\n",
      "sum = 150\n"
     ]
    },
    {
     "data": {
      "text/plain": [
       "True"
      ]
     },
     "execution_count": 118,
     "metadata": {},
     "output_type": "execute_result"
    }
   ],
   "source": [
    "validID('Z123456780')"
   ]
  },
  {
   "cell_type": "markdown",
   "id": "d00c73ef",
   "metadata": {},
   "source": [
    "# Commen operator"
   ]
  },
  {
   "cell_type": "code",
   "execution_count": 157,
   "id": "b919b2d7",
   "metadata": {},
   "outputs": [
    {
     "data": {
      "text/plain": [
       "'W'"
      ]
     },
     "execution_count": 157,
     "metadata": {},
     "output_type": "execute_result"
    }
   ],
   "source": [
    "## chr and ord\n",
    "chr(87)"
   ]
  },
  {
   "cell_type": "code",
   "execution_count": 120,
   "id": "9aea0b19",
   "metadata": {},
   "outputs": [
    {
     "data": {
      "text/plain": [
       "87"
      ]
     },
     "execution_count": 120,
     "metadata": {},
     "output_type": "execute_result"
    }
   ],
   "source": [
    "ord('W')"
   ]
  },
  {
   "cell_type": "code",
   "execution_count": 121,
   "id": "30f24fd7",
   "metadata": {},
   "outputs": [
    {
     "data": {
      "text/plain": [
       "29399"
      ]
     },
     "execution_count": 121,
     "metadata": {},
     "output_type": "execute_result"
    }
   ],
   "source": [
    "ord('狗')"
   ]
  },
  {
   "cell_type": "code",
   "execution_count": 122,
   "id": "7884df58",
   "metadata": {},
   "outputs": [
    {
     "data": {
      "text/plain": [
       "'狗'"
      ]
     },
     "execution_count": 122,
     "metadata": {},
     "output_type": "execute_result"
    }
   ],
   "source": [
    "chr(29399)"
   ]
  },
  {
   "cell_type": "code",
   "execution_count": 129,
   "id": "30215db8",
   "metadata": {},
   "outputs": [],
   "source": [
    "s = 'kenny + 123'"
   ]
  },
  {
   "cell_type": "code",
   "execution_count": 133,
   "id": "12dcbc00",
   "metadata": {},
   "outputs": [
    {
     "name": "stdout",
     "output_type": "stream",
     "text": [
      "Kenny + 123\n",
      "Kenny + 123\n",
      "KENNY + 123\n",
      "kanny + 123\n"
     ]
    }
   ],
   "source": [
    "print(s.capitalize()) # first upper\n",
    "print(s.title()) # first upper\n",
    "print(s.upper())\n",
    "print(s.replace('e', 'a'))"
   ]
  },
  {
   "cell_type": "code",
   "execution_count": 134,
   "id": "47d8c79d",
   "metadata": {},
   "outputs": [
    {
     "data": {
      "text/plain": [
       "True"
      ]
     },
     "execution_count": 134,
     "metadata": {},
     "output_type": "execute_result"
    }
   ],
   "source": [
    "uletter = \"ABCDEFGHIJKLMNOPQRSYUVWXYZ\"\n",
    "\n",
    "'A' in uletter"
   ]
  },
  {
   "cell_type": "code",
   "execution_count": 135,
   "id": "8f07ea6d",
   "metadata": {},
   "outputs": [
    {
     "data": {
      "text/plain": [
       "False"
      ]
     },
     "execution_count": 135,
     "metadata": {},
     "output_type": "execute_result"
    }
   ],
   "source": [
    "'a' in uletter"
   ]
  },
  {
   "cell_type": "code",
   "execution_count": 136,
   "id": "e8edcd7b",
   "metadata": {},
   "outputs": [
    {
     "data": {
      "text/plain": [
       "False"
      ]
     },
     "execution_count": 136,
     "metadata": {},
     "output_type": "execute_result"
    }
   ],
   "source": [
    "'AD' in uletter"
   ]
  },
  {
   "cell_type": "code",
   "execution_count": 137,
   "id": "977926c7",
   "metadata": {},
   "outputs": [
    {
     "data": {
      "text/plain": [
       "True"
      ]
     },
     "execution_count": 137,
     "metadata": {},
     "output_type": "execute_result"
    }
   ],
   "source": [
    "'MN' in uletter"
   ]
  },
  {
   "cell_type": "code",
   "execution_count": 138,
   "id": "0d1cea3a",
   "metadata": {},
   "outputs": [
    {
     "data": {
      "text/plain": [
       "4"
      ]
     },
     "execution_count": 138,
     "metadata": {},
     "output_type": "execute_result"
    }
   ],
   "source": [
    "tel = \"0912-123-456\"\n",
    "\n",
    "tel.find('-')"
   ]
  },
  {
   "cell_type": "code",
   "execution_count": 139,
   "id": "829860ac",
   "metadata": {},
   "outputs": [
    {
     "data": {
      "text/plain": [
       "False"
      ]
     },
     "execution_count": 139,
     "metadata": {},
     "output_type": "execute_result"
    }
   ],
   "source": [
    "tel.isnumeric()"
   ]
  },
  {
   "cell_type": "code",
   "execution_count": 143,
   "id": "2c008e65",
   "metadata": {},
   "outputs": [
    {
     "data": {
      "text/plain": [
       "True"
      ]
     },
     "execution_count": 143,
     "metadata": {},
     "output_type": "execute_result"
    }
   ],
   "source": [
    "tel = \"912123456\"\n",
    "tel.isnumeric()"
   ]
  },
  {
   "cell_type": "code",
   "execution_count": 144,
   "id": "3b722fd5",
   "metadata": {},
   "outputs": [
    {
     "data": {
      "text/plain": [
       "True"
      ]
     },
     "execution_count": 144,
     "metadata": {},
     "output_type": "execute_result"
    }
   ],
   "source": [
    "s6 = \"HI\"\n",
    "s6.isupper()"
   ]
  },
  {
   "cell_type": "code",
   "execution_count": 145,
   "id": "8e8a6aae",
   "metadata": {},
   "outputs": [
    {
     "data": {
      "text/plain": [
       "['HI', 'amber']"
      ]
     },
     "execution_count": 145,
     "metadata": {},
     "output_type": "execute_result"
    }
   ],
   "source": [
    "s6 = \"HI amber\"\n",
    "s6.split()"
   ]
  },
  {
   "cell_type": "code",
   "execution_count": 146,
   "id": "f311c4fb",
   "metadata": {},
   "outputs": [
    {
     "name": "stdout",
     "output_type": "stream",
     "text": [
      "google.com\n"
     ]
    }
   ],
   "source": [
    "s7 = \" google.com    \"\n",
    "print(s7.strip()) # no more spcae"
   ]
  },
  {
   "cell_type": "code",
   "execution_count": 154,
   "id": "50fa5589",
   "metadata": {},
   "outputs": [
    {
     "name": "stdout",
     "output_type": "stream",
     "text": [
      "google\n"
     ]
    }
   ],
   "source": [
    "s7 = \"www.google.com\"\n",
    "print(s7.strip('w.moc')) # remove given char"
   ]
  },
  {
   "cell_type": "code",
   "execution_count": 1,
   "id": "fc33963d",
   "metadata": {},
   "outputs": [
    {
     "data": {
      "text/plain": [
       "'AAAAAAAAAA'"
      ]
     },
     "execution_count": 1,
     "metadata": {},
     "output_type": "execute_result"
    }
   ],
   "source": [
    "s8 = 'AA'\n",
    "s9 = s8 * 5\n",
    "s9"
   ]
  },
  {
   "cell_type": "markdown",
   "id": "d4524864",
   "metadata": {},
   "source": [
    "## String Formatting"
   ]
  },
  {
   "cell_type": "code",
   "execution_count": 160,
   "id": "c407ddfd",
   "metadata": {},
   "outputs": [
    {
     "name": "stdout",
     "output_type": "stream",
     "text": [
      "x = 123.46\n"
     ]
    }
   ],
   "source": [
    "x = 123.456789\n",
    "\n",
    "print(\"x = %.2f\" %(x) )"
   ]
  },
  {
   "cell_type": "code",
   "execution_count": 164,
   "id": "b4337abe",
   "metadata": {},
   "outputs": [
    {
     "name": "stdout",
     "output_type": "stream",
     "text": [
      "I love Geeks for \"12.3!\"\n",
      "Geeks and 12.3\n",
      "12.3 and Geeks\n",
      "I love Geeks for \"Geeks!\"\n",
      "Geeks and Portal\n"
     ]
    }
   ],
   "source": [
    "\n",
    "# Python program showing\n",
    "# use of format() method\n",
    " \n",
    "# using format() method\n",
    "x = 12.3\n",
    "print('I love {} for \"{}!\"'.format('Geeks', x))\n",
    " \n",
    "# using format() method and referring\n",
    "# a position of the object\n",
    "print('{0} and {1}'.format('Geeks', x))\n",
    " \n",
    "print('{1} and {0}'.format('Geeks', x))\n"
   ]
  },
  {
   "cell_type": "code",
   "execution_count": 167,
   "id": "6bd30ad9",
   "metadata": {},
   "outputs": [
    {
     "name": "stdout",
     "output_type": "stream",
     "text": [
      "Number one portal is For, Geeks, and Geeks.\n",
      "Geeks :12, Portal :    0.55\n",
      "Second argument:  11, first one:   47.42\n",
      "Geeks:   453,  Portal:    59.06\n"
     ]
    }
   ],
   "source": [
    "\n",
    "# Python program showing\n",
    "# a use of format() method\n",
    " \n",
    "# combining positional and keyword arguments\n",
    "print('Number one portal is {1}, {0}, and {other}.'.format('Geeks', 'For', other ='Geeks'))\n",
    " \n",
    "# using format() method with number\n",
    "print(\"Geeks :{0:2d}, Portal :{1:8.2f}\".format(12, 0.546))\n",
    " \n",
    "# Changing positional (0,1,2,...) argument\n",
    "print(\"Second argument: {1:3d}, first one: {0:7.2f}\".format(47.42, 11))\n",
    " \n",
    "print(\"Geeks: {a:5d},  Portal: {p:8.2f}\".format(a = 453, p = 59.058))\n"
   ]
  },
  {
   "cell_type": "code",
   "execution_count": null,
   "id": "5ba102ac",
   "metadata": {},
   "outputs": [],
   "source": []
  }
 ],
 "metadata": {
  "kernelspec": {
   "display_name": "Python 3",
   "language": "python",
   "name": "python3"
  },
  "language_info": {
   "codemirror_mode": {
    "name": "ipython",
    "version": 3
   },
   "file_extension": ".py",
   "mimetype": "text/x-python",
   "name": "python",
   "nbconvert_exporter": "python",
   "pygments_lexer": "ipython3",
   "version": "3.8.8"
  }
 },
 "nbformat": 4,
 "nbformat_minor": 5
}
