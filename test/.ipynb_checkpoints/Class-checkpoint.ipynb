{
 "cells": [
  {
   "cell_type": "markdown",
   "id": "78e7b7b8",
   "metadata": {},
   "source": [
    "# Class\n",
    "\n",
    " * object-oriented programming OOP\n",
    " \n",
    " OOP的基本要素:\n",
    " \n",
    "    * 類別(Class)\n",
    "    * 物件(Object)\n",
    "    * 屬性(Attribute) : 成員變數\n",
    "    * 建構式(Constructor)\n",
    "    * 方法(Method)\n",
    " \n",
    " 物件的3個特性:\n",
    " \n",
    "     1. 封裝 Encapsulation\n",
    "         - class.find_max_number<- \"DOT\"叫這個物件內的member/member function\n",
    "         \n",
    "     2. 繼承 Inheritance\n",
    "         - 繼承父類別的member/method\n",
    "         \n",
    "     3. 多形 Polymorphism\n",
    "         - 複寫overriding 父類別的method\n",
    "  \n",
    "  物件的4種設計方法:\n",
    "  \n",
    "      1. 實體方法 Instance Method\n",
    "      2. 類別方法 Class Method\n",
    "      3. 靜態方法 Static Method\n",
    "      4. 抽象方法 Abstract Method"
   ]
  },
  {
   "cell_type": "code",
   "execution_count": 1,
   "id": "42d2e53e",
   "metadata": {},
   "outputs": [
    {
     "name": "stdout",
     "output_type": "stream",
     "text": [
      "Android\n",
      "0912345678\n",
      "\n",
      "--- Phone Infomation ---\n",
      "os: Android\n",
      "number: 0912345678\n",
      "money: 18600\n",
      "--- Phone Infomation ---\n",
      "\n"
     ]
    }
   ],
   "source": [
    "# class 類別\n",
    "class Phone:\n",
    "    \n",
    "    # constructor 建構子 需要提供self後的參數，才可建立物件\n",
    "    def __init__(self, os, number, money): # double _\n",
    "        self.os = os # 系統屬性\n",
    "        self.number = number\n",
    "        self.money = money\n",
    "    \n",
    "    # print object, if object have __str__, python會先顯示他，如果沒有則顯示記憶體位置address\n",
    "    def __str__(self):\n",
    "        phoneInfo = \"os: \" + str(self.os) + \"\\nnumber: \" + str(self.number) + \"\\nmoney: \" + str(self.money)\n",
    "        text = \"\\n--- Phone Infomation ---\\n\" + phoneInfo + \"\\n--- Phone Infomation ---\\n\"\n",
    "        return text\n",
    "    \n",
    "    # method, must need self for member function\n",
    "    def is_ios(self):\n",
    "        return True if self.os == 'ios' else False\n",
    "    \n",
    "    # method\n",
    "    def call(self, otherPhone):\n",
    "        return \"call \" + otherPhone.number + \" from \" + self.number\n",
    "    \n",
    "    # method\n",
    "    def sellMail(self, text):\n",
    "        return \"send text:  \" + text\n",
    "\n",
    "\n",
    "# object 實作出類別的東西\n",
    "# 第一個self參數，Python編譯器會幫我們把目前物件的參考(mazda)傳給建構式(Constructor)，所以我們就不需要多此一舉傳入物件。\n",
    "phone1 = Phone('Android', '0912345678', 18600)\n",
    "print(phone1.os)\n",
    "print(phone1.number)\n",
    "print(phone1)"
   ]
  },
  {
   "cell_type": "code",
   "execution_count": 2,
   "id": "47f70c06",
   "metadata": {},
   "outputs": [
    {
     "name": "stdout",
     "output_type": "stream",
     "text": [
      "True\n"
     ]
    }
   ],
   "source": [
    "# check \"XX\"-object is from \"XX\"-class\n",
    "print(isinstance(phone1, Phone))"
   ]
  },
  {
   "cell_type": "code",
   "execution_count": 3,
   "id": "3dca5ad2",
   "metadata": {},
   "outputs": [
    {
     "name": "stdout",
     "output_type": "stream",
     "text": [
      "\n",
      "--- Phone Infomation ---\n",
      "os: ios\n",
      "number: 0912345670\n",
      "money: 38600\n",
      "--- Phone Infomation ---\n",
      "\n",
      "True\n"
     ]
    }
   ],
   "source": [
    "phone2 = Phone('ios', '0912345670', 38600)\n",
    "print(phone2)\n",
    "\n",
    "print(phone2.is_ios())"
   ]
  },
  {
   "cell_type": "markdown",
   "id": "e5cfab7c",
   "metadata": {},
   "source": [
    "# 繼承(Inheritance)\n",
    "\n",
    "顧名思義，就是會有父類別(或稱基底類別Base Class)及子類別(Sub Class)的階層關係。\n",
    "\n",
    "子類別會擁有父類別公開的屬性(Attribute)及方法(Method)。"
   ]
  },
  {
   "cell_type": "code",
   "execution_count": 4,
   "id": "ebb20590",
   "metadata": {},
   "outputs": [],
   "source": [
    "# 繼承 statment: class SubClass(parent class):\n",
    "class NewPhone(Phone):\n",
    "    \n",
    "    # constructor 建構子 需要提供self後的參數，才可建立物件\n",
    "    def __init__(self, os, number, money, network):\n",
    "        self.os = os\n",
    "        self.number = number\n",
    "        self.money = money\n",
    "        self.network = network\n",
    "    \n",
    "    # print object, if object have __str__, python會先顯示他，如果沒有則顯示記憶體位置\n",
    "    def __str__(self):\n",
    "        phoneInfo = \"os: \" + str(self.os) + \"\\nnumber: \" + str(self.number) + \"\\nmoney: \" + str(self.money) + \"\\nnetwork: \" + str(self.network)\n",
    "        text = \"\\n--- Phone Infomation ---\\n\" + phoneInfo + \"\\n--- Phone Infomation ---\\n\"\n",
    "        return text\n",
    "    \n",
    "    # method\n",
    "    def connect5G(self):\n",
    "        if (self.network == '5G'):\n",
    "            return \"Success, already connect via 5G network\"\n",
    "        else:\n",
    "            return \"Fail, this method must need 5G network!\"\n",
    "        \n",
    "    # Method Overriding\n",
    "    def sendMail(self, text):\n",
    "        return \"send text:  \" + text + \" via 5G\""
   ]
  },
  {
   "cell_type": "code",
   "execution_count": 5,
   "id": "1311f651",
   "metadata": {},
   "outputs": [
    {
     "name": "stdout",
     "output_type": "stream",
     "text": [
      "\n",
      "--- Phone Infomation ---\n",
      "os: ios\n",
      "number: 0912345670\n",
      "money: 38600\n",
      "network: 5G\n",
      "--- Phone Infomation ---\n",
      "\n"
     ]
    }
   ],
   "source": [
    "phone3 = NewPhone('ios', '0912345670', 38600, '5G')\n",
    "print(phone3)"
   ]
  },
  {
   "cell_type": "code",
   "execution_count": 6,
   "id": "e530e91d",
   "metadata": {},
   "outputs": [
    {
     "name": "stdout",
     "output_type": "stream",
     "text": [
      "True\n",
      "Success, already connect via 5G network\n"
     ]
    }
   ],
   "source": [
    "# parent-class method test\n",
    "print(phone3.is_ios())\n",
    "# new mrthod test\n",
    "print(phone3.connect5G())"
   ]
  },
  {
   "cell_type": "code",
   "execution_count": 7,
   "id": "a70d11bf",
   "metadata": {},
   "outputs": [
    {
     "data": {
      "text/plain": [
       "'call 0912345678 from 0912345670'"
      ]
     },
     "execution_count": 7,
     "metadata": {},
     "output_type": "execute_result"
    }
   ],
   "source": [
    "# class method with param is class\n",
    "phone3.call(phone1)"
   ]
  },
  {
   "cell_type": "code",
   "execution_count": 8,
   "id": "25cd6563",
   "metadata": {},
   "outputs": [
    {
     "data": {
      "text/plain": [
       "'send text:  HiHi via 5G'"
      ]
     },
     "execution_count": 8,
     "metadata": {},
     "output_type": "execute_result"
    }
   ],
   "source": [
    "# Method Overriding test\n",
    "phone3.sendMail(\"HiHi\")"
   ]
  },
  {
   "cell_type": "markdown",
   "id": "fef855b8",
   "metadata": {},
   "source": [
    "# 多重繼承(Multiple Inheritance)\n",
    "\n",
    "Notic: 如果繼承的父類別有相同method會導致先後順序的呼叫錯誤問題"
   ]
  },
  {
   "cell_type": "code",
   "execution_count": 9,
   "id": "a7fb075a",
   "metadata": {},
   "outputs": [
    {
     "name": "stdout",
     "output_type": "stream",
     "text": [
      "Animal eat method is called.\n"
     ]
    }
   ],
   "source": [
    "# 動物類別\n",
    "class Animal:\n",
    "    def eat(self):\n",
    "        print(\"Animal eat method is called.\")\n",
    "        \n",
    "# 鳥類類別\n",
    "class Bird:\n",
    "    def walk(self):\n",
    "        print(\"Bird walk method is called.\")\n",
    "        \n",
    "# 鴨子類別\n",
    "class Duck(Animal, Bird):\n",
    "    pass\n",
    "\n",
    "duck = Duck()\n",
    "duck.eat()"
   ]
  },
  {
   "cell_type": "markdown",
   "id": "ea2a0650",
   "metadata": {},
   "source": [
    "## 使用Super繼承父類別\n",
    "\n",
    "單一繼承可以使用Super來簡化code"
   ]
  },
  {
   "cell_type": "code",
   "execution_count": null,
   "id": "ea7bbf88",
   "metadata": {},
   "outputs": [],
   "source": [
    "# 繼承 statment: class SubClass(parent class):\n",
    "class NewPhone(Phone):\n",
    "    \n",
    "    # constructor 建構子 需要提供self後的參數，才可建立物件\n",
    "    def __init__(self, os, number, money, network):\n",
    "        #self.os = os\n",
    "        #self.number = number\n",
    "        #self.money = money\n",
    "        super().__init__(self, os, number, money)\n",
    "        self.network = network\n",
    "    \n",
    "    # print object, if object have __str__, python會先顯示他，如果沒有則顯示記憶體位置\n",
    "    def __str__(self):\n",
    "        phoneInfo = \"os: \" + str(self.os) + \"\\nnumber: \" + str(self.number) + \"\\nmoney: \" + str(self.money) + \"\\nnetwork: \" + str(self.network)\n",
    "        text = \"\\n--- Phone Infomation ---\\n\" + phoneInfo + \"\\n--- Phone Infomation ---\\n\"\n",
    "        return text\n",
    "    \n",
    "    # method\n",
    "    def connect5G(self):\n",
    "        if (self.network == '5G'):\n",
    "            return \"Success, already connect via 5G network\"\n",
    "        else:\n",
    "            return \"Fail, this method must need 5G network!\"\n",
    "        \n",
    "    # Method Overriding\n",
    "    def sendMail(self, text):\n",
    "        return \"send text:  \" + text + \" via 5G\""
   ]
  },
  {
   "cell_type": "markdown",
   "id": "54a8b992",
   "metadata": {},
   "source": [
    "# 屬性(Property)\n",
    "\n",
    "- 實體屬性(Instance Attribute)\n",
    "- 類別屬性(Class Attribute)\n",
    "- 屬性(Property)\n"
   ]
  },
  {
   "cell_type": "markdown",
   "id": "85916e2a",
   "metadata": {},
   "source": [
    "## Instance Attribute\n",
    "\n",
    "修改某一個物件(Object)的實體屬性(Instance Attribute)值時，不會影響到其他物件"
   ]
  },
  {
   "cell_type": "code",
   "execution_count": 10,
   "id": "4ffde6b9",
   "metadata": {},
   "outputs": [
    {
     "name": "stdout",
     "output_type": "stream",
     "text": [
      "mazda color:  blue\n",
      "mazda seat:  4\n",
      "toyota color:  red\n",
      "toyota seat:  6\n"
     ]
    }
   ],
   "source": [
    "# 汽車類別\n",
    "class Cars:\n",
    "    pass\n",
    "\n",
    "# 自生成變數\n",
    "mazda = Cars()\n",
    "mazda.color = \"blue\"\n",
    "mazda.seat = 4\n",
    "toyota = Cars()\n",
    "toyota.color = \"red\"\n",
    "toyota.seat = 6\n",
    "\n",
    "print(\"mazda color: \", mazda.color)\n",
    "print(\"mazda seat: \", mazda.seat)\n",
    "print(\"toyota color: \", toyota.color)\n",
    "print(\"toyota seat: \", toyota.seat)"
   ]
  },
  {
   "cell_type": "code",
   "execution_count": 11,
   "id": "76c82e00",
   "metadata": {},
   "outputs": [
    {
     "name": "stdout",
     "output_type": "stream",
     "text": [
      "mazda color:  yellow\n",
      "mazda seat:  8\n",
      "mazda weight:  200\n",
      "toyota color:  red\n",
      "toyota seat:  6\n",
      "toyota weight:  140\n"
     ]
    }
   ],
   "source": [
    "# 汽車類別\n",
    "class Cars:\n",
    "    # 建構式\n",
    "    def __init__(self, color, seat):\n",
    "        self.color = color\n",
    "        self.seat = seat\n",
    "        self.weight = 140\n",
    "        \n",
    "\n",
    "mazda = Cars(\"blue\", 4)\n",
    "mazda.color = \"yellow\"\n",
    "mazda.seat = 8\n",
    "mazda.weight = 200\n",
    "toyota = Cars(\"red\", 6)\n",
    "\n",
    "print(\"mazda color: \", mazda.color)\n",
    "print(\"mazda seat: \", mazda.seat)\n",
    "print(\"mazda weight: \", mazda.weight)\n",
    "# toyota不會被mazda影響\n",
    "print(\"toyota color: \", toyota.color)\n",
    "print(\"toyota seat: \", toyota.seat)\n",
    "print(\"toyota weight: \", toyota.weight) "
   ]
  },
  {
   "cell_type": "markdown",
   "id": "974e98b2",
   "metadata": {},
   "source": [
    "## 類別屬性(Class Attribute)\n",
    "\n",
    "定義在類別層級的屬性(Attribute)，也就是在建構式(Constructor)之外的屬性(Attribute)。\n",
    "\n",
    "可以不需要建立物件(Object)，直接透過類別名稱存取。\n",
    "\n",
    "各物件共享類別屬性(Class Attribute)值，也就是說當我們修改類別屬性(Class Attribute)值時，每一個透過此類別(Class)所建立的物件(Object)，都會受到影響。"
   ]
  },
  {
   "cell_type": "code",
   "execution_count": 12,
   "id": "69bef93f",
   "metadata": {},
   "outputs": [
    {
     "name": "stdout",
     "output_type": "stream",
     "text": [
      "mazda original door:  4\n",
      "toyota original door:  4\n",
      "mazda new door:  6\n",
      "toyota new door:  6\n"
     ]
    }
   ],
   "source": [
    "# 汽車類別\n",
    "class Cars:\n",
    "    door = 4\n",
    "    # 建構式\n",
    "    def __init__(self, color, seat):\n",
    "        self.color = color\n",
    "        self.seat = seat\n",
    "        self.weight = 140\n",
    "        \n",
    "mazda = Cars(\"blue\", 4)\n",
    "toyota = Cars(\"red\", 6)\n",
    "print(\"mazda original door: \", mazda.door)  # door原值\n",
    "print(\"toyota original door: \", toyota.door)  # door原值\n",
    "Cars.door = 6\n",
    "print(\"mazda new door: \", mazda.door)  # door新值\n",
    "print(\"toyota new door: \", toyota.door)  # door新值"
   ]
  },
  {
   "cell_type": "markdown",
   "id": "4d132db5",
   "metadata": {},
   "source": [
    "## 屬性(Property)"
   ]
  },
  {
   "cell_type": "code",
   "execution_count": 13,
   "id": "36846663",
   "metadata": {},
   "outputs": [],
   "source": [
    "# for C++ style\n",
    "\n",
    "# 汽車類別\n",
    "class Cars:\n",
    "    \n",
    "    # 建構式\n",
    "    def __init__(self, weight):\n",
    "        self.set_weight(weight)\n",
    "        \n",
    "    def get_weight(self):\n",
    "        return self.__weight\n",
    "    \n",
    "    def set_weight(self, value):\n",
    "        if value <= 0:\n",
    "            raise ValueError(\"Car weight cannot be 0 or less.\")\n",
    "        self.__weight = value\n",
    "        \n",
    "mazda = Cars(100)"
   ]
  },
  {
   "cell_type": "code",
   "execution_count": 14,
   "id": "963b7e81",
   "metadata": {},
   "outputs": [
    {
     "ename": "ValueError",
     "evalue": "Car weight cannot be 0 or less.",
     "output_type": "error",
     "traceback": [
      "\u001b[0;31m---------------------------------------------------------------------------\u001b[0m",
      "\u001b[0;31mValueError\u001b[0m                                Traceback (most recent call last)",
      "Input \u001b[0;32mIn [14]\u001b[0m, in \u001b[0;36m<cell line: 1>\u001b[0;34m()\u001b[0m\n\u001b[0;32m----> 1\u001b[0m mazda2 \u001b[38;5;241m=\u001b[39m \u001b[43mCars\u001b[49m\u001b[43m(\u001b[49m\u001b[38;5;241;43m-\u001b[39;49m\u001b[38;5;241;43m100\u001b[39;49m\u001b[43m)\u001b[49m\n",
      "Input \u001b[0;32mIn [13]\u001b[0m, in \u001b[0;36mCars.__init__\u001b[0;34m(self, weight)\u001b[0m\n\u001b[1;32m      7\u001b[0m \u001b[38;5;28;01mdef\u001b[39;00m \u001b[38;5;21m__init__\u001b[39m(\u001b[38;5;28mself\u001b[39m, weight):\n\u001b[0;32m----> 8\u001b[0m     \u001b[38;5;28;43mself\u001b[39;49m\u001b[38;5;241;43m.\u001b[39;49m\u001b[43mset_weight\u001b[49m\u001b[43m(\u001b[49m\u001b[43mweight\u001b[49m\u001b[43m)\u001b[49m\n",
      "Input \u001b[0;32mIn [13]\u001b[0m, in \u001b[0;36mCars.set_weight\u001b[0;34m(self, value)\u001b[0m\n\u001b[1;32m     13\u001b[0m \u001b[38;5;28;01mdef\u001b[39;00m \u001b[38;5;21mset_weight\u001b[39m(\u001b[38;5;28mself\u001b[39m, value):\n\u001b[1;32m     14\u001b[0m     \u001b[38;5;28;01mif\u001b[39;00m value \u001b[38;5;241m<\u001b[39m\u001b[38;5;241m=\u001b[39m \u001b[38;5;241m0\u001b[39m:\n\u001b[0;32m---> 15\u001b[0m         \u001b[38;5;28;01mraise\u001b[39;00m \u001b[38;5;167;01mValueError\u001b[39;00m(\u001b[38;5;124m\"\u001b[39m\u001b[38;5;124mCar weight cannot be 0 or less.\u001b[39m\u001b[38;5;124m\"\u001b[39m)\n\u001b[1;32m     16\u001b[0m     \u001b[38;5;28mself\u001b[39m\u001b[38;5;241m.\u001b[39m__weight \u001b[38;5;241m=\u001b[39m value\n",
      "\u001b[0;31mValueError\u001b[0m: Car weight cannot be 0 or less."
     ]
    }
   ],
   "source": [
    "mazda2 = Cars(-100)"
   ]
  },
  {
   "cell_type": "markdown",
   "id": "8a5dca61",
   "metadata": {},
   "source": [
    "### more python style"
   ]
  },
  {
   "cell_type": "code",
   "execution_count": 15,
   "id": "e0e49fee",
   "metadata": {},
   "outputs": [],
   "source": [
    "# 汽車類別\n",
    "class Cars:\n",
    "    # 建構式\n",
    "    def __init__(self, weight):\n",
    "        self.weight = weight\n",
    "    \n",
    "    # @ = Decorator\n",
    "    # getter\n",
    "    @property # property Decorator\n",
    "    def weight(self):\n",
    "        print(\"@getter\")\n",
    "        return self._weight\n",
    "    \n",
    "    # setter\n",
    "    @weight.setter\n",
    "    def weight(self, value):\n",
    "        print(\"@setter\")\n",
    "        if value <= 0:\n",
    "            raise ValueError(\"Car weight cannot be 0 or less.\")\n",
    "        self._weight = value\n",
    "    \n",
    "    # deleter\n",
    "    @weight.deleter\n",
    "    def weight(self):\n",
    "        print(\"@deleter\")\n",
    "        del self._weight"
   ]
  },
  {
   "cell_type": "code",
   "execution_count": 16,
   "id": "88d5a89b",
   "metadata": {},
   "outputs": [
    {
     "name": "stdout",
     "output_type": "stream",
     "text": [
      "@setter\n",
      "--------\n",
      "@getter\n",
      "100\n",
      "--------\n",
      "@setter\n"
     ]
    }
   ],
   "source": [
    "mazda = Cars(100)\n",
    "print(\"--------\")\n",
    "print(mazda.weight)\n",
    "print(\"--------\")\n",
    "mazda.weight = 150\n",
    "# 被@property的參數，如果沒有setter就是唯讀參數，不可更改"
   ]
  },
  {
   "cell_type": "code",
   "execution_count": 17,
   "id": "d3c0da0e",
   "metadata": {},
   "outputs": [],
   "source": [
    "class Bank_acount:\n",
    "    def __init__(self, passwd):\n",
    "        self._password = passwd\n",
    "        \n",
    "    @property\n",
    "    def password(self):\n",
    "        print(\"@getter\")\n",
    "        return self._password\n",
    "\n",
    "    @password.setter\n",
    "    def password(self, value):\n",
    "        if not (isinstance(value, str)):\n",
    "            raise ValueError(\"input is not str\")\n",
    "        print(\"@setter\")\n",
    "        self._password = value\n",
    "\n",
    "    @password.deleter\n",
    "    def password(self):\n",
    "        del self._password\n",
    "        print('del complite')"
   ]
  },
  {
   "cell_type": "code",
   "execution_count": 18,
   "id": "5ce27562",
   "metadata": {},
   "outputs": [
    {
     "name": "stdout",
     "output_type": "stream",
     "text": [
      "@getter\n",
      "123\n"
     ]
    }
   ],
   "source": [
    "andy = Bank_acount(123)\n",
    "print(andy.password)"
   ]
  },
  {
   "cell_type": "code",
   "execution_count": 19,
   "id": "a3119f3f",
   "metadata": {},
   "outputs": [
    {
     "ename": "ValueError",
     "evalue": "input is not str",
     "output_type": "error",
     "traceback": [
      "\u001b[0;31m---------------------------------------------------------------------------\u001b[0m",
      "\u001b[0;31mValueError\u001b[0m                                Traceback (most recent call last)",
      "Input \u001b[0;32mIn [19]\u001b[0m, in \u001b[0;36m<cell line: 1>\u001b[0;34m()\u001b[0m\n\u001b[0;32m----> 1\u001b[0m andy\u001b[38;5;241m.\u001b[39mpassword \u001b[38;5;241m=\u001b[39m \u001b[38;5;241m1234\u001b[39m\n\u001b[1;32m      2\u001b[0m \u001b[38;5;28mprint\u001b[39m(andy\u001b[38;5;241m.\u001b[39mpassword)\n",
      "Input \u001b[0;32mIn [17]\u001b[0m, in \u001b[0;36mBank_acount.password\u001b[0;34m(self, value)\u001b[0m\n\u001b[1;32m     10\u001b[0m \u001b[38;5;129m@password\u001b[39m\u001b[38;5;241m.\u001b[39msetter\n\u001b[1;32m     11\u001b[0m \u001b[38;5;28;01mdef\u001b[39;00m \u001b[38;5;21mpassword\u001b[39m(\u001b[38;5;28mself\u001b[39m, value):\n\u001b[1;32m     12\u001b[0m     \u001b[38;5;28;01mif\u001b[39;00m \u001b[38;5;129;01mnot\u001b[39;00m (\u001b[38;5;28misinstance\u001b[39m(value, \u001b[38;5;28mstr\u001b[39m)):\n\u001b[0;32m---> 13\u001b[0m         \u001b[38;5;28;01mraise\u001b[39;00m \u001b[38;5;167;01mValueError\u001b[39;00m(\u001b[38;5;124m\"\u001b[39m\u001b[38;5;124minput is not str\u001b[39m\u001b[38;5;124m\"\u001b[39m)\n\u001b[1;32m     14\u001b[0m     \u001b[38;5;28mprint\u001b[39m(\u001b[38;5;124m\"\u001b[39m\u001b[38;5;124m@setter\u001b[39m\u001b[38;5;124m\"\u001b[39m)\n\u001b[1;32m     15\u001b[0m     \u001b[38;5;28mself\u001b[39m\u001b[38;5;241m.\u001b[39m_password \u001b[38;5;241m=\u001b[39m value\n",
      "\u001b[0;31mValueError\u001b[0m: input is not str"
     ]
    }
   ],
   "source": [
    "andy.password = 1234\n",
    "print(andy.password)"
   ]
  },
  {
   "cell_type": "markdown",
   "id": "76fcee8d",
   "metadata": {},
   "source": [
    "### Issue\n",
    "建構時無法檢查input是否正規!!!"
   ]
  },
  {
   "cell_type": "code",
   "execution_count": 20,
   "id": "daf3771e",
   "metadata": {},
   "outputs": [],
   "source": [
    "class Bank_acountEX:\n",
    "    def __init__(self, passwd):\n",
    "        self.password = passwd\n",
    "        \n",
    "    @property\n",
    "    def password(self):\n",
    "        print(\"@getter\")\n",
    "        return self.__password\n",
    "\n",
    "    @password.setter\n",
    "    def password(self, value):\n",
    "        if not (isinstance(value, str)):\n",
    "            raise ValueError(\"input is not str\")\n",
    "        print(\"@setter\")\n",
    "        self.__password = value\n",
    "\n",
    "    @password.deleter\n",
    "    def password(self):\n",
    "        del self.__password\n",
    "        print('del complite')"
   ]
  },
  {
   "cell_type": "code",
   "execution_count": 21,
   "id": "26732f87",
   "metadata": {},
   "outputs": [
    {
     "ename": "ValueError",
     "evalue": "input is not str",
     "output_type": "error",
     "traceback": [
      "\u001b[0;31m---------------------------------------------------------------------------\u001b[0m",
      "\u001b[0;31mValueError\u001b[0m                                Traceback (most recent call last)",
      "Input \u001b[0;32mIn [21]\u001b[0m, in \u001b[0;36m<cell line: 1>\u001b[0;34m()\u001b[0m\n\u001b[0;32m----> 1\u001b[0m kenny \u001b[38;5;241m=\u001b[39m \u001b[43mBank_acountEX\u001b[49m\u001b[43m(\u001b[49m\u001b[38;5;241;43m123\u001b[39;49m\u001b[43m)\u001b[49m\n\u001b[1;32m      2\u001b[0m \u001b[38;5;28mprint\u001b[39m(kenny\u001b[38;5;241m.\u001b[39mpassword)\n",
      "Input \u001b[0;32mIn [20]\u001b[0m, in \u001b[0;36mBank_acountEX.__init__\u001b[0;34m(self, passwd)\u001b[0m\n\u001b[1;32m      2\u001b[0m \u001b[38;5;28;01mdef\u001b[39;00m \u001b[38;5;21m__init__\u001b[39m(\u001b[38;5;28mself\u001b[39m, passwd):\n\u001b[0;32m----> 3\u001b[0m     \u001b[38;5;28mself\u001b[39m\u001b[38;5;241m.\u001b[39mpassword \u001b[38;5;241m=\u001b[39m passwd\n",
      "Input \u001b[0;32mIn [20]\u001b[0m, in \u001b[0;36mBank_acountEX.password\u001b[0;34m(self, value)\u001b[0m\n\u001b[1;32m     10\u001b[0m \u001b[38;5;129m@password\u001b[39m\u001b[38;5;241m.\u001b[39msetter\n\u001b[1;32m     11\u001b[0m \u001b[38;5;28;01mdef\u001b[39;00m \u001b[38;5;21mpassword\u001b[39m(\u001b[38;5;28mself\u001b[39m, value):\n\u001b[1;32m     12\u001b[0m     \u001b[38;5;28;01mif\u001b[39;00m \u001b[38;5;129;01mnot\u001b[39;00m (\u001b[38;5;28misinstance\u001b[39m(value, \u001b[38;5;28mstr\u001b[39m)):\n\u001b[0;32m---> 13\u001b[0m         \u001b[38;5;28;01mraise\u001b[39;00m \u001b[38;5;167;01mValueError\u001b[39;00m(\u001b[38;5;124m\"\u001b[39m\u001b[38;5;124minput is not str\u001b[39m\u001b[38;5;124m\"\u001b[39m)\n\u001b[1;32m     14\u001b[0m     \u001b[38;5;28mprint\u001b[39m(\u001b[38;5;124m\"\u001b[39m\u001b[38;5;124m@setter\u001b[39m\u001b[38;5;124m\"\u001b[39m)\n\u001b[1;32m     15\u001b[0m     \u001b[38;5;28mself\u001b[39m\u001b[38;5;241m.\u001b[39m__password \u001b[38;5;241m=\u001b[39m value\n",
      "\u001b[0;31mValueError\u001b[0m: input is not str"
     ]
    }
   ],
   "source": [
    "kenny = Bank_acountEX(123)\n",
    "print(kenny.password)"
   ]
  },
  {
   "cell_type": "code",
   "execution_count": 22,
   "id": "0ca6e432",
   "metadata": {},
   "outputs": [
    {
     "name": "stdout",
     "output_type": "stream",
     "text": [
      "@setter\n",
      "@getter\n",
      "123\n"
     ]
    }
   ],
   "source": [
    "kenny = Bank_acountEX('123')\n",
    "print(kenny.password)"
   ]
  },
  {
   "cell_type": "markdown",
   "id": "f88fc4c8",
   "metadata": {},
   "source": [
    "# 物件導向的四種設計method\n",
    "\n",
    "* 實體方法(Instance Method)\n",
    "* 類別方法(Class Method)\n",
    "* 靜態方法(Static Method)\n",
    "* 抽象方法(Abstract Method)"
   ]
  },
  {
   "cell_type": "markdown",
   "id": "ef078ea1",
   "metadata": {},
   "source": [
    "## 實體方法(Instance Method)\n",
    "\n",
    "要有實作的物件才可以使用的method，透過self指向該object"
   ]
  },
  {
   "cell_type": "code",
   "execution_count": 23,
   "id": "f7deb027",
   "metadata": {},
   "outputs": [
    {
     "name": "stdout",
     "output_type": "stream",
     "text": [
      "<__main__.Cars object at 0x7fedf33bc0a0> is blue.\n",
      "Message method is called.\n"
     ]
    }
   ],
   "source": [
    "# 汽車類別\n",
    "class Cars:\n",
    "    \n",
    "    door = 4 # Class Attribute\n",
    "    \n",
    "    # 建構式\n",
    "    def __init__(self):\n",
    "        self.color = \"blue\"\n",
    "        \n",
    "    # 實體方法(Instance Method)\n",
    "    def drive(self):\n",
    "        print(f\"{self} is {self.color}.\")\n",
    "        self.message()  # 呼叫其他方法\n",
    "        \n",
    "    # 實體方法(Instance Method)\n",
    "    def message(self):\n",
    "        print(\"Message method is called.\")\n",
    "        \n",
    "    def addDoor(self):\n",
    "        #self.door += 1 Error: door屬於class 屬性 不再self內\n",
    "        self.__class__.door += 1\n",
    "        \n",
    "mazda = Cars()\n",
    "mazda.drive()"
   ]
  },
  {
   "cell_type": "code",
   "execution_count": 24,
   "id": "ba170d39",
   "metadata": {},
   "outputs": [
    {
     "ename": "TypeError",
     "evalue": "drive() missing 1 required positional argument: 'self'",
     "output_type": "error",
     "traceback": [
      "\u001b[0;31m---------------------------------------------------------------------------\u001b[0m",
      "\u001b[0;31mTypeError\u001b[0m                                 Traceback (most recent call last)",
      "Input \u001b[0;32mIn [24]\u001b[0m, in \u001b[0;36m<cell line: 1>\u001b[0;34m()\u001b[0m\n\u001b[0;32m----> 1\u001b[0m \u001b[43mCars\u001b[49m\u001b[38;5;241;43m.\u001b[39;49m\u001b[43mdrive\u001b[49m\u001b[43m(\u001b[49m\u001b[43m)\u001b[49m\n",
      "\u001b[0;31mTypeError\u001b[0m: drive() missing 1 required positional argument: 'self'"
     ]
    }
   ],
   "source": [
    "Cars.drive()"
   ]
  },
  {
   "cell_type": "code",
   "execution_count": 25,
   "id": "ac5e6892",
   "metadata": {},
   "outputs": [
    {
     "name": "stdout",
     "output_type": "stream",
     "text": [
      "Cars new door:  4\n",
      "Cars new door:  5\n",
      "Cars new door:  5\n"
     ]
    }
   ],
   "source": [
    "print(\"Cars new door: \", Cars.door)\n",
    "mazda.addDoor()\n",
    "print(\"Cars new door: \", Cars.door)\n",
    "toyata = Cars()\n",
    "print(\"Cars new door: \", Cars.door)"
   ]
  },
  {
   "cell_type": "markdown",
   "id": "ea15ec5a",
   "metadata": {},
   "source": [
    "## 類別方法(Class Method)\n",
    "\n",
    "@classmethod裝飾詞(Decorator)的方法(Method)，被呼叫時，相較於實體方法(Instance Method)的self參數指向物件(Object)，\n",
    "類別方法(Class Method)為cls參數，指向類別(Class)"
   ]
  },
  {
   "cell_type": "code",
   "execution_count": 26,
   "id": "bb7390f9",
   "metadata": {},
   "outputs": [
    {
     "name": "stdout",
     "output_type": "stream",
     "text": [
      "<class '__main__.Cars'> has 4 doors.\n",
      "<class '__main__.Cars'> has 4 doors.\n"
     ]
    }
   ],
   "source": [
    "# 汽車類別\n",
    "class Cars:\n",
    "    door = 4  # 類別屬性\n",
    "    # 類別方法(Class Method)\n",
    "    @classmethod\n",
    "    def open_door(cls):\n",
    "        print(f\"{cls} has {cls.door} doors.\")\n",
    "        \n",
    "mazda = Cars()\n",
    "mazda.open_door()  #透過物件呼叫\n",
    "Cars.open_door()  #透過類別呼叫"
   ]
  },
  {
   "cell_type": "markdown",
   "id": "d8f50133",
   "metadata": {},
   "source": [
    "### 類別方法(Class Method)常應用於產生物件(Object)\n",
    "\n",
    "當建立物件(Object)的邏輯較複雜時，透過類別方法(Class Method)可以將邏輯封裝起來，來源端只要依需求呼叫相應的類別方法(Class Method)來建立物件(Object)即可。\n",
    "\n",
    "所以類別方法(Class Method)也被稱為工廠方法(Factory Method)，讓程式碼簡潔且易於維護。"
   ]
  },
  {
   "cell_type": "code",
   "execution_count": 27,
   "id": "a0224190",
   "metadata": {},
   "outputs": [
    {
     "name": "stdout",
     "output_type": "stream",
     "text": [
      "seat: 6\n",
      "color: black\n",
      "-----------\n",
      "seat: 4\n",
      "color: yellow\n"
     ]
    }
   ],
   "source": [
    "# 汽車類別\n",
    "class Cars:\n",
    "    \n",
    "    # 建構式\n",
    "    def __init__(self, seat, color):\n",
    "        self.seat = seat\n",
    "        self.color = color\n",
    "    \n",
    "    # 廂型車\n",
    "    @classmethod\n",
    "    def van(cls):\n",
    "        return cls(6, \"black\")\n",
    "    \n",
    "    # 跑車\n",
    "    @classmethod\n",
    "    def sports_car(cls):\n",
    "        return cls(4, \"yellow\")\n",
    "    \n",
    "    def __str__(self):\n",
    "        return \"seat: \" + str(self.seat) + \"\\ncolor: \" + str(self.color)\n",
    "    \n",
    "van = Cars.van()\n",
    "sports_car = Cars.sports_car()\n",
    "\n",
    "print(van)\n",
    "print(\"-----------\")\n",
    "print(sports_car)"
   ]
  },
  {
   "cell_type": "code",
   "execution_count": 28,
   "id": "eb435e80",
   "metadata": {},
   "outputs": [
    {
     "name": "stdout",
     "output_type": "stream",
     "text": [
      "Working hours : 5\n",
      "Sleeping hours : 6\n"
     ]
    }
   ],
   "source": [
    "class People_ClassMethods:\n",
    "    def __init__(self):\n",
    "        pass\n",
    "\n",
    "    def sleep(self, sleep_hour):\n",
    "        print('Sleeping hours :', sleep_hour)\n",
    "\n",
    "    @classmethod\n",
    "    def work(cls, work_hour):\n",
    "        print('Working hours :', work_hour)\n",
    "        cls().sleep(6)\n",
    "\n",
    "# 直接call class\n",
    "People_ClassMethods.work(5)"
   ]
  },
  {
   "cell_type": "code",
   "execution_count": 29,
   "id": "a61c701d",
   "metadata": {},
   "outputs": [
    {
     "name": "stdout",
     "output_type": "stream",
     "text": [
      "Working hours : 5\n",
      "Sleeping hours : 6\n"
     ]
    }
   ],
   "source": [
    "class People_ClassMethods:\n",
    "    def __init__(self):\n",
    "        pass\n",
    "\n",
    "    def sleep(self, sleep_hour):\n",
    "        print('Sleeping hours :', sleep_hour)\n",
    "\n",
    "    def work(self, work_hour):\n",
    "        print('Working hours :', work_hour)\n",
    "        self.sleep(6)\n",
    "\n",
    "\n",
    "#People_ClassMethods.work(5)\n",
    "\n",
    "# 沒有class method 就必須建立物件\n",
    "pcm = People_ClassMethods()\n",
    "pcm.work(5)"
   ]
  },
  {
   "cell_type": "markdown",
   "id": "262af026",
   "metadata": {},
   "source": [
    "## 靜態方法(Static Method)\n",
    "\n",
    "Python類別中有@staticmethod裝飾詞(Decorator)的方法(Method)，可以接受任意的參數，也因為它沒有self及cls參數，所以靜態方法(Static Method)無法改變類別(Class)及物件(Object)的狀態\n",
    "\n",
    "\n",
    "通常應用於方法(Method)中無需存取物件(Object)的屬性(Attribute)或方法(Method)，單純執行傳入參數或功能上運算的情況\n",
    "\n",
    "使用靜態方法(Static Method)有幾個優點是，在開發過程中可以避免新加入的開發人員意外改變類別(Class)或物件(Object)的狀態(因為方法中無self及cls參數)，而影響到類別(Class)原始的設計。其二則是靜態方法(Static Method)在類別中是獨立的，所以有助於單元的測試。"
   ]
  },
  {
   "cell_type": "code",
   "execution_count": 30,
   "id": "9064f7f4",
   "metadata": {},
   "outputs": [
    {
     "name": "stdout",
     "output_type": "stream",
     "text": [
      "van rate:  500.0\n",
      "sports car rate:  1000.0\n"
     ]
    }
   ],
   "source": [
    "# 汽車類別\n",
    "class Cars:\n",
    "    # 速率靜態方法\n",
    "    @staticmethod\n",
    "    def speed_rate(distance, minute):\n",
    "        return distance / minute\n",
    "# 透過物件呼叫\n",
    "van = Cars()\n",
    "van_rate = van.speed_rate(10000, 20)\n",
    "print(\"van rate: \", van_rate)\n",
    "# 透過類別呼叫\n",
    "sports_car_rate = Cars.speed_rate(20000, 20)\n",
    "print(\"sports car rate: \", sports_car_rate)"
   ]
  },
  {
   "cell_type": "markdown",
   "id": "f43e2365",
   "metadata": {},
   "source": [
    "## 抽象方法(Abstract Method)\n",
    "\n",
    "要使用抽像方法(Abstract Method)的類別首先要繼承ABC(Abstract Base Class)類別，接著在抽象方法上方加上@abstractmethod裝飾詞(Decorator)，並且不會有實作內容，"
   ]
  },
  {
   "cell_type": "code",
   "execution_count": 31,
   "id": "bc410947",
   "metadata": {},
   "outputs": [],
   "source": [
    "\n",
    "from abc import ABC, abstractmethod\n",
    "# 登入類別\n",
    "class Login(ABC):\n",
    "    @abstractmethod\n",
    "    def login(self):\n",
    "        pass"
   ]
  },
  {
   "cell_type": "code",
   "execution_count": 32,
   "id": "74c63279",
   "metadata": {},
   "outputs": [
    {
     "ename": "TypeError",
     "evalue": "Can't instantiate abstract class Login with abstract methods login",
     "output_type": "error",
     "traceback": [
      "\u001b[0;31m---------------------------------------------------------------------------\u001b[0m",
      "\u001b[0;31mTypeError\u001b[0m                                 Traceback (most recent call last)",
      "Input \u001b[0;32mIn [32]\u001b[0m, in \u001b[0;36m<cell line: 1>\u001b[0;34m()\u001b[0m\n\u001b[0;32m----> 1\u001b[0m user_login \u001b[38;5;241m=\u001b[39m \u001b[43mLogin\u001b[49m\u001b[43m(\u001b[49m\u001b[43m)\u001b[49m\n",
      "\u001b[0;31mTypeError\u001b[0m: Can't instantiate abstract class Login with abstract methods login"
     ]
    }
   ],
   "source": [
    "user_login = Login()"
   ]
  },
  {
   "cell_type": "code",
   "execution_count": 33,
   "id": "4c9ae72e",
   "metadata": {},
   "outputs": [
    {
     "name": "stdout",
     "output_type": "stream",
     "text": [
      "Facebook login implementation.\n"
     ]
    }
   ],
   "source": [
    "# 必須透過繼承(Inheritance)的類別來進行抽象方法(Abstract Method)的實作\n",
    "\n",
    "# 登入抽象類別\n",
    "class Login(ABC):\n",
    "    @abstractmethod\n",
    "    def login(self):\n",
    "        pass\n",
    "    \n",
    "# Facebook登入機制\n",
    "class FacebookLogin(Login):\n",
    "    def login(self):\n",
    "        print(\"Facebook login implementation.\")\n",
    "        \n",
    "fb = FacebookLogin()\n",
    "fb.login()"
   ]
  },
  {
   "cell_type": "markdown",
   "id": "40fbf41d",
   "metadata": {},
   "source": [
    "抽象方法(Abstract Method)通常應用於定義各類別的共同介面，讓未來要增加的需求功能，必須遵守共同的規則進行實作，來達到各類別擁有一致性的介面，不但好維護且易於擴充。"
   ]
  },
  {
   "cell_type": "markdown",
   "id": "c0d8757d",
   "metadata": {},
   "source": [
    "# 多型(Polymorphism)\n",
    "\n",
    "同一個介面或方法(Method)可以有多個實作型態\n",
    "\n",
    "使用多型(Polymorphism)最大的優點就是易於擴充及降低類別間的相依性。"
   ]
  },
  {
   "cell_type": "code",
   "execution_count": 34,
   "id": "16aa2f62",
   "metadata": {},
   "outputs": [
    {
     "name": "stdout",
     "output_type": "stream",
     "text": [
      "Facebook login implementation.\n",
      "Google login implementation.\n",
      "Twitter login implementation.\n"
     ]
    }
   ],
   "source": [
    "from abc import ABC, abstractmethod\n",
    "# 登入抽象類別\n",
    "class Login(ABC):\n",
    "    @abstractmethod\n",
    "    def login(self):\n",
    "        pass\n",
    "    \n",
    "# Facebook登入機制\n",
    "class FacebookLogin(Login):\n",
    "    def login(self):\n",
    "        print(\"Facebook login implementation.\")\n",
    "        \n",
    "#Google登入機制\n",
    "class GoogleLogin(Login):\n",
    "    def login(self):\n",
    "        print(\"Google login implementation.\")\n",
    "        \n",
    "#Twitter登入機制\n",
    "class TwitterLogin(Login):\n",
    "    def login(self):\n",
    "        print(\"Twitter login implementation.\")\n",
    "        \n",
    "fb = FacebookLogin()\n",
    "fb.login()\n",
    "google = GoogleLogin()\n",
    "google.login()\n",
    "twitter = TwitterLogin()\n",
    "twitter.login()\n",
    "\n",
    "# 方法覆寫(Method Overriding)的概念，其實就是多型(Polymorphism)的展現"
   ]
  },
  {
   "cell_type": "markdown",
   "id": "1a6ae7e7",
   "metadata": {},
   "source": [
    "# Python封裝(Encapsulation)"
   ]
  },
  {
   "cell_type": "markdown",
   "id": "9c2f6863",
   "metadata": {},
   "source": [
    "## 私有屬性(Private Attribute)\n",
    "\n",
    "加入 __ 就變成私有屬性(*)\n",
    "\n",
    "雖然Python無法真的完全阻隔外部程式存取私有屬性(Attribute)及方法(Method)，但還是有達到避免直接或意外存取的作用\n",
    "\n",
    "name: __XX\n",
    "-> new name: _AClass__XX"
   ]
  },
  {
   "cell_type": "code",
   "execution_count": 35,
   "id": "98bd5bd2",
   "metadata": {},
   "outputs": [
    {
     "ename": "AttributeError",
     "evalue": "'Blog' object has no attribute '__author'",
     "output_type": "error",
     "traceback": [
      "\u001b[0;31m---------------------------------------------------------------------------\u001b[0m",
      "\u001b[0;31mAttributeError\u001b[0m                            Traceback (most recent call last)",
      "Input \u001b[0;32mIn [35]\u001b[0m, in \u001b[0;36m<cell line: 11>\u001b[0;34m()\u001b[0m\n\u001b[1;32m      9\u001b[0m         \u001b[38;5;28mself\u001b[39m\u001b[38;5;241m.\u001b[39m__titles\u001b[38;5;241m.\u001b[39mappend(title)\n\u001b[1;32m     10\u001b[0m blog \u001b[38;5;241m=\u001b[39m Blog()\n\u001b[0;32m---> 11\u001b[0m \u001b[38;5;28mprint\u001b[39m(\u001b[43mblog\u001b[49m\u001b[38;5;241;43m.\u001b[39;49m\u001b[43m__author\u001b[49m)\n",
      "\u001b[0;31mAttributeError\u001b[0m: 'Blog' object has no attribute '__author'"
     ]
    }
   ],
   "source": [
    "# 部落格類別\n",
    "class Blog:\n",
    "    # 建構式\n",
    "    def __init__(self):\n",
    "        self.__author = \"Mike\"  # 作者屬性\n",
    "        self.__titles = []  # 文章標題屬性\n",
    "    # 新增文章\n",
    "    def __add_post(self, title):\n",
    "        self.__titles.append(title)\n",
    "blog = Blog()\n",
    "print(blog.__author)"
   ]
  },
  {
   "cell_type": "code",
   "execution_count": 36,
   "id": "9fbeab79",
   "metadata": {},
   "outputs": [
    {
     "name": "stdout",
     "output_type": "stream",
     "text": [
      "{'_Blog__author': 'Mike', '_Blog__titles': []}\n"
     ]
    }
   ],
   "source": [
    "print(blog.__dict__)"
   ]
  },
  {
   "cell_type": "markdown",
   "id": "b31b8f57",
   "metadata": {},
   "source": [
    "* 其實只是被改名，還是可以呼叫"
   ]
  },
  {
   "cell_type": "code",
   "execution_count": 37,
   "id": "a36431c6",
   "metadata": {},
   "outputs": [
    {
     "name": "stdout",
     "output_type": "stream",
     "text": [
      "Mike\n"
     ]
    }
   ],
   "source": [
    "print(blog._Blog__author)"
   ]
  },
  {
   "cell_type": "markdown",
   "id": "308f86a3",
   "metadata": {},
   "source": [
    "## 私有方法(Private Method)"
   ]
  },
  {
   "cell_type": "code",
   "execution_count": 38,
   "id": "80c056fd",
   "metadata": {},
   "outputs": [
    {
     "ename": "AttributeError",
     "evalue": "'Blog' object has no attribute '__add_post'",
     "output_type": "error",
     "traceback": [
      "\u001b[0;31m---------------------------------------------------------------------------\u001b[0m",
      "\u001b[0;31mAttributeError\u001b[0m                            Traceback (most recent call last)",
      "Input \u001b[0;32mIn [38]\u001b[0m, in \u001b[0;36m<cell line: 11>\u001b[0;34m()\u001b[0m\n\u001b[1;32m      9\u001b[0m         \u001b[38;5;28mself\u001b[39m\u001b[38;5;241m.\u001b[39m__titles\u001b[38;5;241m.\u001b[39mappend(title)\n\u001b[1;32m     10\u001b[0m blog \u001b[38;5;241m=\u001b[39m Blog()\n\u001b[0;32m---> 11\u001b[0m \u001b[43mblog\u001b[49m\u001b[38;5;241;43m.\u001b[39;49m\u001b[43m__add_post\u001b[49m(\u001b[38;5;124m\"\u001b[39m\u001b[38;5;124mPython tutorials\u001b[39m\u001b[38;5;124m\"\u001b[39m)\n",
      "\u001b[0;31mAttributeError\u001b[0m: 'Blog' object has no attribute '__add_post'"
     ]
    }
   ],
   "source": [
    "# 部落格類別\n",
    "class Blog:\n",
    "    # 建構式\n",
    "    def __init__(self):\n",
    "        self.__author = \"Mike\"  # 作者屬性\n",
    "        self.__titles = []  # 文章標題屬性\n",
    "    # 新增文章\n",
    "    def __add_post(self, title):\n",
    "        self.__titles.append(title)\n",
    "blog = Blog()\n",
    "blog.__add_post(\"Python tutorials\")"
   ]
  },
  {
   "cell_type": "code",
   "execution_count": 39,
   "id": "cecb6939",
   "metadata": {},
   "outputs": [
    {
     "name": "stdout",
     "output_type": "stream",
     "text": [
      "['Python tutorials']\n"
     ]
    }
   ],
   "source": [
    "blog._Blog__add_post(\"Python tutorials\")  #存取私有方法\n",
    "print(blog._Blog__titles)  #存取私有屬性"
   ]
  },
  {
   "cell_type": "code",
   "execution_count": null,
   "id": "875297f8",
   "metadata": {},
   "outputs": [],
   "source": []
  }
 ],
 "metadata": {
  "kernelspec": {
   "display_name": "Python 3 (ipykernel)",
   "language": "python",
   "name": "python3"
  },
  "language_info": {
   "codemirror_mode": {
    "name": "ipython",
    "version": 3
   },
   "file_extension": ".py",
   "mimetype": "text/x-python",
   "name": "python",
   "nbconvert_exporter": "python",
   "pygments_lexer": "ipython3",
   "version": "3.8.8"
  }
 },
 "nbformat": 4,
 "nbformat_minor": 5
}
