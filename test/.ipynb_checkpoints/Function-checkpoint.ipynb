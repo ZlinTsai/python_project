{
 "cells": [
  {
   "cell_type": "markdown",
   "id": "57abb66e",
   "metadata": {},
   "source": [
    "# Python is call by Assignment  \n",
    "\n",
    " * if parameter is value -> call by value\n",
    "\n",
    " * if parameter is object -> call by reference"
   ]
  },
  {
   "cell_type": "code",
   "execution_count": 4,
   "id": "ad821637",
   "metadata": {},
   "outputs": [],
   "source": [
    "class car():\n",
    "    w = 0;\n",
    "    "
   ]
  },
  {
   "cell_type": "code",
   "execution_count": 13,
   "id": "ec09f386",
   "metadata": {},
   "outputs": [
    {
     "name": "stdout",
     "output_type": "stream",
     "text": [
      "1\n"
     ]
    }
   ],
   "source": [
    "car()\n",
    "car.w = 1\n",
    "\n",
    "print(car.w)\n",
    "\n",
    "def test(a, b):\n",
    "    a.w = 2\n",
    "    b = 3"
   ]
  },
  {
   "cell_type": "code",
   "execution_count": 14,
   "id": "41ec3ee4",
   "metadata": {},
   "outputs": [
    {
     "name": "stdout",
     "output_type": "stream",
     "text": [
      "2 0\n"
     ]
    }
   ],
   "source": [
    "testb = 0\n",
    "test(car, testb)\n",
    "\n",
    "print(car.w, testb)\n",
    "\n",
    "# in this case car is mutable object\n",
    "\n",
    "# mutable   : list, dict, set, byte-array, user-defined class\n",
    "# immutable : string, int, float, bool, tuple, range, bytes..."
   ]
  },
  {
   "cell_type": "markdown",
   "id": "3ea14929",
   "metadata": {},
   "source": [
    "## Recursion for factorial function"
   ]
  },
  {
   "cell_type": "code",
   "execution_count": 21,
   "id": "d5e6ac37",
   "metadata": {},
   "outputs": [],
   "source": [
    "def factorial(n):\n",
    "    \n",
    "    # check n is > 0\n",
    "    if (n < 0):\n",
    "        print(\"Error n < 0!!!\")\n",
    "        return None\n",
    "    \n",
    "    if (n <= 1):\n",
    "        return 1\n",
    "    else:\n",
    "        result = n * factorial(n-1)\n",
    "        return result"
   ]
  },
  {
   "cell_type": "code",
   "execution_count": 23,
   "id": "9973b556",
   "metadata": {},
   "outputs": [
    {
     "data": {
      "text/plain": [
       "3.75"
      ]
     },
     "execution_count": 23,
     "metadata": {},
     "output_type": "execute_result"
    }
   ],
   "source": [
    "factorial(2.5)"
   ]
  },
  {
   "cell_type": "markdown",
   "id": "c76392e0",
   "metadata": {},
   "source": [
    "# Function \n",
    "\n",
    "* 函式(Function)結構\n",
    "* 函式(Function)參數\n",
    "* 函式(Function) \\*args、\\**kwargs運算子\n",
    "* 函式(Function)種類\n",
    "* 函式(Function)變數範圍(Scope)"
   ]
  },
  {
   "cell_type": "code",
   "execution_count": 1,
   "id": "ed556821",
   "metadata": {},
   "outputs": [
    {
     "data": {
      "text/plain": [
       "15"
      ]
     },
     "execution_count": 1,
     "metadata": {},
     "output_type": "execute_result"
    }
   ],
   "source": [
    "# 函式(Function)結構\n",
    "\n",
    "def twoSum(a, b):\n",
    "    return a + b\n",
    "\n",
    "twoSum(8, 7)"
   ]
  },
  {
   "cell_type": "markdown",
   "id": "7aba7742",
   "metadata": {},
   "source": [
    "### 函式(Function)參數(Argument) => a and b\n",
    "\n",
    "Argument => a and b\n",
    "\n",
    "Parameter => 8 and 7"
   ]
  },
  {
   "cell_type": "code",
   "execution_count": 5,
   "id": "16fc5843",
   "metadata": {},
   "outputs": [
    {
     "name": "stdout",
     "output_type": "stream",
     "text": [
      "value1: 7 \t value2: 8\n"
     ]
    },
    {
     "data": {
      "text/plain": [
       "15"
      ]
     },
     "execution_count": 5,
     "metadata": {},
     "output_type": "execute_result"
    }
   ],
   "source": [
    "# 關鍵字參數(Keyword Argument)\n",
    "\n",
    "def twoSum(value1, value2):\n",
    "    print(f\"value1: {value1} \\t value2: {value2}\")\n",
    "    return value1 + value2\n",
    "\n",
    "twoSum(value2=8,  value1=7)"
   ]
  },
  {
   "cell_type": "code",
   "execution_count": 6,
   "id": "3cb9cf45",
   "metadata": {},
   "outputs": [
    {
     "name": "stdout",
     "output_type": "stream",
     "text": [
      "value1: 0 \t value2: 0\n"
     ]
    },
    {
     "data": {
      "text/plain": [
       "0"
      ]
     },
     "execution_count": 6,
     "metadata": {},
     "output_type": "execute_result"
    }
   ],
   "source": [
    "# 預設值參數(Default Argument)\n",
    "\n",
    "def twoSum(value1=0, value2=0):\n",
    "    print(f\"value1: {value1} \\t value2: {value2}\")\n",
    "    return value1 + value2\n",
    "\n",
    "twoSum()"
   ]
  },
  {
   "cell_type": "markdown",
   "id": "b6e7f9ab",
   "metadata": {},
   "source": [
    "## 函式(Function) \\*args、\\**kwargs運算子\n",
    "\n",
    "當我們要傳入大量的參數時，在函式上定義過多的參數名稱會讓程式碼的可讀性降低，這時候就可以使用 * 符號來將傳入參數進行打包\n",
    "\n",
    "提供兩種打包型態:\n",
    "\n",
    "    1. tuple => like list but immutable\n",
    "    2. dict  => more convenient via using key and value"
   ]
  },
  {
   "cell_type": "code",
   "execution_count": 19,
   "id": "6acabde2",
   "metadata": {},
   "outputs": [
    {
     "name": "stdout",
     "output_type": "stream",
     "text": [
      "('apple', 'banana', 'cake', 4, 5.5, 6.78, 7, '8')\n"
     ]
    }
   ],
   "source": [
    "# Tuple 打包 (immutable input)\n",
    "def app_log(*info):\n",
    "    print(info)\n",
    "    #info[1] = \"change!!!\" # error 'tuple' object does not support item assignment\n",
    "    \n",
    "app_log(\"apple\", \"banana\", \"cake\", 4, 5.5, 6.78, 7, \"8\")"
   ]
  },
  {
   "cell_type": "code",
   "execution_count": 20,
   "id": "406fa1e0",
   "metadata": {},
   "outputs": [
    {
     "name": "stdout",
     "output_type": "stream",
     "text": [
      "{'a': 'test', 'b': 'banana', 'c': 'cake', 'd': 4, 'e': 5.5, 'f': 6.78, 'g': 7, 'h': '8'}\n",
      "{'a': 'change!!!', 'b': 'banana', 'c': 'cake', 'd': 4, 'e': 5.5, 'f': 6.78, 'g': 7, 'h': '8'}\n"
     ]
    }
   ],
   "source": [
    "# dictionary 打包 (mutable input)\n",
    "def app_log(**info):\n",
    "    print(info)\n",
    "    info[\"a\"] = \"change!!!\"\n",
    "    print(info)\n",
    "    \n",
    "x = \"test\"\n",
    "app_log(a=x, b=\"banana\", c=\"cake\", d=4, e=5.5, f=6.78, g=7, h=\"8\")"
   ]
  },
  {
   "cell_type": "code",
   "execution_count": 21,
   "id": "282b7e10",
   "metadata": {},
   "outputs": [
    {
     "name": "stdout",
     "output_type": "stream",
     "text": [
      "test\n"
     ]
    }
   ],
   "source": [
    "print(x)"
   ]
  },
  {
   "cell_type": "code",
   "execution_count": 29,
   "id": "554da5eb",
   "metadata": {},
   "outputs": [
    {
     "name": "stdout",
     "output_type": "stream",
     "text": [
      "{'a': 'test', 'b': 'banana', 'c': 'cake', 'd': 4, 'e': 5.5, 'f': 6.78, 'g': 7, 'h': '8'}\n",
      "{'a': 'test', 'b': 'banana', 'c': 'cake', 'd': 4, 'e': 5.5, 'f': 6.78, 'g': 7, 'h': '8'}\n",
      "{'a': 'change!!!', 'b': 'banana', 'c': 'cake', 'd': 4, 'e': 5.5, 'f': 6.78, 'g': 7, 'h': '8'}\n",
      "{'a': 'change!!!', 'b': 'banana', 'c': 'cake', 'd': 4, 'e': 5.5, 'f': 6.78, 'g': 7, 'h': '8'}\n"
     ]
    }
   ],
   "source": [
    "def app_log(info):\n",
    "    print(info)\n",
    "    info[\"a\"] = \"change!!!\"\n",
    "    print(info)\n",
    "\n",
    "test = {\"a\":\"test\", \"b\":\"banana\", \"c\":\"cake\", \"d\":4, \"e\":5.5, \"f\":6.78, \"g\":7, \"h\":\"8\"}\n",
    "\n",
    "print(test)\n",
    "app_log(test)\n",
    "print(test)"
   ]
  },
  {
   "cell_type": "code",
   "execution_count": 40,
   "id": "6f26ec4d",
   "metadata": {},
   "outputs": [
    {
     "name": "stdout",
     "output_type": "stream",
     "text": [
      "[0. 0. 0. 0. 0. 0. 0. 0. 0. 0. 0. 0. 0. 0. 0. 0. 0.]\n",
      "[1. 1. 1. 1. 1. 1. 1. 1. 1. 1. 1. 1. 1. 1. 1. 1. 1.]\n"
     ]
    }
   ],
   "source": [
    "import numpy as np\n",
    "\n",
    "# class + mutual / immutual testing\n",
    "\n",
    "class MTFdata():\n",
    "    \n",
    "    def __init__(self, numCam=17, linePair=110):\n",
    "        self.value_S = np.zeros(numCam)\n",
    "        self.value_T = np.zeros(numCam)\n",
    "        self.linePair = linePair\n",
    "        \n",
    "    def dataAdd1_inside(self):\n",
    "        self.value_S = self.value_S + 1\n",
    "        self.value_T = self.value_T + 1\n",
    "\n",
    "def dataAdd1(data):\n",
    "    if (isinstance(data, MTFdata)):\n",
    "        data.value_S = data.value_S + 1\n",
    "        data.value_T = data.value_T + 1\n",
    "        \n",
    "data = MTFdata()\n",
    "print(data.value_S)\n",
    "\n",
    "dataAdd1(data)\n",
    "print(data.value_S)"
   ]
  },
  {
   "cell_type": "code",
   "execution_count": 41,
   "id": "5bd65610",
   "metadata": {},
   "outputs": [
    {
     "name": "stdout",
     "output_type": "stream",
     "text": [
      "[2. 2. 2. 2. 2. 2. 2. 2. 2. 2. 2. 2. 2. 2. 2. 2. 2.]\n"
     ]
    }
   ],
   "source": [
    "data.dataAdd1_inside()\n",
    "print(data.value_S)"
   ]
  },
  {
   "cell_type": "code",
   "execution_count": 5,
   "id": "e678bee0",
   "metadata": {},
   "outputs": [
    {
     "name": "stdout",
     "output_type": "stream",
     "text": [
      "請求 https://openhome.cc\n",
      "設定 {'method': 'POST', 'contents': 'book=python', 'datatype': 'no-find'}\n",
      "請求 https://openhome.cc2\n",
      "設定 {'method': 'no-find', 'contents': 'no-find', 'datatype': 'no-find'}\n"
     ]
    }
   ],
   "source": [
    "def ajax(url, **user_settings):\n",
    "    settings = {\n",
    "        'method' : user_settings.get('method', 'no-find'),\n",
    "        'contents' : user_settings.get('contents', 'no-find'),\n",
    "        'datatype' : user_settings.get('datatype', 'no-find'),\n",
    "        # 其他設定 ...\n",
    "    }\n",
    "    print('請求 {}'.format(url))\n",
    "    print('設定 {}'.format(settings))\n",
    "\n",
    "ajax('https://openhome.cc', method = 'POST', contents = 'book=python')\n",
    "\n",
    "\n",
    "my_settings = {'method2' : 'POST2', 'contents2' : 'book=python'}\n",
    "ajax('https://openhome.cc2', **my_settings)"
   ]
  },
  {
   "cell_type": "markdown",
   "id": "cc2725ae",
   "metadata": {},
   "source": [
    "# 如果argunment 是 mutable object 就可以改變"
   ]
  },
  {
   "cell_type": "markdown",
   "id": "ed582eb9",
   "metadata": {},
   "source": [
    "### 函式(Function) return\n",
    "\n",
    "有return: return ans\n",
    "\n",
    "沒return: return None <- python 自動預設"
   ]
  },
  {
   "cell_type": "code",
   "execution_count": 46,
   "id": "03470192",
   "metadata": {},
   "outputs": [
    {
     "data": {
      "text/plain": [
       "24"
      ]
     },
     "execution_count": 46,
     "metadata": {},
     "output_type": "execute_result"
    }
   ],
   "source": [
    "## scope of variable\n",
    "x = 3\n",
    "\n",
    "def add3(value):\n",
    "    x = 20\n",
    "    return value + x\n",
    "\n",
    "add3(4)"
   ]
  },
  {
   "cell_type": "code",
   "execution_count": 47,
   "id": "002b718b",
   "metadata": {},
   "outputs": [
    {
     "name": "stdout",
     "output_type": "stream",
     "text": [
      "3\n"
     ]
    }
   ],
   "source": [
    "print(x)"
   ]
  },
  {
   "cell_type": "code",
   "execution_count": 50,
   "id": "c0d954c4",
   "metadata": {},
   "outputs": [
    {
     "data": {
      "text/plain": [
       "24"
      ]
     },
     "execution_count": 50,
     "metadata": {},
     "output_type": "execute_result"
    }
   ],
   "source": [
    "x = 3\n",
    "\n",
    "def add3(value):\n",
    "    global x\n",
    "    x = 20\n",
    "    return value + x\n",
    "\n",
    "add3(4)"
   ]
  },
  {
   "cell_type": "code",
   "execution_count": 49,
   "id": "f20d78a2",
   "metadata": {},
   "outputs": [
    {
     "name": "stdout",
     "output_type": "stream",
     "text": [
      "20\n"
     ]
    }
   ],
   "source": [
    "print(x)"
   ]
  },
  {
   "cell_type": "markdown",
   "id": "9eb15e71",
   "metadata": {},
   "source": [
    "### 補充 Python3.8: Positional-Only Parameters\n",
    "\n",
    "想要某一個參數，一定要key-word方式進行引述傳遞，在定義參數列時可以使用 / 標示，/ 前的參數必須依定義的位置呼叫，而且不能採用關鍵字參數的形式來指定，例如："
   ]
  },
  {
   "cell_type": "code",
   "execution_count": 6,
   "id": "166240c0",
   "metadata": {},
   "outputs": [],
   "source": [
    "def POPtest(a, /, **b):\n",
    "    settings = {\n",
    "        'b1' : b.get('b1', 0),\n",
    "        'b2' : b.get('b2', 0),\n",
    "        'b3' : b.get('b3', 0),\n",
    "    }\n",
    "    print('請求 {}'.format(url))\n",
    "    print('設定 {}'.format(settings))"
   ]
  },
  {
   "cell_type": "code",
   "execution_count": null,
   "id": "8e2080e8",
   "metadata": {},
   "outputs": [],
   "source": []
  }
 ],
 "metadata": {
  "kernelspec": {
   "display_name": "Python 3",
   "language": "python",
   "name": "python3"
  },
  "language_info": {
   "codemirror_mode": {
    "name": "ipython",
    "version": 3
   },
   "file_extension": ".py",
   "mimetype": "text/x-python",
   "name": "python",
   "nbconvert_exporter": "python",
   "pygments_lexer": "ipython3",
   "version": "3.8.8"
  }
 },
 "nbformat": 4,
 "nbformat_minor": 5
}
