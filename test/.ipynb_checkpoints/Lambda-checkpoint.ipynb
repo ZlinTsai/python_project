{
 "cells": [
  {
   "cell_type": "markdown",
   "id": "8730c7c4",
   "metadata": {},
   "source": [
    "## Lambda function\n",
    "\n",
    "Lambda函式不需要定義名稱，而一般函式(Function)需定義名稱。\n",
    "\n",
    "Lambda函式只能有一行運算式，而一般函式(Function)可以有多行運算式。\n",
    "\n",
    "Lambda在每一次運算完會自動回傳結果，而一般函式(Function)如果要回傳結果要加上 return 關鍵字。\n",
    "\n",
    "過度使用會造成可讀性下降"
   ]
  },
  {
   "cell_type": "code",
   "execution_count": 1,
   "id": "0ff8852e",
   "metadata": {},
   "outputs": [
    {
     "name": "stdout",
     "output_type": "stream",
     "text": [
      "8\n"
     ]
    }
   ],
   "source": [
    "multiply = lambda x, y : x * y\n",
    "\n",
    "print(multiply(4, 2))"
   ]
  },
  {
   "cell_type": "code",
   "execution_count": 4,
   "id": "e160337c",
   "metadata": {},
   "outputs": [
    {
     "name": "stdout",
     "output_type": "stream",
     "text": [
      "[45, 10, 83, 24, 41, 30, 5, 57, 59, 96]\n"
     ]
    }
   ],
   "source": [
    "import random\n",
    "\n",
    "nums = random.sample(range(1, 100), 10)\n",
    "\n",
    "print(nums)"
   ]
  },
  {
   "cell_type": "code",
   "execution_count": 9,
   "id": "9458ed10",
   "metadata": {},
   "outputs": [],
   "source": [
    "result = filter(lambda x: x > 10, nums)"
   ]
  },
  {
   "cell_type": "code",
   "execution_count": 10,
   "id": "9207ae67",
   "metadata": {},
   "outputs": [
    {
     "name": "stdout",
     "output_type": "stream",
     "text": [
      "[45, 83, 24, 41, 30, 57, 59, 96]\n"
     ]
    }
   ],
   "source": [
    "print(list(result))"
   ]
  },
  {
   "cell_type": "code",
   "execution_count": 11,
   "id": "20288e10",
   "metadata": {},
   "outputs": [
    {
     "data": {
      "text/plain": [
       "<filter at 0x7f552540e190>"
      ]
     },
     "execution_count": 11,
     "metadata": {},
     "output_type": "execute_result"
    }
   ],
   "source": [
    "result"
   ]
  },
  {
   "cell_type": "code",
   "execution_count": null,
   "id": "4b80d1c6",
   "metadata": {},
   "outputs": [],
   "source": []
  }
 ],
 "metadata": {
  "kernelspec": {
   "display_name": "Python 3",
   "language": "python",
   "name": "python3"
  },
  "language_info": {
   "codemirror_mode": {
    "name": "ipython",
    "version": 3
   },
   "file_extension": ".py",
   "mimetype": "text/x-python",
   "name": "python",
   "nbconvert_exporter": "python",
   "pygments_lexer": "ipython3",
   "version": "3.8.8"
  }
 },
 "nbformat": 4,
 "nbformat_minor": 5
}
