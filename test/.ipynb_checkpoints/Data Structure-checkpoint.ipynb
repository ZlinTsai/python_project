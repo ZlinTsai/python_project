{
 "cells": [
  {
   "cell_type": "markdown",
   "id": "9e0f1b4d",
   "metadata": {},
   "source": [
    "# built-in data structure\n",
    "    * list\n",
    "    * tuple\n",
    "    * dictionary\n",
    "    * set\n",
    "    * datatime\n",
    "    * ..."
   ]
  },
  {
   "cell_type": "markdown",
   "id": "20f106db",
   "metadata": {},
   "source": [
    "## Tuples\n",
    "\n",
    "same as list, but \n",
    "\n",
    "    * Immutable\n",
    "    * Enclosed in parantheses ()\n",
    "    * must comma, a = (11, 22, 33)"
   ]
  },
  {
   "cell_type": "code",
   "execution_count": 2,
   "id": "47dbcfb9",
   "metadata": {},
   "outputs": [],
   "source": [
    "tuple1 = (11, 22, 33)"
   ]
  },
  {
   "cell_type": "code",
   "execution_count": 4,
   "id": "b5793205",
   "metadata": {},
   "outputs": [
    {
     "name": "stdout",
     "output_type": "stream",
     "text": [
      "11\n",
      "33\n",
      "(11,)\n"
     ]
    }
   ],
   "source": [
    "print(tuple1[0])\n",
    "print(tuple1[-1])\n",
    "print(tuple1[0:1])"
   ]
  },
  {
   "cell_type": "code",
   "execution_count": 14,
   "id": "14dc6af0",
   "metadata": {},
   "outputs": [
    {
     "data": {
      "text/plain": [
       "int"
      ]
     },
     "execution_count": 14,
     "metadata": {},
     "output_type": "execute_result"
    }
   ],
   "source": [
    "tuple2 = (11)\n",
    "type(tuple2) # <- just value"
   ]
  },
  {
   "cell_type": "code",
   "execution_count": 15,
   "id": "61eb536b",
   "metadata": {},
   "outputs": [
    {
     "data": {
      "text/plain": [
       "tuple"
      ]
     },
     "execution_count": 15,
     "metadata": {},
     "output_type": "execute_result"
    }
   ],
   "source": [
    "tuple3 = (11,)\n",
    "type(tuple3) # <- tuple fr single element!!!"
   ]
  },
  {
   "cell_type": "code",
   "execution_count": 16,
   "id": "4d95fbdd",
   "metadata": {},
   "outputs": [],
   "source": [
    "tuple4 = (11, 22, 33)"
   ]
  },
  {
   "cell_type": "code",
   "execution_count": 17,
   "id": "22b3e2b9",
   "metadata": {},
   "outputs": [],
   "source": [
    "tuple5 = tuple4\n",
    "tuple4 += (44,)"
   ]
  },
  {
   "cell_type": "code",
   "execution_count": 18,
   "id": "2cb225ac",
   "metadata": {},
   "outputs": [
    {
     "name": "stdout",
     "output_type": "stream",
     "text": [
      "(11, 22, 33, 44)\n",
      "(11, 22, 33)\n"
     ]
    }
   ],
   "source": [
    "print(tuple4)\n",
    "print(tuple5)"
   ]
  },
  {
   "cell_type": "code",
   "execution_count": 19,
   "id": "d6e8932a",
   "metadata": {},
   "outputs": [
    {
     "ename": "AttributeError",
     "evalue": "'tuple' object has no attribute 'sort'",
     "output_type": "error",
     "traceback": [
      "\u001b[0;31m---------------------------------------------------------------------------\u001b[0m",
      "\u001b[0;31mAttributeError\u001b[0m                            Traceback (most recent call last)",
      "\u001b[0;32m<ipython-input-19-ff737819ed94>\u001b[0m in \u001b[0;36m<module>\u001b[0;34m\u001b[0m\n\u001b[0;32m----> 1\u001b[0;31m \u001b[0mtuple4\u001b[0m\u001b[0;34m.\u001b[0m\u001b[0msort\u001b[0m\u001b[0;34m(\u001b[0m\u001b[0;34m)\u001b[0m\u001b[0;34m\u001b[0m\u001b[0;34m\u001b[0m\u001b[0m\n\u001b[0m",
      "\u001b[0;31mAttributeError\u001b[0m: 'tuple' object has no attribute 'sort'"
     ]
    }
   ],
   "source": [
    "tuple4.sort()"
   ]
  },
  {
   "cell_type": "code",
   "execution_count": 20,
   "id": "4c56a252",
   "metadata": {},
   "outputs": [
    {
     "data": {
      "text/plain": [
       "[11, 22, 33, 44]"
      ]
     },
     "execution_count": 20,
     "metadata": {},
     "output_type": "execute_result"
    }
   ],
   "source": [
    "sorted(tuple4) # => become list"
   ]
  },
  {
   "cell_type": "code",
   "execution_count": null,
   "id": "b1619073",
   "metadata": {},
   "outputs": [],
   "source": []
  }
 ],
 "metadata": {
  "kernelspec": {
   "display_name": "Python 3",
   "language": "python",
   "name": "python3"
  },
  "language_info": {
   "codemirror_mode": {
    "name": "ipython",
    "version": 3
   },
   "file_extension": ".py",
   "mimetype": "text/x-python",
   "name": "python",
   "nbconvert_exporter": "python",
   "pygments_lexer": "ipython3",
   "version": "3.8.8"
  }
 },
 "nbformat": 4,
 "nbformat_minor": 5
}
