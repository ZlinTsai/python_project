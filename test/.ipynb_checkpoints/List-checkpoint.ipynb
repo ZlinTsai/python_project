{
 "cells": [
  {
   "cell_type": "markdown",
   "id": "18e981f7",
   "metadata": {},
   "source": [
    "# List\n",
    "\n",
    "* ordered container\n",
    "\n",
    "list 可以存anything(int, float, string...)"
   ]
  },
  {
   "cell_type": "code",
   "execution_count": 4,
   "id": "0d2fb9ef",
   "metadata": {},
   "outputs": [
    {
     "name": "stdout",
     "output_type": "stream",
     "text": [
      "key daata:10 20 30\n",
      "10 20\n",
      "key daata:10,40,50\n",
      "10 40\n"
     ]
    }
   ],
   "source": [
    "dataStr = input(\"key daata:\")\n",
    "data = dataStr.split() # split Definition  by \" \"\n",
    "print(data[0], data[1])\n",
    "\n",
    "dataStr = input(\"key daata:\")\n",
    "data = dataStr.split(\",\") # split by \",\"\n",
    "print(data[0], data[1])"
   ]
  },
  {
   "cell_type": "code",
   "execution_count": null,
   "id": "940e73a9",
   "metadata": {},
   "outputs": [],
   "source": []
  }
 ],
 "metadata": {
  "kernelspec": {
   "display_name": "Python 3",
   "language": "python",
   "name": "python3"
  },
  "language_info": {
   "codemirror_mode": {
    "name": "ipython",
    "version": 3
   },
   "file_extension": ".py",
   "mimetype": "text/x-python",
   "name": "python",
   "nbconvert_exporter": "python",
   "pygments_lexer": "ipython3",
   "version": "3.8.8"
  }
 },
 "nbformat": 4,
 "nbformat_minor": 5
}
