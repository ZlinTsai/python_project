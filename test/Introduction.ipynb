{
 "cells": [
  {
   "cell_type": "markdown",
   "id": "2548ac86",
   "metadata": {},
   "source": [
    "# Introduction\n",
    "\n",
    "python is an interpreter translates programs into assembly programs.\n",
    "\n",
    "other high-level are compiler needed."
   ]
  },
  {
   "cell_type": "markdown",
   "id": "806abd93",
   "metadata": {},
   "source": [
    "## print"
   ]
  },
  {
   "cell_type": "code",
   "execution_count": 5,
   "id": "d6cd8aa3",
   "metadata": {},
   "outputs": [
    {
     "name": "stdout",
     "output_type": "stream",
     "text": [
      "Hello, world!\n",
      "Hello\t world!\n",
      "Hello\n",
      " world!\n",
      "Hello\\ world!\n"
     ]
    }
   ],
   "source": [
    "print(\"Hello, world!\")\n",
    "print(\"Hello\\t world!\")\n",
    "print(\"Hello\\n world!\")\n",
    "print(\"Hello\\\\ world!\")"
   ]
  },
  {
   "cell_type": "markdown",
   "id": "36f72006",
   "metadata": {},
   "source": [
    "# basic operatot"
   ]
  },
  {
   "cell_type": "code",
   "execution_count": 11,
   "id": "0ccae8b4",
   "metadata": {},
   "outputs": [
    {
     "name": "stdout",
     "output_type": "stream",
     "text": [
      "8+7 =  15\n",
      "8*7 =  2097152\n",
      "8/7 =  1.1428571428571428\n",
      "8//7 =  1\n"
     ]
    }
   ],
   "source": [
    "print(\"8+7 = \", 8+7)\n",
    "print(\"8*7 = \", 8**7)\n",
    "print(\"8/7 = \", 8/7)\n",
    "print(\"8//7 = \", 8//7) # floor division"
   ]
  },
  {
   "cell_type": "markdown",
   "id": "fd125d28",
   "metadata": {},
   "source": [
    "## input"
   ]
  },
  {
   "cell_type": "code",
   "execution_count": 18,
   "id": "571edaa1",
   "metadata": {},
   "outputs": [
    {
     "name": "stdout",
     "output_type": "stream",
     "text": [
      "10\n",
      "<class 'str'>\n",
      "20\n",
      "<class 'int'>\n",
      "1\n",
      "<class 'int'>\n"
     ]
    }
   ],
   "source": [
    "x = input()\n",
    "print(type(x))\n",
    "\n",
    "x = int(x)\n",
    "print(x * 2)\n",
    "print(type(x))\n",
    "\n",
    "x = int(x)\n",
    "print(x % 3) # mod\n",
    "print(type(x))"
   ]
  },
  {
   "cell_type": "code",
   "execution_count": 16,
   "id": "157937d1",
   "metadata": {},
   "outputs": [
    {
     "name": "stdout",
     "output_type": "stream",
     "text": [
      "<class 'int'>\n",
      "<class 'float'>\n",
      "<class 'str'>\n"
     ]
    }
   ],
   "source": [
    "# 強制type變換\n",
    "a = 123\n",
    "print(type(a))\n",
    "a = 1.23\n",
    "print(type(a))\n",
    "a = \"1.23\"\n",
    "print(type(a))"
   ]
  },
  {
   "cell_type": "code",
   "execution_count": 23,
   "id": "2143fa7d",
   "metadata": {},
   "outputs": [
    {
     "name": "stdout",
     "output_type": "stream",
     "text": [
      "60\n",
      "<\n"
     ]
    }
   ],
   "source": [
    "test = 60\n",
    "print(test)\n",
    "print(chr(test)) # ASCII code"
   ]
  },
  {
   "cell_type": "markdown",
   "id": "8498c710",
   "metadata": {},
   "source": [
    "## Bug\n",
    "\n",
    "1. runtime error is kind of logic\n",
    "2. syntax error"
   ]
  },
  {
   "cell_type": "markdown",
   "id": "bc1762b5",
   "metadata": {},
   "source": [
    "## Casting\n",
    "\n",
    "convert a vlue from A type to B type"
   ]
  },
  {
   "cell_type": "code",
   "execution_count": 25,
   "id": "23fa6fbc",
   "metadata": {},
   "outputs": [
    {
     "name": "stdout",
     "output_type": "stream",
     "text": [
      "<class 'str'>\n",
      "<class 'int'>\n"
     ]
    }
   ],
   "source": [
    "s = '60'\n",
    "x = int(s)\n",
    "print(type(s))\n",
    "print(type(x))"
   ]
  },
  {
   "cell_type": "code",
   "execution_count": 27,
   "id": "252fec24",
   "metadata": {},
   "outputs": [
    {
     "name": "stdout",
     "output_type": "stream",
     "text": [
      "x = 10\n",
      "y = 30\n",
      "x + y =  40\n"
     ]
    }
   ],
   "source": [
    "x = int(input(\"x = \"))\n",
    "y = int(input(\"y = \"))\n",
    "print(\"x + y = \", x+y)"
   ]
  },
  {
   "cell_type": "markdown",
   "id": "e3983908",
   "metadata": {},
   "source": [
    "## more print"
   ]
  },
  {
   "cell_type": "code",
   "execution_count": 33,
   "id": "3c728512",
   "metadata": {},
   "outputs": [
    {
     "name": "stdout",
     "output_type": "stream",
     "text": [
      "$41\n",
      "vector < 10 , 20 >\n",
      "vector <10,20>\n"
     ]
    }
   ],
   "source": [
    "print(\"$\" + str(41)) # casting to string\n",
    "print(\"vector <\",10,\",\",20,\">\")\n",
    "# delete space\n",
    "print(\"vector <\" + str(10) + \",\" + str(20) + \">\")"
   ]
  },
  {
   "cell_type": "code",
   "execution_count": null,
   "id": "c49f9879",
   "metadata": {},
   "outputs": [],
   "source": []
  }
 ],
 "metadata": {
  "kernelspec": {
   "display_name": "Python 3",
   "language": "python",
   "name": "python3"
  },
  "language_info": {
   "codemirror_mode": {
    "name": "ipython",
    "version": 3
   },
   "file_extension": ".py",
   "mimetype": "text/x-python",
   "name": "python",
   "nbconvert_exporter": "python",
   "pygments_lexer": "ipython3",
   "version": "3.8.8"
  }
 },
 "nbformat": 4,
 "nbformat_minor": 5
}
