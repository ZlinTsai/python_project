{
 "cells": [
  {
   "cell_type": "code",
   "execution_count": 14,
   "id": "6fbde1e9",
   "metadata": {},
   "outputs": [
    {
     "name": "stdout",
     "output_type": "stream",
     "text": [
      "Done!\n"
     ]
    }
   ],
   "source": [
    "from PIL import Image\n",
    "\n",
    "#ascii_characters_by_surface = \"`^\\\",:;Il!i~+_-?][}{1)(|\\\\/tfjrxnuvczXYUJCLQ0OZmwqpdbkhao*#MW&8%B@$\"\n",
    "ascii_characters_by_surface = \"$@B%8&WM#*oahkbdpqwmZO0QLCJUYXzcvunxrjft/\\|()1{}[]?-_+~<>i!lI;:,\\\"^`'. \"\n",
    "\n",
    "def run_job(filename):\n",
    "    image = Image.open(filename)\n",
    "    # you can first resize the image if needed\n",
    "    image = image.resize((80, 80))\n",
    "    ascii_art = convert_to_ascii_art(image)\n",
    "    namelist = filename.split(\".\")\n",
    "    \n",
    "    output_name = \"\"\n",
    "    for name in namelist[:-1]:\n",
    "        output_name += name\n",
    "        \n",
    "    save_as_text(ascii_art, output_name)\n",
    "    \n",
    "    print(\"Done!\")\n",
    "\n",
    "\n",
    "def convert_to_ascii_art(image):\n",
    "    ascii_art = []\n",
    "    (width, height) = image.size\n",
    "    for y in range(0, height - 1):\n",
    "        line = ''\n",
    "        for x in range(0, width - 1):\n",
    "            px = image.getpixel((x, y))\n",
    "            line += convert_pixel_to_character(px)\n",
    "        ascii_art.append(line)\n",
    "    return ascii_art\n",
    "\n",
    "\n",
    "def convert_pixel_to_character(pixel):\n",
    "    (r, g, b) = pixel\n",
    "    pixel_brightness = r + g + b\n",
    "    max_brightness = 255 * 3\n",
    "    brightness_weight = len(ascii_characters_by_surface) / max_brightness\n",
    "    index = int(pixel_brightness * brightness_weight) - 1\n",
    "    return ascii_characters_by_surface[index]\n",
    "\n",
    "\n",
    "def save_as_text(ascii_art, output_name):\n",
    "    output_name = output_name + \".txt\"\n",
    "    with open(output_name, \"w\") as file:\n",
    "        for line in ascii_art:\n",
    "            file.write(line)\n",
    "            file.write('\\n')\n",
    "        file.close()\n",
    "        \n",
    "run_job('demo.jpg')"
   ]
  },
  {
   "cell_type": "code",
   "execution_count": 4,
   "id": "84de0293",
   "metadata": {},
   "outputs": [
    {
     "data": {
      "text/plain": [
       "range(0, 9)"
      ]
     },
     "execution_count": 4,
     "metadata": {},
     "output_type": "execute_result"
    }
   ],
   "source": [
    "a = range(10)\n",
    "a[:-1]"
   ]
  },
  {
   "cell_type": "code",
   "execution_count": null,
   "id": "cb1839f0",
   "metadata": {},
   "outputs": [],
   "source": []
  }
 ],
 "metadata": {
  "kernelspec": {
   "display_name": "Python 3 (ipykernel)",
   "language": "python",
   "name": "python3"
  },
  "language_info": {
   "codemirror_mode": {
    "name": "ipython",
    "version": 3
   },
   "file_extension": ".py",
   "mimetype": "text/x-python",
   "name": "python",
   "nbconvert_exporter": "python",
   "pygments_lexer": "ipython3",
   "version": "3.8.8"
  }
 },
 "nbformat": 4,
 "nbformat_minor": 5
}
