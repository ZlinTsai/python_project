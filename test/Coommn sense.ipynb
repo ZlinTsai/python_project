{
 "cells": [
  {
   "cell_type": "markdown",
   "id": "d4530147",
   "metadata": {},
   "source": [
    "# Pythn型態"
   ]
  },
  {
   "cell_type": "markdown",
   "id": "7568c0f1",
   "metadata": {},
   "source": [
    "## 數值"
   ]
  },
  {
   "cell_type": "markdown",
   "id": "881813c5",
   "metadata": {},
   "source": [
    "### integer"
   ]
  },
  {
   "cell_type": "code",
   "execution_count": 8,
   "id": "6ea072ad",
   "metadata": {},
   "outputs": [
    {
     "name": "stdout",
     "output_type": "stream",
     "text": [
      "<class 'int'>\n"
     ]
    }
   ],
   "source": [
    "print(type(1))"
   ]
  },
  {
   "cell_type": "markdown",
   "id": "0ba4f76b",
   "metadata": {},
   "source": [
    "### bool"
   ]
  },
  {
   "cell_type": "code",
   "execution_count": 6,
   "id": "38dedace",
   "metadata": {},
   "outputs": [
    {
     "name": "stdout",
     "output_type": "stream",
     "text": [
      "<class 'bool'>\n"
     ]
    }
   ],
   "source": [
    "print(type(True))"
   ]
  },
  {
   "cell_type": "code",
   "execution_count": 5,
   "id": "6f30d3e8",
   "metadata": {},
   "outputs": [
    {
     "data": {
      "text/plain": [
       "2"
      ]
     },
     "execution_count": 5,
     "metadata": {},
     "output_type": "execute_result"
    }
   ],
   "source": [
    "# True、False 只是 1、0 的別名，因此 True、False 也代表 1 與 0，可以直接與其他數字進行運算\n",
    "True + 1"
   ]
  },
  {
   "cell_type": "markdown",
   "id": "4a0a58bd",
   "metadata": {},
   "source": [
    "### float"
   ]
  },
  {
   "cell_type": "code",
   "execution_count": 10,
   "id": "f6382a51",
   "metadata": {},
   "outputs": [
    {
     "name": "stdout",
     "output_type": "stream",
     "text": [
      "<class 'float'>\n"
     ]
    }
   ],
   "source": [
    "print(type(1.23))"
   ]
  },
  {
   "cell_type": "markdown",
   "id": "69a2c8fb",
   "metadata": {},
   "source": [
    "### complex"
   ]
  },
  {
   "cell_type": "code",
   "execution_count": 13,
   "id": "e203f394",
   "metadata": {},
   "outputs": [
    {
     "name": "stdout",
     "output_type": "stream",
     "text": [
      "<class 'complex'>\n"
     ]
    }
   ],
   "source": [
    "print(type(1.23 + 4j))"
   ]
  },
  {
   "cell_type": "markdown",
   "id": "e6739759",
   "metadata": {},
   "source": [
    "---------------------------------------------------------------------------------------------------"
   ]
  },
  {
   "cell_type": "markdown",
   "id": "1812082f",
   "metadata": {},
   "source": [
    "# string"
   ]
  },
  {
   "cell_type": "code",
   "execution_count": 15,
   "id": "1fafa2c0",
   "metadata": {},
   "outputs": [
    {
     "name": "stdout",
     "output_type": "stream",
     "text": [
      "<class 'str'>\n"
     ]
    }
   ],
   "source": [
    "s = \"abc\"\n",
    "print(type(s))"
   ]
  },
  {
   "cell_type": "code",
   "execution_count": 16,
   "id": "4a228fe3",
   "metadata": {},
   "outputs": [
    {
     "data": {
      "text/plain": [
       "'abcd'"
      ]
     },
     "execution_count": 16,
     "metadata": {},
     "output_type": "execute_result"
    }
   ],
   "source": [
    "s + \"d\""
   ]
  },
  {
   "cell_type": "markdown",
   "id": "a48cd9c3",
   "metadata": {},
   "source": [
    "---------------------------------------------------------------------------------------------------"
   ]
  },
  {
   "cell_type": "markdown",
   "id": "baef3143",
   "metadata": {},
   "source": [
    "# List"
   ]
  },
  {
   "cell_type": "code",
   "execution_count": 18,
   "id": "6ff3ab9d",
   "metadata": {},
   "outputs": [],
   "source": [
    "# 中括弧 []\n",
    "\n",
    "l = [1,2,3]"
   ]
  },
  {
   "cell_type": "markdown",
   "id": "28c6ed88",
   "metadata": {},
   "source": [
    "---------------------------------------------------------------------------------------------------"
   ]
  },
  {
   "cell_type": "markdown",
   "id": "7dbd4009",
   "metadata": {},
   "source": [
    "# set 集合"
   ]
  },
  {
   "cell_type": "code",
   "execution_count": 26,
   "id": "2f2e6fbc",
   "metadata": {},
   "outputs": [],
   "source": [
    "# 沒有Key的dict\n",
    "set1 = {'123', '456', 789}"
   ]
  },
  {
   "cell_type": "code",
   "execution_count": 23,
   "id": "76ad1b93",
   "metadata": {},
   "outputs": [
    {
     "name": "stdout",
     "output_type": "stream",
     "text": [
      "<class 'set'>\n"
     ]
    }
   ],
   "source": [
    "print(type(set1))"
   ]
  },
  {
   "cell_type": "code",
   "execution_count": 24,
   "id": "a0795c49",
   "metadata": {},
   "outputs": [],
   "source": [
    "set1.add(\"aaa\")"
   ]
  },
  {
   "cell_type": "code",
   "execution_count": 25,
   "id": "c5383b55",
   "metadata": {},
   "outputs": [
    {
     "data": {
      "text/plain": [
       "{'123', '456', 789, 'aaa'}"
      ]
     },
     "execution_count": 25,
     "metadata": {},
     "output_type": "execute_result"
    }
   ],
   "source": [
    "set1"
   ]
  },
  {
   "cell_type": "code",
   "execution_count": 27,
   "id": "4feff6a1",
   "metadata": {},
   "outputs": [],
   "source": [
    "# 空集合\n",
    "\n",
    "nullSet = set()"
   ]
  },
  {
   "cell_type": "code",
   "execution_count": 30,
   "id": "bd8b2636",
   "metadata": {},
   "outputs": [
    {
     "name": "stdout",
     "output_type": "stream",
     "text": [
      "<class 'set'>\n"
     ]
    }
   ],
   "source": [
    "print(type(nullSet))"
   ]
  },
  {
   "cell_type": "code",
   "execution_count": 31,
   "id": "acb2ceee",
   "metadata": {},
   "outputs": [],
   "source": [
    "nullSet.add(\"0\")"
   ]
  },
  {
   "cell_type": "code",
   "execution_count": 32,
   "id": "7d2fbeb1",
   "metadata": {},
   "outputs": [
    {
     "data": {
      "text/plain": [
       "{'0'}"
      ]
     },
     "execution_count": 32,
     "metadata": {},
     "output_type": "execute_result"
    }
   ],
   "source": [
    "nullSet"
   ]
  },
  {
   "cell_type": "code",
   "execution_count": 38,
   "id": "2026fe5b",
   "metadata": {},
   "outputs": [
    {
     "name": "stdout",
     "output_type": "stream",
     "text": [
      "{1, 2, 3}\n",
      "<class 'set'>\n"
     ]
    }
   ],
   "source": [
    "set2 = set(l) # 將list 改成set\n",
    "print(set2)\n",
    "print(type(set2))"
   ]
  },
  {
   "cell_type": "code",
   "execution_count": 41,
   "id": "eb3d983b",
   "metadata": {},
   "outputs": [
    {
     "ename": "TypeError",
     "evalue": "unhashable type: 'set'",
     "output_type": "error",
     "traceback": [
      "\u001b[0;31m---------------------------------------------------------------------------\u001b[0m",
      "\u001b[0;31mTypeError\u001b[0m                                 Traceback (most recent call last)",
      "\u001b[0;32m<ipython-input-41-271c7437d4f4>\u001b[0m in \u001b[0;36m<module>\u001b[0;34m\u001b[0m\n\u001b[0;32m----> 1\u001b[0;31m \u001b[0mset2\u001b[0m\u001b[0;34m.\u001b[0m\u001b[0madd\u001b[0m\u001b[0;34m(\u001b[0m\u001b[0;34m{\u001b[0m\u001b[0;34m'Momor'\u001b[0m\u001b[0;34m,\u001b[0m \u001b[0;34m'Hamini'\u001b[0m\u001b[0;34m}\u001b[0m\u001b[0;34m)\u001b[0m\u001b[0;34m\u001b[0m\u001b[0;34m\u001b[0m\u001b[0m\n\u001b[0m",
      "\u001b[0;31mTypeError\u001b[0m: unhashable type: 'set'"
     ]
    }
   ],
   "source": [
    "set2.add({'Momor', 'Hamini'})"
   ]
  },
  {
   "cell_type": "code",
   "execution_count": 42,
   "id": "bc1afa1e",
   "metadata": {},
   "outputs": [],
   "source": [
    "# set + set\n",
    "set2.update({'Momor', 'Hamini'})"
   ]
  },
  {
   "cell_type": "code",
   "execution_count": 43,
   "id": "c9818677",
   "metadata": {},
   "outputs": [
    {
     "data": {
      "text/plain": [
       "{1, 2, 3, 'Hamini', 'Momor'}"
      ]
     },
     "execution_count": 43,
     "metadata": {},
     "output_type": "execute_result"
    }
   ],
   "source": [
    "set2"
   ]
  },
  {
   "cell_type": "code",
   "execution_count": 44,
   "id": "e031e236",
   "metadata": {},
   "outputs": [
    {
     "name": "stdout",
     "output_type": "stream",
     "text": [
      "1\n",
      "2\n",
      "3\n",
      "Momor\n",
      "Hamini\n"
     ]
    }
   ],
   "source": [
    "for elem in set2:\n",
    "    print(elem)"
   ]
  },
  {
   "cell_type": "markdown",
   "id": "f64306a4",
   "metadata": {},
   "source": [
    "---------------------------------------------------------------------------------------------------"
   ]
  },
  {
   "cell_type": "markdown",
   "id": "878cdcdc",
   "metadata": {},
   "source": [
    "# dict"
   ]
  },
  {
   "cell_type": "code",
   "execution_count": 45,
   "id": "394133e8",
   "metadata": {},
   "outputs": [],
   "source": [
    "passwords = {'Hamimi': 970221, 'Justin': 123456}"
   ]
  },
  {
   "cell_type": "code",
   "execution_count": 47,
   "id": "432937dc",
   "metadata": {},
   "outputs": [
    {
     "name": "stdout",
     "output_type": "stream",
     "text": [
      "970221\n"
     ]
    }
   ],
   "source": [
    "print(passwords['Hamimi'])"
   ]
  },
  {
   "cell_type": "code",
   "execution_count": 46,
   "id": "e0ebfa7d",
   "metadata": {},
   "outputs": [
    {
     "name": "stdout",
     "output_type": "stream",
     "text": [
      "970221\n"
     ]
    }
   ],
   "source": [
    "print(passwords.get('Hamimi'))"
   ]
  },
  {
   "cell_type": "code",
   "execution_count": 48,
   "id": "e7dd8aea",
   "metadata": {},
   "outputs": [],
   "source": [
    "passwords['Kenny'] = 1024"
   ]
  },
  {
   "cell_type": "code",
   "execution_count": 49,
   "id": "1d697626",
   "metadata": {},
   "outputs": [
    {
     "name": "stdout",
     "output_type": "stream",
     "text": [
      "{'Hamimi': 970221, 'Justin': 123456, 'Kenny': 1024}\n"
     ]
    }
   ],
   "source": [
    "print(passwords)"
   ]
  },
  {
   "cell_type": "code",
   "execution_count": 50,
   "id": "365b45f5",
   "metadata": {},
   "outputs": [],
   "source": [
    "passwords.update({'Benny' : 2048})"
   ]
  },
  {
   "cell_type": "code",
   "execution_count": 51,
   "id": "ff1d1af1",
   "metadata": {},
   "outputs": [
    {
     "name": "stdout",
     "output_type": "stream",
     "text": [
      "{'Hamimi': 970221, 'Justin': 123456, 'Kenny': 1024, 'Benny': 2048}\n"
     ]
    }
   ],
   "source": [
    "print(passwords)"
   ]
  },
  {
   "cell_type": "markdown",
   "id": "f8ea0a0f",
   "metadata": {},
   "source": [
    "---------------------------------------------------------------------------------------------------"
   ]
  },
  {
   "cell_type": "markdown",
   "id": "28e250f2",
   "metadata": {},
   "source": [
    "# Tuple"
   ]
  },
  {
   "cell_type": "code",
   "execution_count": 52,
   "id": "86adb421",
   "metadata": {},
   "outputs": [],
   "source": [
    "# 不可改值得list 中括弧"
   ]
  },
  {
   "cell_type": "code",
   "execution_count": 53,
   "id": "8a315b7d",
   "metadata": {},
   "outputs": [],
   "source": [
    "t1 = (1,2,3)"
   ]
  },
  {
   "cell_type": "code",
   "execution_count": 54,
   "id": "50dbae87",
   "metadata": {},
   "outputs": [
    {
     "data": {
      "text/plain": [
       "(1, 2, 3)"
      ]
     },
     "execution_count": 54,
     "metadata": {},
     "output_type": "execute_result"
    }
   ],
   "source": [
    "t1"
   ]
  },
  {
   "cell_type": "code",
   "execution_count": 55,
   "id": "f4777152",
   "metadata": {},
   "outputs": [
    {
     "ename": "TypeError",
     "evalue": "'tuple' object does not support item assignment",
     "output_type": "error",
     "traceback": [
      "\u001b[0;31m---------------------------------------------------------------------------\u001b[0m",
      "\u001b[0;31mTypeError\u001b[0m                                 Traceback (most recent call last)",
      "\u001b[0;32m<ipython-input-55-5cceef26ce11>\u001b[0m in \u001b[0;36m<module>\u001b[0;34m\u001b[0m\n\u001b[0;32m----> 1\u001b[0;31m \u001b[0mt1\u001b[0m\u001b[0;34m[\u001b[0m\u001b[0;36m0\u001b[0m\u001b[0;34m]\u001b[0m \u001b[0;34m=\u001b[0m \u001b[0;36m2\u001b[0m\u001b[0;34m\u001b[0m\u001b[0;34m\u001b[0m\u001b[0m\n\u001b[0m",
      "\u001b[0;31mTypeError\u001b[0m: 'tuple' object does not support item assignment"
     ]
    }
   ],
   "source": [
    "t1[0] = 2"
   ]
  },
  {
   "cell_type": "code",
   "execution_count": null,
   "id": "d6f10ad4",
   "metadata": {},
   "outputs": [],
   "source": []
  }
 ],
 "metadata": {
  "kernelspec": {
   "display_name": "Python 3",
   "language": "python",
   "name": "python3"
  },
  "language_info": {
   "codemirror_mode": {
    "name": "ipython",
    "version": 3
   },
   "file_extension": ".py",
   "mimetype": "text/x-python",
   "name": "python",
   "nbconvert_exporter": "python",
   "pygments_lexer": "ipython3",
   "version": "3.8.8"
  }
 },
 "nbformat": 4,
 "nbformat_minor": 5
}
