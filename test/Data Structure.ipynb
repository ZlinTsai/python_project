{
 "cells": [
  {
   "cell_type": "markdown",
   "id": "6f291509",
   "metadata": {},
   "source": [
    "# built-in data structure\n",
    "    * list\n",
    "    * tuple\n",
    "    * dictionary\n",
    "    * set\n",
    "    * datatime\n",
    "    * ..."
   ]
  },
  {
   "cell_type": "markdown",
   "id": "8b8b5cbb",
   "metadata": {},
   "source": [
    "## Tuples\n",
    "\n",
    "same as list, but \n",
    "\n",
    "    * Immutable\n",
    "    * Enclosed in parantheses ()\n",
    "    * must comma, a = (11, 22, 33)"
   ]
  },
  {
   "cell_type": "code",
   "execution_count": 2,
   "id": "3ba42376",
   "metadata": {},
   "outputs": [],
   "source": [
    "tuple1 = (11, 22, 33)"
   ]
  },
  {
   "cell_type": "code",
   "execution_count": 4,
   "id": "013d7326",
   "metadata": {},
   "outputs": [
    {
     "name": "stdout",
     "output_type": "stream",
     "text": [
      "11\n",
      "33\n",
      "(11,)\n"
     ]
    }
   ],
   "source": [
    "print(tuple1[0])\n",
    "print(tuple1[-1])\n",
    "print(tuple1[0:1])"
   ]
  },
  {
   "cell_type": "code",
   "execution_count": 14,
   "id": "b86d1d4c",
   "metadata": {},
   "outputs": [
    {
     "data": {
      "text/plain": [
       "int"
      ]
     },
     "execution_count": 14,
     "metadata": {},
     "output_type": "execute_result"
    }
   ],
   "source": [
    "tuple2 = (11)\n",
    "type(tuple2) # <- just value"
   ]
  },
  {
   "cell_type": "code",
   "execution_count": 15,
   "id": "b287d96c",
   "metadata": {},
   "outputs": [
    {
     "data": {
      "text/plain": [
       "tuple"
      ]
     },
     "execution_count": 15,
     "metadata": {},
     "output_type": "execute_result"
    }
   ],
   "source": [
    "tuple3 = (11,)\n",
    "type(tuple3) # <- tuple fr single element!!!"
   ]
  },
  {
   "cell_type": "code",
   "execution_count": 16,
   "id": "e3dc7291",
   "metadata": {},
   "outputs": [],
   "source": [
    "tuple4 = (11, 22, 33)"
   ]
  },
  {
   "cell_type": "code",
   "execution_count": 17,
   "id": "73bfa40f",
   "metadata": {},
   "outputs": [],
   "source": [
    "tuple5 = tuple4\n",
    "tuple4 += (44,)"
   ]
  },
  {
   "cell_type": "code",
   "execution_count": 18,
   "id": "cb7e6cc8",
   "metadata": {},
   "outputs": [
    {
     "name": "stdout",
     "output_type": "stream",
     "text": [
      "(11, 22, 33, 44)\n",
      "(11, 22, 33)\n"
     ]
    }
   ],
   "source": [
    "print(tuple4)\n",
    "print(tuple5)"
   ]
  },
  {
   "cell_type": "code",
   "execution_count": 19,
   "id": "830a9232",
   "metadata": {},
   "outputs": [
    {
     "ename": "AttributeError",
     "evalue": "'tuple' object has no attribute 'sort'",
     "output_type": "error",
     "traceback": [
      "\u001b[0;31m---------------------------------------------------------------------------\u001b[0m",
      "\u001b[0;31mAttributeError\u001b[0m                            Traceback (most recent call last)",
      "\u001b[0;32m<ipython-input-19-ff737819ed94>\u001b[0m in \u001b[0;36m<module>\u001b[0;34m\u001b[0m\n\u001b[0;32m----> 1\u001b[0;31m \u001b[0mtuple4\u001b[0m\u001b[0;34m.\u001b[0m\u001b[0msort\u001b[0m\u001b[0;34m(\u001b[0m\u001b[0;34m)\u001b[0m\u001b[0;34m\u001b[0m\u001b[0;34m\u001b[0m\u001b[0m\n\u001b[0m",
      "\u001b[0;31mAttributeError\u001b[0m: 'tuple' object has no attribute 'sort'"
     ]
    }
   ],
   "source": [
    "tuple4.sort()"
   ]
  },
  {
   "cell_type": "code",
   "execution_count": 20,
   "id": "a2b9f122",
   "metadata": {},
   "outputs": [
    {
     "data": {
      "text/plain": [
       "[11, 22, 33, 44]"
      ]
     },
     "execution_count": 20,
     "metadata": {},
     "output_type": "execute_result"
    }
   ],
   "source": [
    "sorted(tuple4) # => become list"
   ]
  },
  {
   "cell_type": "code",
   "execution_count": 21,
   "id": "056ecb4e",
   "metadata": {},
   "outputs": [
    {
     "data": {
      "text/plain": [
       "4"
      ]
     },
     "execution_count": 21,
     "metadata": {},
     "output_type": "execute_result"
    }
   ],
   "source": [
    "len(tuple4)"
   ]
  },
  {
   "cell_type": "code",
   "execution_count": 23,
   "id": "a868833c",
   "metadata": {},
   "outputs": [
    {
     "data": {
      "text/plain": [
       "(11, 22, 33, 44)"
      ]
     },
     "execution_count": 23,
     "metadata": {},
     "output_type": "execute_result"
    }
   ],
   "source": [
    "list1 = [11, 22, 33, 44]\n",
    "tuple6 = tuple(list1)\n",
    "tuple6"
   ]
  },
  {
   "cell_type": "code",
   "execution_count": 28,
   "id": "d0b0a648",
   "metadata": {},
   "outputs": [
    {
     "name": "stdout",
     "output_type": "stream",
     "text": [
      "('1', 1)\n",
      "('0', 9)\n",
      "('1', 8)\n",
      "('2', 7)\n",
      "('3', 6)\n",
      "('4', 5)\n",
      "('5', 4)\n",
      "('6', 3)\n",
      "('7', 2)\n",
      "('8', 1)\n",
      "('9', 1)\n",
      "<class 'tuple'>\n",
      "9\n",
      "1\n"
     ]
    }
   ],
   "source": [
    "# zip two variable, tuple type\n",
    "\n",
    "newid = '10123456789'\n",
    "weight = [1,9,8,7,6,5,4,3,2,1,1]\n",
    "\n",
    "for apair in zip(newid, weight):\n",
    "    print(apair)\n",
    "    \n",
    "print(type(apair))\n",
    "print(apair[0])\n",
    "print(apair[1])"
   ]
  },
  {
   "cell_type": "markdown",
   "id": "7fb17701",
   "metadata": {},
   "source": [
    "# The Lambda Operatoor"
   ]
  },
  {
   "cell_type": "code",
   "execution_count": null,
   "id": "b88baab2",
   "metadata": {},
   "outputs": [],
   "source": []
  }
 ],
 "metadata": {
  "kernelspec": {
   "display_name": "Python 3",
   "language": "python",
   "name": "python3"
  },
  "language_info": {
   "codemirror_mode": {
    "name": "ipython",
    "version": 3
   },
   "file_extension": ".py",
   "mimetype": "text/x-python",
   "name": "python",
   "nbconvert_exporter": "python",
   "pygments_lexer": "ipython3",
   "version": "3.8.8"
  }
 },
 "nbformat": 4,
 "nbformat_minor": 5
}
