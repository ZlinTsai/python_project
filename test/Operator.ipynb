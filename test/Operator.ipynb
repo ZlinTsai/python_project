{
 "cells": [
  {
   "cell_type": "markdown",
   "id": "2b809eef",
   "metadata": {},
   "source": [
    "# 比較運算\n",
    "\n",
    "$>, <, >=, <=, ==, !=$\n",
    "\n",
    "object的比較，用$__gt__、__ge__、__lt__、__le__、__eq__ 或 __comp__$ 等方法如何實作，參考class的作法"
   ]
  },
  {
   "cell_type": "code",
   "execution_count": 12,
   "id": "1a1eb1fb",
   "metadata": {},
   "outputs": [
    {
     "name": "stdout",
     "output_type": "stream",
     "text": [
      "a = 1\n",
      "b = 2\n",
      "a == b:  False\n",
      "a != b:  True\n",
      "a >= b:  False\n",
      "a <= b:  True\n",
      "a > b:  False\n",
      "a < b:  True\n"
     ]
    }
   ],
   "source": [
    "a = 1\n",
    "b = 2\n",
    "print(\"a =\", a)\n",
    "print(\"b =\", b)\n",
    "print(\"a == b: \", a == b)\n",
    "print(\"a != b: \", a != b)\n",
    "print(\"a >= b: \", a >= b)\n",
    "print(\"a <= b: \", a <= b)\n",
    "print(\"a > b: \", a > b)\n",
    "print(\"a < b: \", a < b)"
   ]
  },
  {
   "cell_type": "markdown",
   "id": "57266ef9",
   "metadata": {},
   "source": [
    "## 可應用在 set dict"
   ]
  },
  {
   "cell_type": "code",
   "execution_count": 36,
   "id": "1954be1c",
   "metadata": {},
   "outputs": [
    {
     "name": "stdout",
     "output_type": "stream",
     "text": [
      "set1 & set2：{'BB', 'DD', 'CC', 'AA'}\n",
      "set1 - set2：set()\n",
      "set1 | set2：{'DD', 'CC', 'KK', 'BB', 'GG', 'AA'}\n",
      "set1 ^ set2：{'KK', 'GG'}\n",
      "set1 > set2？False\n",
      "set1 < set2？True\n",
      "set1 == set2？False\n"
     ]
    }
   ],
   "source": [
    "set1 = {\"AA\", \"BB\", \"CC\", \"DD\"}\n",
    "set2 = {\"AA\", \"BB\", \"CC\", \"DD\", \"GG\", \"KK\"}\n",
    "\n",
    "print('set1 & set2：{}'.format(set1 & set2))\n",
    "print('set1 - set2：{}'.format(set1 - set2)) # null\n",
    "print('set1 | set2：{}'.format(set1 | set2))\n",
    "print('set1 ^ set2：{}'.format(set1 ^ set2))\n",
    "\n",
    "print('set1 > set2？{}'.format(set1 > set2)) # set1 包括 set2\n",
    "print('set1 < set2？{}'.format(set1 < set2)) # set2 包括 set1\n",
    "print('set1 == set2？{}'.format(set1 == set2))"
   ]
  },
  {
   "cell_type": "markdown",
   "id": "2d68bf23",
   "metadata": {},
   "source": [
    "# 邏輯運算\n",
    "\n",
    "and,\n",
    "or,\n",
    "not"
   ]
  },
  {
   "cell_type": "code",
   "execution_count": 16,
   "id": "d17502e1",
   "metadata": {},
   "outputs": [
    {
     "name": "stdout",
     "output_type": "stream",
     "text": [
      "True and True: True\n",
      "True and False: False\n",
      "True or True: True\n",
      "True or False: True\n"
     ]
    }
   ],
   "source": [
    "print(\"True and True:\", True and True)\n",
    "print(\"True and False:\", True and False)\n",
    "print(\"True or True:\", True or True)\n",
    "print(\"True or False:\", True or False)"
   ]
  },
  {
   "cell_type": "markdown",
   "id": "b45a48de",
   "metadata": {},
   "source": [
    "# 位元運算\n",
    "\n",
    "and,\n",
    "or,\n",
    "not"
   ]
  },
  {
   "cell_type": "code",
   "execution_count": 19,
   "id": "493e9cc2",
   "metadata": {},
   "outputs": [
    {
     "name": "stdout",
     "output_type": "stream",
     "text": [
      "AND運算：\n",
      "0 & 0 =     0\n",
      "0 & 1 =     0\n",
      "1 & 0 =     0\n",
      "1 & 1 =     1\n",
      "\n",
      "OR運算：\n",
      "0 | 0 =      0\n",
      "0 | 1 =      1\n",
      "1 | 0 =      1\n",
      "1 | 1 =      1\n",
      "\n",
      "XOR運算：\n",
      "0 ^ 0 =     0\n",
      "0 ^ 1 =     1\n",
      "1 ^ 0 =     1\n",
      "1 ^ 1 =     0\n"
     ]
    }
   ],
   "source": [
    "print('AND運算：')\n",
    "print('0 & 0 = {:5d}'.format(0 & 0))\n",
    "print('0 & 1 = {:5d}'.format(0 & 1))\n",
    "print('1 & 0 = {:5d}'.format(1 & 0))\n",
    "print('1 & 1 = {:5d}'.format(1 & 1))\n",
    "\n",
    "print('\\nOR運算：')\n",
    "print('0 | 0 = {:6d}'.format(0 | 0))\n",
    "print('0 | 1 = {:6d}'.format(0 | 1))\n",
    "print('1 | 0 = {:6d}'.format(1 | 0))\n",
    "print('1 | 1 = {:6d}'.format(1 | 1))\n",
    "\n",
    "print('\\nXOR運算：')\n",
    "print('0 ^ 0 = {:5d}'.format(0 ^ 0))\n",
    "print('0 ^ 1 = {:5d}'.format(0 ^ 1))\n",
    "print('1 ^ 0 = {:5d}'.format(1 ^ 0))\n",
    "print('1 ^ 1 = {:5d}'.format(1 ^ 1))"
   ]
  },
  {
   "cell_type": "markdown",
   "id": "32998928",
   "metadata": {},
   "source": [
    "#  bit\n",
    "\n",
    "### and\n",
    "0000 & 0001 = 0000\n",
    "\n",
    "### or\n",
    "0000 | 0001 = 0001\n",
    "\n",
    "### xor\n",
    "0000 ^ 0001 = 1110"
   ]
  },
  {
   "cell_type": "code",
   "execution_count": 26,
   "id": "259c467c",
   "metadata": {},
   "outputs": [
    {
     "data": {
      "text/plain": [
       "1"
      ]
     },
     "execution_count": 26,
     "metadata": {},
     "output_type": "execute_result"
    }
   ],
   "source": [
    "a = 0b0001\n",
    "a"
   ]
  },
  {
   "cell_type": "code",
   "execution_count": 27,
   "id": "bcbfa006",
   "metadata": {},
   "outputs": [
    {
     "name": "stdout",
     "output_type": "stream",
     "text": [
      "1 << 0 = 1 (0b1)\n",
      "1 << 1 = 2 (0b10)\n",
      "1 << 2 = 4 (0b100)\n",
      "1 << 3 = 8 (0b1000)\n",
      "1 << 4 = 16 (0b10000)\n",
      "1 << 5 = 32 (0b100000)\n",
      "1 << 6 = 64 (0b1000000)\n",
      "1 << 7 = 128 (0b10000000)\n",
      "1 << 8 = 256 (0b100000000)\n",
      "1 << 9 = 512 (0b1000000000)\n",
      "1 << 10 = 1024 (0b10000000000)\n"
     ]
    }
   ],
   "source": [
    "# 1 = 0b0001\n",
    "\n",
    "for i in range(11):\n",
    "    print(\"1 << %d = %d (%s)\" %(i, 1 << i, bin(1 << i)))"
   ]
  },
  {
   "cell_type": "code",
   "execution_count": 30,
   "id": "68b99ac4",
   "metadata": {},
   "outputs": [
    {
     "name": "stdout",
     "output_type": "stream",
     "text": [
      "1 << 0 = 1234 (0b10000000000)\n",
      "1 << 1 = 617 (0b1000000000)\n",
      "1 << 2 = 308 (0b100000000)\n",
      "1 << 3 = 154 (0b10000000)\n",
      "1 << 4 = 77 (0b1000000)\n",
      "1 << 5 = 38 (0b100000)\n",
      "1 << 6 = 19 (0b10000)\n",
      "1 << 7 = 9 (0b1000)\n",
      "1 << 8 = 4 (0b100)\n",
      "1 << 9 = 2 (0b10)\n",
      "1 << 10 = 1 (0b1)\n"
     ]
    }
   ],
   "source": [
    "for i in range(11):\n",
    "    print(\"1 << %d = %d (%s)\" %(i, 1234 >> i, bin(1024 >> i)))"
   ]
  },
  {
   "cell_type": "code",
   "execution_count": 5,
   "id": "e1bd1683",
   "metadata": {},
   "outputs": [
    {
     "data": {
      "text/plain": [
       "255"
      ]
     },
     "execution_count": 5,
     "metadata": {},
     "output_type": "execute_result"
    }
   ],
   "source": [
    "int('0xff',16)"
   ]
  },
  {
   "cell_type": "code",
   "execution_count": 6,
   "id": "bf9674c8",
   "metadata": {},
   "outputs": [
    {
     "data": {
      "text/plain": [
       "912764078414"
      ]
     },
     "execution_count": 6,
     "metadata": {},
     "output_type": "execute_result"
    }
   ],
   "source": [
    "int('d484fa894e',16)"
   ]
  },
  {
   "cell_type": "code",
   "execution_count": 23,
   "id": "4ed84812",
   "metadata": {},
   "outputs": [
    {
     "name": "stdout",
     "output_type": "stream",
     "text": [
      "-8\n",
      "7\n"
     ]
    }
   ],
   "source": [
    "val1 = -0b1000\n",
    "print(val1)\n",
    "print(~val1) # -0b 1000 -> +0b 0111 "
   ]
  },
  {
   "cell_type": "code",
   "execution_count": 25,
   "id": "61792beb",
   "metadata": {},
   "outputs": [
    {
     "data": {
      "text/plain": [
       "'-0b1001'"
      ]
     },
     "execution_count": 25,
     "metadata": {},
     "output_type": "execute_result"
    }
   ],
   "source": [
    "bin(-9)"
   ]
  },
  {
   "cell_type": "code",
   "execution_count": 26,
   "id": "8e649f3e",
   "metadata": {},
   "outputs": [
    {
     "data": {
      "text/plain": [
       "str"
      ]
     },
     "execution_count": 26,
     "metadata": {},
     "output_type": "execute_result"
    }
   ],
   "source": [
    "type(bin(-9))"
   ]
  }
 ],
 "metadata": {
  "kernelspec": {
   "display_name": "Python 3",
   "language": "python",
   "name": "python3"
  },
  "language_info": {
   "codemirror_mode": {
    "name": "ipython",
    "version": 3
   },
   "file_extension": ".py",
   "mimetype": "text/x-python",
   "name": "python",
   "nbconvert_exporter": "python",
   "pygments_lexer": "ipython3",
   "version": "3.8.8"
  }
 },
 "nbformat": 4,
 "nbformat_minor": 5
}
