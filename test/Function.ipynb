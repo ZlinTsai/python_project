{
 "cells": [
  {
   "cell_type": "markdown",
   "id": "57abb66e",
   "metadata": {},
   "source": [
    "# Python is call by Assignment  \n",
    "\n",
    " * if parameter is value -> call by value\n",
    "\n",
    " * if parameter is object -> call by reference"
   ]
  },
  {
   "cell_type": "code",
   "execution_count": 4,
   "id": "ad821637",
   "metadata": {},
   "outputs": [],
   "source": [
    "class car():\n",
    "    w = 0;\n",
    "    "
   ]
  },
  {
   "cell_type": "code",
   "execution_count": 13,
   "id": "ec09f386",
   "metadata": {},
   "outputs": [
    {
     "name": "stdout",
     "output_type": "stream",
     "text": [
      "1\n"
     ]
    }
   ],
   "source": [
    "car()\n",
    "car.w = 1\n",
    "\n",
    "print(car.w)\n",
    "\n",
    "def test(a, b):\n",
    "    a.w = 2\n",
    "    b = 3"
   ]
  },
  {
   "cell_type": "code",
   "execution_count": 14,
   "id": "41ec3ee4",
   "metadata": {},
   "outputs": [
    {
     "name": "stdout",
     "output_type": "stream",
     "text": [
      "2 0\n"
     ]
    }
   ],
   "source": [
    "testb = 0\n",
    "test(car, testb)\n",
    "\n",
    "print(car.w, testb)\n",
    "\n",
    "# in this case car is mutable object\n",
    "\n",
    "# mutable   : list, dict, set, byte-array, user-defined class\n",
    "# immutable : string, int, float, bool, tuple, range, bytes..."
   ]
  },
  {
   "cell_type": "markdown",
   "id": "3ea14929",
   "metadata": {},
   "source": [
    "## Recursion for factorial function"
   ]
  },
  {
   "cell_type": "code",
   "execution_count": 21,
   "id": "d5e6ac37",
   "metadata": {},
   "outputs": [],
   "source": [
    "def factorial(n):\n",
    "    \n",
    "    # check n is > 0\n",
    "    if (n < 0):\n",
    "        print(\"Error n < 0!!!\")\n",
    "        return None\n",
    "    \n",
    "    if (n <= 1):\n",
    "        return 1\n",
    "    else:\n",
    "        result = n * factorial(n-1)\n",
    "        return result"
   ]
  },
  {
   "cell_type": "code",
   "execution_count": 23,
   "id": "9973b556",
   "metadata": {},
   "outputs": [
    {
     "data": {
      "text/plain": [
       "3.75"
      ]
     },
     "execution_count": 23,
     "metadata": {},
     "output_type": "execute_result"
    }
   ],
   "source": [
    "factorial(2.5)"
   ]
  },
  {
   "cell_type": "markdown",
   "id": "c76392e0",
   "metadata": {},
   "source": [
    "# Function \n",
    "\n",
    "* 函式(Function)結構\n",
    "* 函式(Function)參數\n",
    "* 函式(Function) \\*args、\\**kwargs運算子\n",
    "* 函式(Function)種類\n",
    "* 函式(Function)變數範圍(Scope)"
   ]
  },
  {
   "cell_type": "code",
   "execution_count": 1,
   "id": "ed556821",
   "metadata": {},
   "outputs": [
    {
     "data": {
      "text/plain": [
       "15"
      ]
     },
     "execution_count": 1,
     "metadata": {},
     "output_type": "execute_result"
    }
   ],
   "source": [
    "# 函式(Function)結構\n",
    "\n",
    "def twoSum(a, b):\n",
    "    return a + b\n",
    "\n",
    "twoSum(8, 7)"
   ]
  },
  {
   "cell_type": "markdown",
   "id": "7aba7742",
   "metadata": {},
   "source": [
    "### 函式(Function)參數(Argument) => a and b\n",
    "\n",
    "Argument => a and b\n",
    "\n",
    "Parameter => 8 and 7"
   ]
  },
  {
   "cell_type": "code",
   "execution_count": 5,
   "id": "16fc5843",
   "metadata": {},
   "outputs": [
    {
     "name": "stdout",
     "output_type": "stream",
     "text": [
      "value1: 7 \t value2: 8\n"
     ]
    },
    {
     "data": {
      "text/plain": [
       "15"
      ]
     },
     "execution_count": 5,
     "metadata": {},
     "output_type": "execute_result"
    }
   ],
   "source": [
    "# 關鍵字參數(Keyword Argument)\n",
    "\n",
    "def twoSum(value1, value2):\n",
    "    print(f\"value1: {value1} \\t value2: {value2}\")\n",
    "    return value1 + value2\n",
    "\n",
    "twoSum(value2=8,  value1=7)"
   ]
  },
  {
   "cell_type": "code",
   "execution_count": 6,
   "id": "3cb9cf45",
   "metadata": {},
   "outputs": [
    {
     "name": "stdout",
     "output_type": "stream",
     "text": [
      "value1: 0 \t value2: 0\n"
     ]
    },
    {
     "data": {
      "text/plain": [
       "0"
      ]
     },
     "execution_count": 6,
     "metadata": {},
     "output_type": "execute_result"
    }
   ],
   "source": [
    "# 預設值參數(Default Argument)\n",
    "\n",
    "def twoSum(value1=0, value2=0):\n",
    "    print(f\"value1: {value1} \\t value2: {value2}\")\n",
    "    return value1 + value2\n",
    "\n",
    "twoSum()"
   ]
  },
  {
   "cell_type": "markdown",
   "id": "b6e7f9ab",
   "metadata": {},
   "source": [
    "## 函式(Function) \\*args、\\**kwargs運算子\n",
    "\n",
    "當我們要傳入大量的參數時，在函式上定義過多的參數名稱會讓程式碼的可讀性降低，這時候就可以使用 * 符號來將傳入參數進行打包\n",
    "\n",
    "提供兩種打包型態:\n",
    "\n",
    "    1. tuple => like list but immutable\n",
    "    2. dict  => more convenient via using key and value"
   ]
  },
  {
   "cell_type": "code",
   "execution_count": 19,
   "id": "6acabde2",
   "metadata": {},
   "outputs": [
    {
     "name": "stdout",
     "output_type": "stream",
     "text": [
      "('apple', 'banana', 'cake', 4, 5.5, 6.78, 7, '8')\n"
     ]
    }
   ],
   "source": [
    "# Tuple 打包 (immutable input)\n",
    "def app_log(*info):\n",
    "    print(info)\n",
    "    #info[1] = \"change!!!\" # error 'tuple' object does not support item assignment\n",
    "    \n",
    "app_log(\"apple\", \"banana\", \"cake\", 4, 5.5, 6.78, 7, \"8\")"
   ]
  },
  {
   "cell_type": "code",
   "execution_count": 20,
   "id": "406fa1e0",
   "metadata": {},
   "outputs": [
    {
     "name": "stdout",
     "output_type": "stream",
     "text": [
      "{'a': 'test', 'b': 'banana', 'c': 'cake', 'd': 4, 'e': 5.5, 'f': 6.78, 'g': 7, 'h': '8'}\n",
      "{'a': 'change!!!', 'b': 'banana', 'c': 'cake', 'd': 4, 'e': 5.5, 'f': 6.78, 'g': 7, 'h': '8'}\n"
     ]
    }
   ],
   "source": [
    "# dictionary 打包 (mutable input)\n",
    "def app_log(**info):\n",
    "    print(info)\n",
    "    info[\"a\"] = \"change!!!\"\n",
    "    print(info)\n",
    "    \n",
    "x = \"test\"\n",
    "app_log(a=x, b=\"banana\", c=\"cake\", d=4, e=5.5, f=6.78, g=7, h=\"8\")"
   ]
  },
  {
   "cell_type": "code",
   "execution_count": 21,
   "id": "282b7e10",
   "metadata": {},
   "outputs": [
    {
     "name": "stdout",
     "output_type": "stream",
     "text": [
      "test\n"
     ]
    }
   ],
   "source": [
    "print(x)"
   ]
  },
  {
   "cell_type": "code",
   "execution_count": 29,
   "id": "554da5eb",
   "metadata": {},
   "outputs": [
    {
     "name": "stdout",
     "output_type": "stream",
     "text": [
      "{'a': 'test', 'b': 'banana', 'c': 'cake', 'd': 4, 'e': 5.5, 'f': 6.78, 'g': 7, 'h': '8'}\n",
      "{'a': 'test', 'b': 'banana', 'c': 'cake', 'd': 4, 'e': 5.5, 'f': 6.78, 'g': 7, 'h': '8'}\n",
      "{'a': 'change!!!', 'b': 'banana', 'c': 'cake', 'd': 4, 'e': 5.5, 'f': 6.78, 'g': 7, 'h': '8'}\n",
      "{'a': 'change!!!', 'b': 'banana', 'c': 'cake', 'd': 4, 'e': 5.5, 'f': 6.78, 'g': 7, 'h': '8'}\n"
     ]
    }
   ],
   "source": [
    "def app_log(info):\n",
    "    print(info)\n",
    "    info[\"a\"] = \"change!!!\"\n",
    "    print(info)\n",
    "\n",
    "test = {\"a\":\"test\", \"b\":\"banana\", \"c\":\"cake\", \"d\":4, \"e\":5.5, \"f\":6.78, \"g\":7, \"h\":\"8\"}\n",
    "\n",
    "print(test)\n",
    "app_log(test)\n",
    "print(test)"
   ]
  },
  {
   "cell_type": "code",
   "execution_count": 40,
   "id": "6f26ec4d",
   "metadata": {},
   "outputs": [
    {
     "name": "stdout",
     "output_type": "stream",
     "text": [
      "[0. 0. 0. 0. 0. 0. 0. 0. 0. 0. 0. 0. 0. 0. 0. 0. 0.]\n",
      "[1. 1. 1. 1. 1. 1. 1. 1. 1. 1. 1. 1. 1. 1. 1. 1. 1.]\n"
     ]
    }
   ],
   "source": [
    "import numpy as np\n",
    "\n",
    "# class + mutual / immutual testing\n",
    "\n",
    "class MTFdata():\n",
    "    \n",
    "    def __init__(self, numCam=17, linePair=110):\n",
    "        self.value_S = np.zeros(numCam)\n",
    "        self.value_T = np.zeros(numCam)\n",
    "        self.linePair = linePair\n",
    "        \n",
    "    def dataAdd1_inside(self):\n",
    "        self.value_S = self.value_S + 1\n",
    "        self.value_T = self.value_T + 1\n",
    "\n",
    "def dataAdd1(data):\n",
    "    if (isinstance(data, MTFdata)):\n",
    "        data.value_S = data.value_S + 1\n",
    "        data.value_T = data.value_T + 1\n",
    "        \n",
    "data = MTFdata()\n",
    "print(data.value_S)\n",
    "\n",
    "dataAdd1(data)\n",
    "print(data.value_S)"
   ]
  },
  {
   "cell_type": "code",
   "execution_count": 41,
   "id": "5bd65610",
   "metadata": {},
   "outputs": [
    {
     "name": "stdout",
     "output_type": "stream",
     "text": [
      "[2. 2. 2. 2. 2. 2. 2. 2. 2. 2. 2. 2. 2. 2. 2. 2. 2.]\n"
     ]
    }
   ],
   "source": [
    "data.dataAdd1_inside()\n",
    "print(data.value_S)"
   ]
  },
  {
   "cell_type": "code",
   "execution_count": 5,
   "id": "7de3c7ab",
   "metadata": {},
   "outputs": [
    {
     "name": "stdout",
     "output_type": "stream",
     "text": [
      "請求 https://openhome.cc\n",
      "設定 {'method': 'POST', 'contents': 'book=python', 'datatype': 'no-find'}\n",
      "請求 https://openhome.cc2\n",
      "設定 {'method': 'no-find', 'contents': 'no-find', 'datatype': 'no-find'}\n"
     ]
    }
   ],
   "source": [
    "def ajax(url, **user_settings):\n",
    "    settings = {\n",
    "        'method' : user_settings.get('method', 'no-find'),\n",
    "        'contents' : user_settings.get('contents', 'no-find'),\n",
    "        'datatype' : user_settings.get('datatype', 'no-find'),\n",
    "        # 其他設定 ...\n",
    "    }\n",
    "    print('請求 {}'.format(url))\n",
    "    print('設定 {}'.format(settings))\n",
    "\n",
    "ajax('https://openhome.cc', method = 'POST', contents = 'book=python')\n",
    "\n",
    "\n",
    "my_settings = {'method2' : 'POST2', 'contents2' : 'book=python'}\n",
    "ajax('https://openhome.cc2', **my_settings)"
   ]
  },
  {
   "cell_type": "markdown",
   "id": "cc2725ae",
   "metadata": {},
   "source": [
    "# 如果argunment 是 mutable object 就可以改變"
   ]
  },
  {
   "cell_type": "markdown",
   "id": "ed582eb9",
   "metadata": {},
   "source": [
    "### 函式(Function) return\n",
    "\n",
    "有return: return ans\n",
    "\n",
    "沒return: return None <- python 自動預設"
   ]
  },
  {
   "cell_type": "code",
   "execution_count": 46,
   "id": "03470192",
   "metadata": {},
   "outputs": [
    {
     "data": {
      "text/plain": [
       "24"
      ]
     },
     "execution_count": 46,
     "metadata": {},
     "output_type": "execute_result"
    }
   ],
   "source": [
    "## scope of variable\n",
    "x = 3\n",
    "\n",
    "def add3(value):\n",
    "    x = 20\n",
    "    return value + x\n",
    "\n",
    "add3(4)"
   ]
  },
  {
   "cell_type": "code",
   "execution_count": 47,
   "id": "002b718b",
   "metadata": {},
   "outputs": [
    {
     "name": "stdout",
     "output_type": "stream",
     "text": [
      "3\n"
     ]
    }
   ],
   "source": [
    "print(x)"
   ]
  },
  {
   "cell_type": "code",
   "execution_count": 50,
   "id": "c0d954c4",
   "metadata": {},
   "outputs": [
    {
     "data": {
      "text/plain": [
       "24"
      ]
     },
     "execution_count": 50,
     "metadata": {},
     "output_type": "execute_result"
    }
   ],
   "source": [
    "x = 3\n",
    "\n",
    "def add3(value):\n",
    "    global x\n",
    "    x = 20\n",
    "    return value + x\n",
    "\n",
    "add3(4)"
   ]
  },
  {
   "cell_type": "code",
   "execution_count": 49,
   "id": "f20d78a2",
   "metadata": {},
   "outputs": [
    {
     "name": "stdout",
     "output_type": "stream",
     "text": [
      "20\n"
     ]
    }
   ],
   "source": [
    "print(x)"
   ]
  },
  {
   "cell_type": "markdown",
   "id": "92a1c9ff",
   "metadata": {},
   "source": [
    "### 補充 Python3.8: Positional-Only Parameters\n",
    "\n",
    "想要某一個參數，一定要key-word or position方式進行引述傳遞，在定義參數列時可以使用 / or * 標示\n",
    "\n",
    "/ 前的參數，不能採用關鍵字參數的形式來指定，對維護會有些幫助，因為你或許會有些參數名稱，不想成為API的一部份，就可以定義在 / 之前。\n",
    "\n",
    "相對地，某些參數的值，也許想限定為只能以關鍵字參數形式指定，這時可以在參數列使用 * 來標示\n",
    "\n",
    "定義參數列時，/ 與 * 可以併並存，/ 之後 * 之前的參數，可以使用位置參數或關鍵字參數形式指定"
   ]
  },
  {
   "cell_type": "code",
   "execution_count": 14,
   "id": "1f4dbaae",
   "metadata": {},
   "outputs": [],
   "source": [
    "def POPtest(a, b, /, c, d, *, e, f):\n",
    "    print('a =', a)\n",
    "    print('b =', b)\n",
    "    print('c =', c)\n",
    "    print('d =', d)\n",
    "    print('e =', e)\n",
    "    print('f =', f)"
   ]
  },
  {
   "cell_type": "code",
   "execution_count": 15,
   "id": "26538508",
   "metadata": {},
   "outputs": [
    {
     "ename": "TypeError",
     "evalue": "POPtest() got some positional-only arguments passed as keyword arguments: 'a, b'",
     "output_type": "error",
     "traceback": [
      "\u001b[0;31m---------------------------------------------------------------------------\u001b[0m",
      "\u001b[0;31mTypeError\u001b[0m                                 Traceback (most recent call last)",
      "\u001b[0;32m<ipython-input-15-b1220c4e0c12>\u001b[0m in \u001b[0;36m<module>\u001b[0;34m\u001b[0m\n\u001b[0;32m----> 1\u001b[0;31m \u001b[0mPOPtest\u001b[0m\u001b[0;34m(\u001b[0m\u001b[0ma\u001b[0m\u001b[0;34m=\u001b[0m\u001b[0;36m1\u001b[0m\u001b[0;34m,\u001b[0m \u001b[0mb\u001b[0m\u001b[0;34m=\u001b[0m\u001b[0;36m2\u001b[0m\u001b[0;34m,\u001b[0m \u001b[0mc\u001b[0m\u001b[0;34m=\u001b[0m\u001b[0;36m3\u001b[0m\u001b[0;34m,\u001b[0m \u001b[0md\u001b[0m\u001b[0;34m=\u001b[0m\u001b[0;36m4\u001b[0m\u001b[0;34m,\u001b[0m \u001b[0me\u001b[0m\u001b[0;34m=\u001b[0m\u001b[0;36m5\u001b[0m\u001b[0;34m,\u001b[0m \u001b[0mf\u001b[0m\u001b[0;34m=\u001b[0m\u001b[0;36m6\u001b[0m\u001b[0;34m)\u001b[0m\u001b[0;34m\u001b[0m\u001b[0;34m\u001b[0m\u001b[0m\n\u001b[0m",
      "\u001b[0;31mTypeError\u001b[0m: POPtest() got some positional-only arguments passed as keyword arguments: 'a, b'"
     ]
    }
   ],
   "source": [
    "POPtest(a=1, b=2, c=3, d=4, e=5, f=6)"
   ]
  },
  {
   "cell_type": "code",
   "execution_count": 16,
   "id": "e00f83f8",
   "metadata": {},
   "outputs": [
    {
     "name": "stdout",
     "output_type": "stream",
     "text": [
      "a = 1\n",
      "b = 2\n",
      "c = 3\n",
      "d = 4\n",
      "e = 5\n",
      "f = 6\n"
     ]
    }
   ],
   "source": [
    "## a, b只能放在1, 2位\n",
    "POPtest(1, 2, c=3, d=4, e=5, f=6)"
   ]
  },
  {
   "cell_type": "code",
   "execution_count": 17,
   "id": "0d756f27",
   "metadata": {},
   "outputs": [
    {
     "ename": "SyntaxError",
     "evalue": "positional argument follows keyword argument (<ipython-input-17-f8780df29870>, line 2)",
     "output_type": "error",
     "traceback": [
      "\u001b[0;36m  File \u001b[0;32m\"<ipython-input-17-f8780df29870>\"\u001b[0;36m, line \u001b[0;32m2\u001b[0m\n\u001b[0;31m    POPtest(1, 2, c=3, d=4, 5, 6)\u001b[0m\n\u001b[0m                            ^\u001b[0m\n\u001b[0;31mSyntaxError\u001b[0m\u001b[0;31m:\u001b[0m positional argument follows keyword argument\n"
     ]
    }
   ],
   "source": [
    "## e, f只能用key-word\n",
    "POPtest(1, 2, c=3, d=4, 5, 6)"
   ]
  },
  {
   "cell_type": "code",
   "execution_count": null,
   "id": "93eefd11",
   "metadata": {},
   "outputs": [],
   "source": []
  }
 ],
 "metadata": {
  "kernelspec": {
   "display_name": "Python 3",
   "language": "python",
   "name": "python3"
  },
  "language_info": {
   "codemirror_mode": {
    "name": "ipython",
    "version": 3
   },
   "file_extension": ".py",
   "mimetype": "text/x-python",
   "name": "python",
   "nbconvert_exporter": "python",
   "pygments_lexer": "ipython3",
   "version": "3.8.8"
  }
 },
 "nbformat": 4,
 "nbformat_minor": 5
}
