{
 "cells": [
  {
   "cell_type": "code",
   "execution_count": 29,
   "id": "969495b4",
   "metadata": {},
   "outputs": [
    {
     "name": "stdout",
     "output_type": "stream",
     "text": [
      "Number of jobs: 10\n",
      "Number of machine: 3\n",
      "List of Processing time: 3,8,3,7,3,4,6,4,5,5\n",
      "Job assignment:  [1, 2, 3, 1, 2, 3, 1, 2, 3, 1]\n",
      "Machine loading:  [21, 15, 12]\n"
     ]
    }
   ],
   "source": [
    "# LPT (Longest Processing time Frist) a kind of greedy algorithm\n",
    "\n",
    "n = int(input(\"Number of jobs: \"))\n",
    "m = int(input(\"Number of machine: \"))\n",
    "t = input(\"List of Processing time: \")\n",
    "\n",
    "processTime = t.split(',')\n",
    "for j in range(n):\n",
    "    processTime[j] = int(processTime[j])\n",
    "\n",
    "# machine comletion times\n",
    "\n",
    "loads = [0]*m\n",
    "assignment = [0]*n\n",
    "indexMachine = 0\n",
    "\n",
    "# in iteration j, assign job j to least loaded machine\n",
    "for j in range(n):\n",
    "    \n",
    "    assignment[j] = indexMachine + 1 # to real machine number\n",
    "    loads[indexMachine] += processTime[j]\n",
    "    \n",
    "    # assign to next machine\n",
    "    indexMachine += 1\n",
    "    if (indexMachine >= m):\n",
    "        indexMachine = 0\n",
    "    \n",
    "# result\n",
    "print(\"Job assignment: \", assignment)\n",
    "print(\"Machine loading: \", loads)"
   ]
  },
  {
   "cell_type": "code",
   "execution_count": 30,
   "id": "1a26bbad",
   "metadata": {},
   "outputs": [
    {
     "name": "stdout",
     "output_type": "stream",
     "text": [
      "processTime:  [3, 3, 3, 4, 4, 5, 5, 6, 7, 8]\n",
      "Job assignment:  [1, 2, 3, 1, 2, 3, 1, 2, 3, 1]\n",
      "Machine loading:  [20, 13, 15]\n"
     ]
    }
   ],
   "source": [
    "# sort\n",
    "processTime.sort()\n",
    "print(\"processTime: \", processTime)\n",
    "\n",
    "loads = [0]*m\n",
    "assignment = [0]*n\n",
    "indexMachine = 0\n",
    "\n",
    "# in iteration j, assign job j to least loaded machine\n",
    "for j in range(n):\n",
    "    \n",
    "    assignment[j] = indexMachine + 1 # to real machine number\n",
    "    loads[indexMachine] += processTime[j]\n",
    "    \n",
    "    # assign to next machine\n",
    "    indexMachine += 1\n",
    "    if (indexMachine >= m):\n",
    "        indexMachine = 0\n",
    "    \n",
    "# result\n",
    "print(\"Job assignment: \", assignment)\n",
    "print(\"Machine loading: \", loads)"
   ]
  },
  {
   "cell_type": "code",
   "execution_count": 33,
   "id": "fd9e2318",
   "metadata": {},
   "outputs": [
    {
     "data": {
      "text/plain": [
       "1"
      ]
     },
     "execution_count": 33,
     "metadata": {},
     "output_type": "execute_result"
    }
   ],
   "source": [
    "loads.index(min(loads))"
   ]
  },
  {
   "cell_type": "code",
   "execution_count": 44,
   "id": "2ffc419a",
   "metadata": {},
   "outputs": [
    {
     "name": "stdout",
     "output_type": "stream",
     "text": [
      "processTime:  [8, 7, 6, 5, 5, 4, 4, 3, 3, 3]\n",
      "Job assignment:  [1, 2, 3, 3, 2, 1, 3, 1, 2, 1]\n",
      "Machine loading:  [18, 15, 15]\n"
     ]
    }
   ],
   "source": [
    "import numpy as np\n",
    "\n",
    "# optimalize\n",
    "n = 10\n",
    "m = 3\n",
    "t = [3,8,3,7,3,4,6,4,5,5]\n",
    "\n",
    "# sort\n",
    "processTime = t\n",
    "processTime.sort()\n",
    "processTime.reverse()\n",
    "print(\"processTime: \", processTime)\n",
    "\n",
    "loads = [0]*m\n",
    "assignment = [0]*n\n",
    "indexMachine = 0\n",
    "\n",
    "# in iteration j, assign job j to least loaded machine\n",
    "for j in range(n):\n",
    "    \n",
    "    # find least load machine\n",
    "    indexMachine = loads.index(min(loads))\n",
    "    \n",
    "    assignment[j] = indexMachine + 1 # to real machine number\n",
    "    loads[indexMachine] += processTime[j]\n",
    "\n",
    "    \n",
    "# result\n",
    "print(\"Job assignment: \", assignment)\n",
    "print(\"Machine loading: \", loads)"
   ]
  },
  {
   "cell_type": "code",
   "execution_count": 45,
   "id": "85591e90",
   "metadata": {},
   "outputs": [],
   "source": [
    "# Dynamical Problem"
   ]
  },
  {
   "cell_type": "code",
   "execution_count": null,
   "id": "e9024be2",
   "metadata": {},
   "outputs": [],
   "source": []
  }
 ],
 "metadata": {
  "kernelspec": {
   "display_name": "Python 3",
   "language": "python",
   "name": "python3"
  },
  "language_info": {
   "codemirror_mode": {
    "name": "ipython",
    "version": 3
   },
   "file_extension": ".py",
   "mimetype": "text/x-python",
   "name": "python",
   "nbconvert_exporter": "python",
   "pygments_lexer": "ipython3",
   "version": "3.8.8"
  }
 },
 "nbformat": 4,
 "nbformat_minor": 5
}
