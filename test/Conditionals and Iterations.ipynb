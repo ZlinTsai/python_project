{
 "cells": [
  {
   "cell_type": "markdown",
   "id": "16b77250",
   "metadata": {},
   "source": [
    "# The if Statement\n",
    "\n",
    "1. colon(:) is required\n",
    "2. one level of indention\n"
   ]
  },
  {
   "cell_type": "code",
   "execution_count": 6,
   "id": "574290e5",
   "metadata": {},
   "outputs": [
    {
     "name": "stdout",
     "output_type": "stream",
     "text": [
      "given a value, show it odd ort even.\n",
      "x=15\n",
      "x is odd\n"
     ]
    }
   ],
   "source": [
    "x = int(input(\"given a value, show it odd ort even.\\nx=\"))\n",
    "\n",
    "if (x < 0):\n",
    "    print(\"error: x < 0\")\n",
    "elif (x % 2 == 0):\n",
    "    print(\"x is even\")\n",
    "else:\n",
    "    print(\"x is odd\")"
   ]
  },
  {
   "cell_type": "markdown",
   "id": "814599d6",
   "metadata": {},
   "source": [
    "## Nested if-else statement\n",
    "\n",
    "        if condititon 1:\n",
    "            if condititon 2:\n",
    "            else:\n",
    "        else\n",
    "    "
   ]
  },
  {
   "cell_type": "markdown",
   "id": "797f9931",
   "metadata": {},
   "source": [
    "## The ternary if operator\n",
    "\n",
    "if at inline"
   ]
  },
  {
   "cell_type": "code",
   "execution_count": 8,
   "id": "8cf4e561",
   "metadata": {},
   "outputs": [
    {
     "name": "stdout",
     "output_type": "stream",
     "text": [
      "a:10\n",
      "b:5\n",
      "c:7\n",
      "min =  5\n"
     ]
    }
   ],
   "source": [
    "a = int(input(\"a:\"))\n",
    "b = int(input(\"b:\"))\n",
    "c = int(input(\"c:\"))\n",
    "if a <= b:\n",
    "    min = (a if (a <= c) else c)\n",
    "else:\n",
    "    min = (b if (b <= c) else c)\n",
    "    \n",
    "print(\"min = \", min)"
   ]
  },
  {
   "cell_type": "markdown",
   "id": "9f7a9caa",
   "metadata": {},
   "source": [
    "## Logical operator\n",
    "\n",
    "and\n",
    "or \n",
    "not\n",
    "\n",
    "high precedence operator"
   ]
  },
  {
   "cell_type": "code",
   "execution_count": 14,
   "id": "2194dfde",
   "metadata": {},
   "outputs": [
    {
     "name": "stdout",
     "output_type": "stream",
     "text": [
      "False\n",
      "True\n",
      "False\n",
      "True\n"
     ]
    }
   ],
   "source": [
    "print((3 > 2) and (8 < 7))\n",
    "print((3 > 2) or (8 < 7))\n",
    "print((8 < 7))\n",
    "print(not (8 < 7)) # !bool"
   ]
  },
  {
   "cell_type": "code",
   "execution_count": 17,
   "id": "b6c26abb",
   "metadata": {},
   "outputs": [
    {
     "name": "stdout",
     "output_type": "stream",
     "text": [
      "x:11\n"
     ]
    }
   ],
   "source": [
    "x = int(input(\"x:\"))\n",
    "if (not (x > 10)):\n",
    "    print(\"x < 10\")"
   ]
  },
  {
   "cell_type": "markdown",
   "id": "c7dbcd06",
   "metadata": {},
   "source": [
    "# Iteration\n",
    "\n",
    "1. whlie\n",
    "2. for loop"
   ]
  },
  {
   "cell_type": "markdown",
   "id": "28138fcd",
   "metadata": {},
   "source": [
    "## while\n",
    "\n",
    "condition needed"
   ]
  },
  {
   "cell_type": "code",
   "execution_count": 20,
   "id": "a1408d82",
   "metadata": {},
   "outputs": [
    {
     "name": "stdout",
     "output_type": "stream",
     "text": [
      "sum:  5050\n"
     ]
    }
   ],
   "source": [
    "sum = 0\n",
    "i = 1\n",
    "\n",
    "while (i <= 100):\n",
    "    sum = sum + i\n",
    "    i = i + 1\n",
    "    \n",
    "print(\"sum: \", sum)"
   ]
  },
  {
   "cell_type": "markdown",
   "id": "2b22ab8e",
   "metadata": {},
   "source": [
    "### Example \n",
    "Given an int n, is n = \\$2^k$ for some int k >= 0?"
   ]
  },
  {
   "cell_type": "code",
   "execution_count": 25,
   "id": "354a01a1",
   "metadata": {},
   "outputs": [
    {
     "name": "stdout",
     "output_type": "stream",
     "text": [
      "n = 1024\n",
      "1024 is 2 to the power of  10\n"
     ]
    }
   ],
   "source": [
    "n = int(input(\"n = \"))\n",
    "k = 0\n",
    "m = 1\n",
    "\n",
    "while (n > m):\n",
    "    m *= 2\n",
    "    k += 1\n",
    "\n",
    "if (m == n):\n",
    "    print(n, \"is 2 to the power of \", k)\n",
    "else:\n",
    "    print(\"Not\")"
   ]
  },
  {
   "cell_type": "markdown",
   "id": "e9efb183",
   "metadata": {},
   "source": [
    "## break and continue\n",
    "\n",
    "break: exit loop\n",
    "\n",
    "continue: jump this epoch into next epoch"
   ]
  },
  {
   "cell_type": "code",
   "execution_count": 27,
   "id": "3a102d51",
   "metadata": {},
   "outputs": [
    {
     "name": "stdout",
     "output_type": "stream",
     "text": [
      "n = 1024\n",
      "1024 is 2 to the power of  10\n"
     ]
    }
   ],
   "source": [
    "n = int(input(\"n = \"))\n",
    "k = 0\n",
    "m = n\n",
    "\n",
    "while (m > 1):\n",
    "    if ((m % 2) != 0):\n",
    "        break # optimalize speed\n",
    "    m //= 2\n",
    "    k += 1\n",
    "\n",
    "if (m == 1):\n",
    "    print(n, \"is 2 to the power of \", k)\n",
    "else:\n",
    "    print(\"Not\")"
   ]
  },
  {
   "cell_type": "code",
   "execution_count": 31,
   "id": "f1c72822",
   "metadata": {},
   "outputs": [
    {
     "name": "stdout",
     "output_type": "stream",
     "text": [
      "Press y exit code.\n",
      "t\n",
      "Press y exit code.\n",
      "r\n",
      "Press y exit code.\n",
      "\n",
      "Press y exit code.\n",
      "e\n",
      "Press y exit code.\n",
      "\n",
      "Press y exit code.\n",
      "y\n"
     ]
    }
   ],
   "source": [
    "# infinite loop\n",
    "\n",
    "while True:\n",
    "    exit = input(\"Press y exit code.\\n\")\n",
    "    if (exit == \"y\"):\n",
    "        break"
   ]
  },
  {
   "cell_type": "markdown",
   "id": "0b8ed8bf",
   "metadata": {},
   "source": [
    "## for loop"
   ]
  },
  {
   "cell_type": "code",
   "execution_count": 23,
   "id": "3bc9efef",
   "metadata": {},
   "outputs": [
    {
     "name": "stdout",
     "output_type": "stream",
     "text": [
      "sum:  5050\n"
     ]
    }
   ],
   "source": [
    "sum = 0\n",
    "i = 1\n",
    "for i in range(1, 101, 1):\n",
    "    sum += i\n",
    "    \n",
    "print(\"sum: \", sum)"
   ]
  },
  {
   "cell_type": "code",
   "execution_count": 32,
   "id": "7d0cbb46",
   "metadata": {},
   "outputs": [
    {
     "name": "stdout",
     "output_type": "stream",
     "text": [
      "1\n",
      "2\n",
      "False\n",
      "x\n"
     ]
    }
   ],
   "source": [
    "for i in [1, '2', False, 'x']:\n",
    "    print(i)"
   ]
  },
  {
   "cell_type": "code",
   "execution_count": 40,
   "id": "88bbc294",
   "metadata": {},
   "outputs": [
    {
     "name": "stdout",
     "output_type": "stream",
     "text": [
      "1 * 1 = 1\t1 * 2 = 2\t1 * 3 = 3\t1 * 4 = 4\t1 * 5 = 5\t1 * 6 = 6\t1 * 7 = 7\t1 * 8 = 8\t1 * 9 = 9\t\n",
      "\n",
      "2 * 1 = 2\t2 * 2 = 4\t2 * 3 = 6\t2 * 4 = 8\t2 * 5 = 10\t2 * 6 = 12\t2 * 7 = 14\t2 * 8 = 16\t2 * 9 = 18\t\n",
      "\n",
      "3 * 1 = 3\t3 * 2 = 6\t3 * 3 = 9\t3 * 4 = 12\t3 * 5 = 15\t3 * 6 = 18\t3 * 7 = 21\t3 * 8 = 24\t3 * 9 = 27\t\n",
      "\n",
      "4 * 1 = 4\t4 * 2 = 8\t4 * 3 = 12\t4 * 4 = 16\t4 * 5 = 20\t4 * 6 = 24\t4 * 7 = 28\t4 * 8 = 32\t4 * 9 = 36\t\n",
      "\n",
      "5 * 1 = 5\t5 * 2 = 10\t5 * 3 = 15\t5 * 4 = 20\t5 * 5 = 25\t5 * 6 = 30\t5 * 7 = 35\t5 * 8 = 40\t5 * 9 = 45\t\n",
      "\n",
      "6 * 1 = 6\t6 * 2 = 12\t6 * 3 = 18\t6 * 4 = 24\t6 * 5 = 30\t6 * 6 = 36\t6 * 7 = 42\t6 * 8 = 48\t6 * 9 = 54\t\n",
      "\n",
      "7 * 1 = 7\t7 * 2 = 14\t7 * 3 = 21\t7 * 4 = 28\t7 * 5 = 35\t7 * 6 = 42\t7 * 7 = 49\t7 * 8 = 56\t7 * 9 = 63\t\n",
      "\n",
      "8 * 1 = 8\t8 * 2 = 16\t8 * 3 = 24\t8 * 4 = 32\t8 * 5 = 40\t8 * 6 = 48\t8 * 7 = 56\t8 * 8 = 64\t8 * 9 = 72\t\n",
      "\n",
      "9 * 1 = 9\t9 * 2 = 18\t9 * 3 = 27\t9 * 4 = 36\t9 * 5 = 45\t9 * 6 = 54\t9 * 7 = 63\t9 * 8 = 72\t9 * 9 = 81\t\n",
      "\n"
     ]
    }
   ],
   "source": [
    "### Nested loops\n",
    "for x in range(1,10,1):\n",
    "    for y in range(1,10,1):\n",
    "        print(x, \"*\", y, \"=\", x*y, end=\"\\t\")\n",
    "    print(\"\\n\")"
   ]
  },
  {
   "cell_type": "markdown",
   "id": "afdd26f2",
   "metadata": {},
   "source": [
    "### Example: Monopoly pricing\n",
    "\n",
    "We sell a product to a small town\n",
    "\n",
    "The demand of this product is $q = a - bp$\n",
    " - a is the base demand\n",
    " - b measures the price sensitivity of the product\n",
    " - p is the unit price to be determinded\n",
    " \n",
    "Let $c$ be the unit production cost\n",
    "Given a, b, c, solve\n",
    "\n",
    "$$\n",
    "\\begin{aligned}\n",
    "\\underset{p}{max} (a -bp)(p-c)\n",
    "\\end{aligned}\n",
    "$$\n",
    "\n",
    "to find an optimal price $p^*$"
   ]
  },
  {
   "cell_type": "code",
   "execution_count": 44,
   "id": "3c615eb0",
   "metadata": {},
   "outputs": [
    {
     "name": "stdout",
     "output_type": "stream",
     "text": [
      "base demand = 10\n",
      "price sensitivity = 1\n",
      "unit cost = 3\n",
      "4 6\n",
      "5 10\n",
      "6 12\n",
      "7 12\n",
      "8 10\n",
      "9 6\n",
      "10 0\n",
      "optimalPrice =  6\n",
      "maxProfit =  12\n"
     ]
    }
   ],
   "source": [
    "a = int(input(\"base demand = \"))\n",
    "b = int(input(\"price sensitivity = \"))\n",
    "c = int(input(\"unit cost = \"))\n",
    "\n",
    "maxProfit = 0\n",
    "optimalPrice = 0\n",
    "for p in range(c + 1, a // b + 1):\n",
    "    profit = (a - b * p) * (p - c)\n",
    "    print(p, profit)\n",
    "    \n",
    "    if (profit > maxProfit):\n",
    "        maxProfit = profit\n",
    "        optimalPrice = p\n",
    "        \n",
    "print(\"optimalPrice = \", optimalPrice)\n",
    "print(\"maxProfit = \", maxProfit)"
   ]
  },
  {
   "cell_type": "code",
   "execution_count": null,
   "id": "c8a9f122",
   "metadata": {},
   "outputs": [],
   "source": []
  }
 ],
 "metadata": {
  "kernelspec": {
   "display_name": "Python 3",
   "language": "python",
   "name": "python3"
  },
  "language_info": {
   "codemirror_mode": {
    "name": "ipython",
    "version": 3
   },
   "file_extension": ".py",
   "mimetype": "text/x-python",
   "name": "python",
   "nbconvert_exporter": "python",
   "pygments_lexer": "ipython3",
   "version": "3.8.8"
  }
 },
 "nbformat": 4,
 "nbformat_minor": 5
}
